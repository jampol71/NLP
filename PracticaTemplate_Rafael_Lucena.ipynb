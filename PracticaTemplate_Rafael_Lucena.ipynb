{
  "nbformat": 4,
  "nbformat_minor": 0,
  "metadata": {
    "colab": {
      "name": "PracticaTemplate_RL_v8.ipynb",
      "version": "0.3.2",
      "views": {},
      "default_view": {},
      "provenance": [],
      "collapsed_sections": [],
      "toc_visible": true
    },
    "kernelspec": {
      "name": "python3",
      "display_name": "Python 3"
    },
    "accelerator": "GPU"
  },
  "cells": [
    {
      "metadata": {
        "id": "nWkE78ZISz4S",
        "colab_type": "code",
        "colab": {
          "autoexec": {
            "startup": false,
            "wait_interval": 0
          },
          "base_uri": "https://localhost:8080/",
          "height": 34
        },
        "outputId": "486b9495-befc-4833-d388-d1a2e4788503",
        "executionInfo": {
          "status": "ok",
          "timestamp": 1532251384505,
          "user_tz": -120,
          "elapsed": 2345,
          "user": {
            "displayName": "pedro oftalmo",
            "photoUrl": "https://lh3.googleusercontent.com/a/default-user=s128",
            "userId": "103534249081506905925"
          }
        }
      },
      "cell_type": "code",
      "source": [
        "!ls"
      ],
      "execution_count": 95,
      "outputs": [
        {
          "output_type": "stream",
          "text": [
            "datalab  nltk_data  train_sentiment_utf8.csv\r\n"
          ],
          "name": "stdout"
        }
      ]
    },
    {
      "metadata": {
        "id": "pRJ7fiaDYMqo",
        "colab_type": "text"
      },
      "cell_type": "markdown",
      "source": [
        "# Introducción \n",
        "\n",
        "La idea de la práctica es visitar aquellos temas que en cierta manera nos permitan ver más contenido del curso.\n",
        "\n",
        "La práctica esta dividida en 4 o 5 subapartados, que ya tenéis en este mismo Notebook. Estos subapartados estan aquí para que rellenéis el código que hace falta para la realización de la práctica. Obviamente podéis usar tantas celdas como os hagan falta, es más es de agradecer si el código final esta algo \"limpio\". Usar funciones, algo de comentario, etc, etc...\n",
        "\n",
        "Usaremos 2 datasets, uno para el primer ejercicio, y otro para el resto de ejercicios.\n",
        "\n",
        "Ejercicios:\n",
        "\n",
        "\n",
        "1.   Machine Learning vs Deep Learning (Acordaros que hay que implementar el pipeline visto en clase entero)\n",
        "\n",
        "    1.1. Implementación de un modelo de Sentiment Analysis con algún algoritmo de Machine Learning Clásico.\n",
        "    \n",
        "    1.2. Implementación de un modelo de Sentiment Analysis con alguna arquitectura de Deep Learning.\n",
        "    \n",
        "    1.3. Breve Comparación de resultados. Confusion Matrix.\n",
        "    \n",
        "2. Hacer Analysis de los tweets del segundo dataset. Que temas aparecen? Como se representan estos temas? De que hablan unos y otros?\n",
        "\n",
        "3. Escoged a uno de los dos presidentes, y escribid tweets como ellos, usando un Modelo Generativo.\n",
        "\n",
        "En cada ejercicio, espero explicaciones y razonamientos del porque una arquitectura y no otra, por ejemplo en Deep Learning, porque usar Convolutionals en lugar de recurrentes, o en Machine Learning, Bayes en lugar de SVM. Hay que explicar el pipeline, sobretodo el preproceso de datos, con lo que habrá que hacer un pequeño estudio de que datos tenemos, y si hay cosas que se pueden ignorar, si hacéis stemming, o no, etc, etc...\n",
        "\n",
        "Acordaros de que objetivo final no es que obtengáis una accuracy brutal, es que comprendais que pasa cuando usais un algoritmo u otro, y que problemas o beneficios nos dan.\n",
        "\n",
        "![](https://i.pinimg.com/736x/19/63/8c/19638c0b33e2f7822d6806ce31d89d84--funny-cartoons-funny-jokes.jpg =400x)\n",
        "\n",
        "Mucha suerte y ánimo!\n",
        "\n"
      ]
    },
    {
      "metadata": {
        "id": "ZbMfc2DtHW44",
        "colab_type": "text"
      },
      "cell_type": "markdown",
      "source": [
        "#Instalamos librerías"
      ]
    },
    {
      "metadata": {
        "id": "i8dKzbEOHcHR",
        "colab_type": "code",
        "colab": {
          "autoexec": {
            "startup": false,
            "wait_interval": 0
          },
          "base_uri": "https://localhost:8080/",
          "height": 1244
        },
        "outputId": "a13de56a-334a-4036-9563-3f6795fa515a",
        "executionInfo": {
          "status": "ok",
          "timestamp": 1532249061859,
          "user_tz": -120,
          "elapsed": 306367,
          "user": {
            "displayName": "pedro oftalmo",
            "photoUrl": "https://lh3.googleusercontent.com/a/default-user=s128",
            "userId": "103534249081506905925"
          }
        }
      },
      "cell_type": "code",
      "source": [
        "!pip install spacy"
      ],
      "execution_count": 4,
      "outputs": [
        {
          "output_type": "stream",
          "text": [
            "Collecting spacy\n",
            "\u001b[?25l  Downloading https://files.pythonhosted.org/packages/24/de/ac14cd453c98656d6738a5669f96a4ac7f668493d5e6b78227ac933c5fd4/spacy-2.0.12.tar.gz (22.0MB)\n",
            "\u001b[K    100% |████████████████████████████████| 22.0MB 1.8MB/s \n",
            "\u001b[?25hRequirement already satisfied: numpy>=1.7 in /usr/local/lib/python3.6/dist-packages (from spacy) (1.14.5)\n",
            "Collecting murmurhash<0.29,>=0.28 (from spacy)\n",
            "  Downloading https://files.pythonhosted.org/packages/5e/31/c8c1ecafa44db30579c8c457ac7a0f819e8b1dbc3e58308394fff5ff9ba7/murmurhash-0.28.0.tar.gz\n",
            "Collecting cymem<1.32,>=1.30 (from spacy)\n",
            "  Downloading https://files.pythonhosted.org/packages/f8/9e/273fbea507de99166c11cd0cb3fde1ac01b5bc724d9a407a2f927ede91a1/cymem-1.31.2.tar.gz\n",
            "Collecting preshed<2.0.0,>=1.0.0 (from spacy)\n",
            "\u001b[?25l  Downloading https://files.pythonhosted.org/packages/be/fc/09684555ce0ee7086675e6be698e4efeb6d9b315fd5aa96bed347572282b/preshed-1.0.1.tar.gz (112kB)\n",
            "\u001b[K    100% |████████████████████████████████| 122kB 18.2MB/s \n",
            "\u001b[?25hCollecting thinc<6.11.0,>=6.10.3 (from spacy)\n",
            "\u001b[?25l  Downloading https://files.pythonhosted.org/packages/94/b1/47a88072d0a38b3594c0a638a62f9ef7c742b8b8a87f7b105f7ed720b14b/thinc-6.10.3.tar.gz (1.2MB)\n",
            "\u001b[K    100% |████████████████████████████████| 1.2MB 13.6MB/s \n",
            "\u001b[?25hCollecting plac<1.0.0,>=0.9.6 (from spacy)\n",
            "  Downloading https://files.pythonhosted.org/packages/9e/9b/62c60d2f5bc135d2aa1d8c8a86aaf84edb719a59c7f11a4316259e61a298/plac-0.9.6-py2.py3-none-any.whl\n",
            "Collecting ujson>=1.35 (from spacy)\n",
            "\u001b[?25l  Downloading https://files.pythonhosted.org/packages/16/c4/79f3409bc710559015464e5f49b9879430d8f87498ecdc335899732e5377/ujson-1.35.tar.gz (192kB)\n",
            "\u001b[K    100% |████████████████████████████████| 194kB 17.8MB/s \n",
            "\u001b[?25hCollecting dill<0.3,>=0.2 (from spacy)\n",
            "\u001b[?25l  Downloading https://files.pythonhosted.org/packages/6f/78/8b96476f4ae426db71c6e86a8e6a81407f015b34547e442291cd397b18f3/dill-0.2.8.2.tar.gz (150kB)\n",
            "\u001b[K    100% |████████████████████████████████| 153kB 22.9MB/s \n",
            "\u001b[?25hCollecting regex==2017.4.5 (from spacy)\n",
            "\u001b[?25l  Downloading https://files.pythonhosted.org/packages/36/62/c0c0d762ffd4ffaf39f372eb8561b8d491a11ace5a7884610424a8b40f95/regex-2017.04.05.tar.gz (601kB)\n",
            "\u001b[K    100% |████████████████████████████████| 604kB 8.9MB/s \n",
            "\u001b[?25hRequirement already satisfied: requests<3.0.0,>=2.13.0 in /usr/local/lib/python3.6/dist-packages (from spacy) (2.18.4)\n",
            "Collecting msgpack<1.0.0,>=0.5.6 (from thinc<6.11.0,>=6.10.3->spacy)\n",
            "\u001b[?25l  Downloading https://files.pythonhosted.org/packages/22/4e/dcf124fd97e5f5611123d6ad9f40ffd6eb979d1efdc1049e28a795672fcd/msgpack-0.5.6-cp36-cp36m-manylinux1_x86_64.whl (315kB)\n",
            "\u001b[K    100% |████████████████████████████████| 317kB 18.7MB/s \n",
            "\u001b[?25hCollecting msgpack-numpy<1.0.0,>=0.4.1 (from thinc<6.11.0,>=6.10.3->spacy)\n",
            "  Downloading https://files.pythonhosted.org/packages/84/09/fc890664a7a1dd0a88f46c93fb9340d0a27a69e82095a4a54aef2ed94a6d/msgpack_numpy-0.4.3.1-py2.py3-none-any.whl\n",
            "Collecting cytoolz<0.10,>=0.9.0 (from thinc<6.11.0,>=6.10.3->spacy)\n",
            "\u001b[?25l  Downloading https://files.pythonhosted.org/packages/36/f4/9728ba01ccb2f55df9a5af029b48ba0aaca1081bbd7823ea2ee223ba7a42/cytoolz-0.9.0.1.tar.gz (443kB)\n",
            "\u001b[K    100% |████████████████████████████████| 450kB 20.1MB/s \n",
            "\u001b[?25hCollecting wrapt<1.11.0,>=1.10.0 (from thinc<6.11.0,>=6.10.3->spacy)\n",
            "  Downloading https://files.pythonhosted.org/packages/a0/47/66897906448185fcb77fc3c2b1bc20ed0ecca81a0f2f88eda3fc5a34fc3d/wrapt-1.10.11.tar.gz\n",
            "Collecting tqdm<5.0.0,>=4.10.0 (from thinc<6.11.0,>=6.10.3->spacy)\n",
            "\u001b[?25l  Downloading https://files.pythonhosted.org/packages/93/24/6ab1df969db228aed36a648a8959d1027099ce45fad67532b9673d533318/tqdm-4.23.4-py2.py3-none-any.whl (42kB)\n",
            "\u001b[K    100% |████████████████████████████████| 51kB 9.1MB/s \n",
            "\u001b[?25hRequirement already satisfied: six<2.0.0,>=1.10.0 in /usr/local/lib/python3.6/dist-packages (from thinc<6.11.0,>=6.10.3->spacy) (1.11.0)\n",
            "Requirement already satisfied: chardet<3.1.0,>=3.0.2 in /usr/local/lib/python3.6/dist-packages (from requests<3.0.0,>=2.13.0->spacy) (3.0.4)\n",
            "Requirement already satisfied: idna<2.7,>=2.5 in /usr/local/lib/python3.6/dist-packages (from requests<3.0.0,>=2.13.0->spacy) (2.6)\n",
            "Requirement already satisfied: certifi>=2017.4.17 in /usr/local/lib/python3.6/dist-packages (from requests<3.0.0,>=2.13.0->spacy) (2018.4.16)\n",
            "Requirement already satisfied: urllib3<1.23,>=1.21.1 in /usr/local/lib/python3.6/dist-packages (from requests<3.0.0,>=2.13.0->spacy) (1.22)\n",
            "Requirement already satisfied: toolz>=0.8.0 in /usr/local/lib/python3.6/dist-packages (from cytoolz<0.10,>=0.9.0->thinc<6.11.0,>=6.10.3->spacy) (0.9.0)\n",
            "Building wheels for collected packages: spacy, murmurhash, cymem, preshed, thinc, ujson, dill, regex, cytoolz, wrapt\n",
            "  Running setup.py bdist_wheel for spacy ... \u001b[?25l-\b \b\\\b \b|\b \b/\b \b-\b \b\\\b \b|\b \b/\b \b-"
          ],
          "name": "stdout"
        },
        {
          "output_type": "stream",
          "text": [
            "\b \b\\\b \b|\b \b/\b \b-\b \b\\\b \b|\b \b/\b \b-\b \b\\\b \b|\b \b/\b \b-\b \b\\\b \b|\b \b/\b \b-\b \b\\\b \b|\b \b/\b \b-\b \b\\\b \b|\b \b/\b \b-\b \b\\\b \b|\b \b/\b \b-\b \b\\\b \b|\b \b/\b \b-\b \b\\\b \b|\b \b/\b \b-\b \b\\\b \b|\b \b/\b \b-\b \b\\\b \b|\b \b/\b \b-\b \b\\\b \b|\b \b/\b \b-\b \b\\\b \b|\b \b/\b \b-\b \b\\\b \b|\b \b/\b \b-\b \b\\\b \b|\b \b/\b \b-\b \b\\\b \b|\b \b/\b \b-\b \b\\\b \b|\b \b/\b \b-\b \b\\\b \b|\b \b/\b \b-\b \b\\\b \b|\b \bdone\n",
            "\u001b[?25h  Stored in directory: /content/.cache/pip/wheels/60/0b/bb/7c2e28db574dbb2358176934eddd32a1c5f838ba0bc23eaaab\n",
            "  Running setup.py bdist_wheel for murmurhash ... \u001b[?25l-\b \b\\\b \b|\b \b/\b \bdone\n",
            "\u001b[?25h  Stored in directory: /content/.cache/pip/wheels/b8/94/a4/f69f8664cdc1098603df44771b7fec5fd1b3d8364cdd83f512\n",
            "  Running setup.py bdist_wheel for cymem ... \u001b[?25l-\b \b\\\b \bdone\n",
            "\u001b[?25h  Stored in directory: /content/.cache/pip/wheels/55/8d/4a/f6328252aa2aaec0b1cb906fd96a1566d77f0f67701071ad13\n",
            "  Running setup.py bdist_wheel for preshed ... \u001b[?25l-\b \b\\\b \b|\b \b/\b \b-\b \b\\\b \b|\b \bdone\n",
            "\u001b[?25h  Stored in directory: /content/.cache/pip/wheels/ca/e5/8b/73706d7232da301838e0bc564367a2f7b2fc8f834228fc8a4b\n",
            "  Running setup.py bdist_wheel for thinc ... \u001b[?25l-\b \b\\\b \b|\b \b/\b \b-\b \b\\\b \b|\b \b/\b \b-\b \b\\\b \b|\b \b/\b \b-\b \b\\\b \b|\b \b/\b \b-\b \b\\\b \b|\b \b/\b \b-\b \b\\\b \b|\b \b/\b \b-\b \bdone\n",
            "\u001b[?25h  Stored in directory: /content/.cache/pip/wheels/db/bc/e1/9b321b6b203288cf636a56e668ed5700076af4ed66062278ca\n",
            "  Running setup.py bdist_wheel for ujson ... \u001b[?25l-\b \b\\\b \b|\b \b/\b \b-\b \b\\\b \bdone\n",
            "\u001b[?25h  Stored in directory: /content/.cache/pip/wheels/28/77/e4/0311145b9c2e2f01470e744855131f9e34d6919687550f87d1\n",
            "  Running setup.py bdist_wheel for dill ... \u001b[?25l-\b \b\\\b \bdone\n",
            "\u001b[?25h  Stored in directory: /content/.cache/pip/wheels/e2/5d/17/f87cb7751896ac629b435a8696f83ee75b11029f5d6f6bda72\n",
            "  Running setup.py bdist_wheel for regex ... \u001b[?25l-\b \b\\\b \b|\b \b/\b \b-\b \b\\\b \b|\b \bdone\n",
            "\u001b[?25h  Stored in directory: /content/.cache/pip/wheels/75/07/38/3c16b529d50cb4e0cd3dbc7b75cece8a09c132692c74450b01\n",
            "  Running setup.py bdist_wheel for cytoolz ... \u001b[?25l-\b \b\\\b \b|\b \b/\b \b-\b \b\\\b \b|\b \b/\b \bdone\n",
            "\u001b[?25h  Stored in directory: /content/.cache/pip/wheels/88/f3/11/9817b001e59ab04889e8cffcbd9087e2e2155b9ebecfc8dd38\n",
            "  Running setup.py bdist_wheel for wrapt ... \u001b[?25l-"
          ],
          "name": "stdout"
        },
        {
          "output_type": "stream",
          "text": [
            "\b \b\\\b \bdone\n",
            "\u001b[?25h  Stored in directory: /content/.cache/pip/wheels/48/5d/04/22361a593e70d23b1f7746d932802efe1f0e523376a74f321e\n",
            "Successfully built spacy murmurhash cymem preshed thinc ujson dill regex cytoolz wrapt\n",
            "Installing collected packages: murmurhash, cymem, preshed, msgpack, msgpack-numpy, cytoolz, wrapt, plac, tqdm, dill, thinc, ujson, regex, spacy\n",
            "Successfully installed cymem-1.31.2 cytoolz-0.9.0.1 dill-0.2.8.2 msgpack-0.5.6 msgpack-numpy-0.4.3.1 murmurhash-0.28.0 plac-0.9.6 preshed-1.0.1 regex-2017.4.5 spacy-2.0.12 thinc-6.10.3 tqdm-4.23.4 ujson-1.35 wrapt-1.10.11\n",
            "\u001b[33mYou are using pip version 10.0.1, however version 18.0 is available.\n",
            "You should consider upgrading via the 'pip install --upgrade pip' command.\u001b[0m\n"
          ],
          "name": "stdout"
        }
      ]
    },
    {
      "metadata": {
        "id": "3dTZqsKhHiOW",
        "colab_type": "code",
        "colab": {
          "autoexec": {
            "startup": false,
            "wait_interval": 0
          },
          "base_uri": "https://localhost:8080/",
          "height": 292
        },
        "outputId": "0795d8f2-cd57-4f0a-bd03-9ed2fd88167f",
        "executionInfo": {
          "status": "ok",
          "timestamp": 1532249080741,
          "user_tz": -120,
          "elapsed": 18843,
          "user": {
            "displayName": "pedro oftalmo",
            "photoUrl": "https://lh3.googleusercontent.com/a/default-user=s128",
            "userId": "103534249081506905925"
          }
        }
      },
      "cell_type": "code",
      "source": [
        "!python -m spacy download es_core_news_md"
      ],
      "execution_count": 5,
      "outputs": [
        {
          "output_type": "stream",
          "text": [
            "Collecting es_core_news_md==2.0.0 from https://github.com/explosion/spacy-models/releases/download/es_core_news_md-2.0.0/es_core_news_md-2.0.0.tar.gz#egg=es_core_news_md==2.0.0\n",
            "\u001b[?25l  Downloading https://github.com/explosion/spacy-models/releases/download/es_core_news_md-2.0.0/es_core_news_md-2.0.0.tar.gz (98.5MB)\n",
            "\u001b[K    100% |████████████████████████████████| 98.5MB 44.1MB/s \n",
            "\u001b[?25hInstalling collected packages: es-core-news-md\n",
            "  Running setup.py install for es-core-news-md ... \u001b[?25l-\b \b\\\b \b|\b \b/\b \b-\b \b\\\b \b|\b \b/\b \bdone\n",
            "\u001b[?25hSuccessfully installed es-core-news-md-2.0.0\n",
            "\u001b[33mYou are using pip version 10.0.1, however version 18.0 is available.\n",
            "You should consider upgrading via the 'pip install --upgrade pip' command.\u001b[0m\n",
            "\n",
            "\u001b[93m    Linking successful\u001b[0m\n",
            "    /usr/local/lib/python3.6/dist-packages/es_core_news_md -->\n",
            "    /usr/local/lib/python3.6/dist-packages/spacy/data/es_core_news_md\n",
            "\n",
            "    You can now load the model via spacy.load('es_core_news_md')\n",
            "\n"
          ],
          "name": "stdout"
        }
      ]
    },
    {
      "metadata": {
        "id": "8k2cb-2BHm69",
        "colab_type": "code",
        "colab": {
          "autoexec": {
            "startup": false,
            "wait_interval": 0
          },
          "base_uri": "https://localhost:8080/",
          "height": 272
        },
        "outputId": "64c6856c-6653-4305-aa7c-d5ea0a2cdfe3",
        "executionInfo": {
          "status": "ok",
          "timestamp": 1532249100296,
          "user_tz": -120,
          "elapsed": 19401,
          "user": {
            "displayName": "pedro oftalmo",
            "photoUrl": "https://lh3.googleusercontent.com/a/default-user=s128",
            "userId": "103534249081506905925"
          }
        }
      },
      "cell_type": "code",
      "source": [
        "!python -m spacy download en_core_web_md"
      ],
      "execution_count": 6,
      "outputs": [
        {
          "output_type": "stream",
          "text": [
            "Collecting en_core_web_md==2.0.0 from https://github.com/explosion/spacy-models/releases/download/en_core_web_md-2.0.0/en_core_web_md-2.0.0.tar.gz#egg=en_core_web_md==2.0.0\n",
            "\u001b[?25l  Downloading https://github.com/explosion/spacy-models/releases/download/en_core_web_md-2.0.0/en_core_web_md-2.0.0.tar.gz (120.8MB)\n",
            "\u001b[K    100% |████████████████████████████████| 120.9MB 47.9MB/s \n",
            "\u001b[?25hInstalling collected packages: en-core-web-md\n",
            "  Running setup.py install for en-core-web-md ... \u001b[?25l-\b \b\\\b \b|\b \b/\b \b-\b \b\\\b \b|\b \bdone\n",
            "\u001b[?25hSuccessfully installed en-core-web-md-2.0.0\n",
            "\u001b[33mYou are using pip version 10.0.1, however version 18.0 is available.\n",
            "You should consider upgrading via the 'pip install --upgrade pip' command.\u001b[0m\n",
            "\n",
            "\u001b[93m    Linking successful\u001b[0m\n",
            "    /usr/local/lib/python3.6/dist-packages/en_core_web_md -->\n",
            "    /usr/local/lib/python3.6/dist-packages/spacy/data/en_core_web_md\n",
            "\n",
            "    You can now load the model via spacy.load('en_core_web_md')\n",
            "\n"
          ],
          "name": "stdout"
        }
      ]
    },
    {
      "metadata": {
        "id": "MTQ1c_VaT1kj",
        "colab_type": "code",
        "colab": {
          "autoexec": {
            "startup": false,
            "wait_interval": 0
          },
          "base_uri": "https://localhost:8080/",
          "height": 204
        },
        "outputId": "1e777935-96cc-4027-d7b7-8a8363f6258b",
        "executionInfo": {
          "status": "ok",
          "timestamp": 1532249104390,
          "user_tz": -120,
          "elapsed": 3938,
          "user": {
            "displayName": "pedro oftalmo",
            "photoUrl": "https://lh3.googleusercontent.com/a/default-user=s128",
            "userId": "103534249081506905925"
          }
        }
      },
      "cell_type": "code",
      "source": [
        "!pip install emoji"
      ],
      "execution_count": 7,
      "outputs": [
        {
          "output_type": "stream",
          "text": [
            "Collecting emoji\n",
            "\u001b[?25l  Downloading https://files.pythonhosted.org/packages/47/e7/cf76e0774b13459e61ffe16a042a35f42e292aeebba060b919c05b0854ab/emoji-0.5.0.tar.gz (41kB)\n",
            "\u001b[K    100% |████████████████████████████████| 51kB 8.2MB/s \n",
            "\u001b[?25hBuilding wheels for collected packages: emoji\n",
            "  Running setup.py bdist_wheel for emoji ... \u001b[?25l-\b \bdone\n",
            "\u001b[?25h  Stored in directory: /content/.cache/pip/wheels/5d/60/eb/49bb6f75caa1bd0b277d43bd14ac3ea1db3e5ed030d2013852\n",
            "Successfully built emoji\n",
            "Installing collected packages: emoji\n",
            "Successfully installed emoji-0.5.0\n",
            "\u001b[33mYou are using pip version 10.0.1, however version 18.0 is available.\n",
            "You should consider upgrading via the 'pip install --upgrade pip' command.\u001b[0m\n"
          ],
          "name": "stdout"
        }
      ]
    },
    {
      "metadata": {
        "id": "2JZsNybB8s8q",
        "colab_type": "code",
        "colab": {
          "autoexec": {
            "startup": false,
            "wait_interval": 0
          },
          "base_uri": "https://localhost:8080/",
          "height": 768
        },
        "outputId": "a81ee9db-a1df-4b0f-da56-accc148844a9",
        "executionInfo": {
          "status": "ok",
          "timestamp": 1532249115974,
          "user_tz": -120,
          "elapsed": 11372,
          "user": {
            "displayName": "pedro oftalmo",
            "photoUrl": "https://lh3.googleusercontent.com/a/default-user=s128",
            "userId": "103534249081506905925"
          }
        }
      },
      "cell_type": "code",
      "source": [
        "!pip install gensim"
      ],
      "execution_count": 8,
      "outputs": [
        {
          "output_type": "stream",
          "text": [
            "Collecting gensim\n",
            "\u001b[?25l  Downloading https://files.pythonhosted.org/packages/86/f3/37504f07651330ddfdefa631ca5246974a60d0908216539efda842fd080f/gensim-3.5.0-cp36-cp36m-manylinux1_x86_64.whl (23.5MB)\n",
            "\u001b[K    100% |████████████████████████████████| 23.5MB 1.8MB/s \n",
            "\u001b[?25hRequirement already satisfied: scipy>=0.18.1 in /usr/local/lib/python3.6/dist-packages (from gensim) (0.19.1)\n",
            "Requirement already satisfied: numpy>=1.11.3 in /usr/local/lib/python3.6/dist-packages (from gensim) (1.14.5)\n",
            "Collecting smart-open>=1.2.1 (from gensim)\n",
            "  Downloading https://files.pythonhosted.org/packages/cf/3d/5f3a9a296d0ba8e00e263a8dee76762076b9eb5ddc254ccaa834651c8d65/smart_open-1.6.0.tar.gz\n",
            "Requirement already satisfied: six>=1.5.0 in /usr/local/lib/python3.6/dist-packages (from gensim) (1.11.0)\n",
            "Collecting boto>=2.32 (from smart-open>=1.2.1->gensim)\n",
            "\u001b[?25l  Downloading https://files.pythonhosted.org/packages/23/10/c0b78c27298029e4454a472a1919bde20cb182dab1662cec7f2ca1dcc523/boto-2.49.0-py2.py3-none-any.whl (1.4MB)\n",
            "\u001b[K    100% |████████████████████████████████| 1.4MB 13.5MB/s \n",
            "\u001b[?25hCollecting bz2file (from smart-open>=1.2.1->gensim)\n",
            "  Downloading https://files.pythonhosted.org/packages/61/39/122222b5e85cd41c391b68a99ee296584b2a2d1d233e7ee32b4532384f2d/bz2file-0.98.tar.gz\n",
            "Requirement already satisfied: requests in /usr/local/lib/python3.6/dist-packages (from smart-open>=1.2.1->gensim) (2.18.4)\n",
            "Collecting boto3 (from smart-open>=1.2.1->gensim)\n",
            "\u001b[?25l  Downloading https://files.pythonhosted.org/packages/2b/69/ce291161cc82e3edad9f057b9158f5723882d41d8935d6aa5a53a26bb8b7/boto3-1.7.62-py2.py3-none-any.whl (128kB)\n",
            "\u001b[K    100% |████████████████████████████████| 133kB 21.6MB/s \n",
            "\u001b[?25hRequirement already satisfied: idna<2.7,>=2.5 in /usr/local/lib/python3.6/dist-packages (from requests->smart-open>=1.2.1->gensim) (2.6)\n",
            "Requirement already satisfied: certifi>=2017.4.17 in /usr/local/lib/python3.6/dist-packages (from requests->smart-open>=1.2.1->gensim) (2018.4.16)\n",
            "Requirement already satisfied: urllib3<1.23,>=1.21.1 in /usr/local/lib/python3.6/dist-packages (from requests->smart-open>=1.2.1->gensim) (1.22)\n",
            "Requirement already satisfied: chardet<3.1.0,>=3.0.2 in /usr/local/lib/python3.6/dist-packages (from requests->smart-open>=1.2.1->gensim) (3.0.4)\n",
            "Collecting jmespath<1.0.0,>=0.7.1 (from boto3->smart-open>=1.2.1->gensim)\n",
            "  Downloading https://files.pythonhosted.org/packages/b7/31/05c8d001f7f87f0f07289a5fc0fc3832e9a57f2dbd4d3b0fee70e0d51365/jmespath-0.9.3-py2.py3-none-any.whl\n",
            "Collecting s3transfer<0.2.0,>=0.1.10 (from boto3->smart-open>=1.2.1->gensim)\n",
            "\u001b[?25l  Downloading https://files.pythonhosted.org/packages/d7/14/2a0004d487464d120c9fb85313a75cd3d71a7506955be458eebfe19a6b1d/s3transfer-0.1.13-py2.py3-none-any.whl (59kB)\n",
            "\u001b[K    100% |████████████████████████████████| 61kB 18.6MB/s \n",
            "\u001b[?25hCollecting botocore<1.11.0,>=1.10.62 (from boto3->smart-open>=1.2.1->gensim)\n",
            "\u001b[?25l  Downloading https://files.pythonhosted.org/packages/24/ec/95df2edaa21e426581f41745e0de355170b8cb6eed2a2a5641c0c348df33/botocore-1.10.62-py2.py3-none-any.whl (4.4MB)\n",
            "\u001b[K    100% |████████████████████████████████| 4.4MB 6.2MB/s \n",
            "\u001b[?25hRequirement already satisfied: python-dateutil<3.0.0,>=2.1; python_version >= \"2.7\" in /usr/local/lib/python3.6/dist-packages (from botocore<1.11.0,>=1.10.62->boto3->smart-open>=1.2.1->gensim) (2.5.3)\n",
            "Collecting docutils>=0.10 (from botocore<1.11.0,>=1.10.62->boto3->smart-open>=1.2.1->gensim)\n",
            "\u001b[?25l  Downloading https://files.pythonhosted.org/packages/36/fa/08e9e6e0e3cbd1d362c3bbee8d01d0aedb2155c4ac112b19ef3cae8eed8d/docutils-0.14-py3-none-any.whl (543kB)\n",
            "\u001b[K    100% |████████████████████████████████| 552kB 18.1MB/s \n",
            "\u001b[?25hBuilding wheels for collected packages: smart-open, bz2file\n",
            "  Running setup.py bdist_wheel for smart-open ... \u001b[?25l-\b \bdone\n",
            "\u001b[?25h  Stored in directory: /content/.cache/pip/wheels/73/f1/9b/ccf93d4ba073b6f79b1ed9df68ab5ce048d8136d0efcf90b30\n",
            "  Running setup.py bdist_wheel for bz2file ... \u001b[?25l-\b \bdone\n",
            "\u001b[?25h  Stored in directory: /content/.cache/pip/wheels/81/75/d6/e1317bf09bf1af5a30befc2a007869fa6e1f516b8f7c591cb9\n",
            "Successfully built smart-open bz2file\n",
            "Installing collected packages: boto, bz2file, jmespath, docutils, botocore, s3transfer, boto3, smart-open, gensim\n",
            "Successfully installed boto-2.49.0 boto3-1.7.62 botocore-1.10.62 bz2file-0.98 docutils-0.14 gensim-3.5.0 jmespath-0.9.3 s3transfer-0.1.13 smart-open-1.6.0\n",
            "\u001b[33mYou are using pip version 10.0.1, however version 18.0 is available.\n",
            "You should consider upgrading via the 'pip install --upgrade pip' command.\u001b[0m\n"
          ],
          "name": "stdout"
        }
      ]
    },
    {
      "metadata": {
        "id": "ItOvJ-BG8S7k",
        "colab_type": "code",
        "colab": {
          "autoexec": {
            "startup": false,
            "wait_interval": 0
          },
          "base_uri": "https://localhost:8080/",
          "height": 731
        },
        "outputId": "85d945c3-3a0d-4f2c-b0a9-c3786e5422b1",
        "executionInfo": {
          "status": "ok",
          "timestamp": 1532249122928,
          "user_tz": -120,
          "elapsed": 6610,
          "user": {
            "displayName": "pedro oftalmo",
            "photoUrl": "https://lh3.googleusercontent.com/a/default-user=s128",
            "userId": "103534249081506905925"
          }
        }
      },
      "cell_type": "code",
      "source": [
        "!pip install pyLDAvis"
      ],
      "execution_count": 9,
      "outputs": [
        {
          "output_type": "stream",
          "text": [
            "Collecting pyLDAvis\n",
            "\u001b[?25l  Downloading https://files.pythonhosted.org/packages/a5/3a/af82e070a8a96e13217c8f362f9a73e82d61ac8fff3a2561946a97f96266/pyLDAvis-2.1.2.tar.gz (1.6MB)\n",
            "\u001b[K    100% |████████████████████████████████| 1.6MB 13.8MB/s \n",
            "\u001b[?25hRequirement already satisfied: wheel>=0.23.0 in /usr/local/lib/python3.6/dist-packages (from pyLDAvis) (0.31.1)\n",
            "Requirement already satisfied: numpy>=1.9.2 in /usr/local/lib/python3.6/dist-packages (from pyLDAvis) (1.14.5)\n",
            "Requirement already satisfied: scipy>=0.18.0 in /usr/local/lib/python3.6/dist-packages (from pyLDAvis) (0.19.1)\n",
            "Requirement already satisfied: pandas>=0.17.0 in /usr/local/lib/python3.6/dist-packages (from pyLDAvis) (0.22.0)\n",
            "Collecting joblib>=0.8.4 (from pyLDAvis)\n",
            "\u001b[?25l  Downloading https://files.pythonhosted.org/packages/e8/48/f02facae79e690f2ec38dbe021a90942b4896645ffc3b3273cc835370fe9/joblib-0.12.1-py2.py3-none-any.whl (259kB)\n",
            "\u001b[K    100% |████████████████████████████████| 266kB 18.9MB/s \n",
            "\u001b[?25hRequirement already satisfied: jinja2>=2.7.2 in /usr/local/lib/python3.6/dist-packages (from pyLDAvis) (2.10)\n",
            "Collecting numexpr (from pyLDAvis)\n",
            "\u001b[?25l  Downloading https://files.pythonhosted.org/packages/24/a6/87a4fb2a4474fef99f12fbd4d99d54e32d5539b28b085b5e3f7b37756c73/numexpr-2.6.6-cp36-cp36m-manylinux1_x86_64.whl (162kB)\n",
            "\u001b[K    100% |████████████████████████████████| 163kB 24.0MB/s \n",
            "\u001b[?25hCollecting pytest (from pyLDAvis)\n",
            "\u001b[?25l  Downloading https://files.pythonhosted.org/packages/77/64/3a76f6fbb0f392d60c5960f2b2fbad8c2b802dada87ca6d1b99c0083a929/pytest-3.6.3-py2.py3-none-any.whl (195kB)\n",
            "\u001b[K    100% |████████████████████████████████| 204kB 23.3MB/s \n",
            "\u001b[?25hRequirement already satisfied: future in /usr/local/lib/python3.6/dist-packages (from pyLDAvis) (0.16.0)\n",
            "Collecting funcy (from pyLDAvis)\n",
            "  Downloading https://files.pythonhosted.org/packages/05/da/03e74264b3289be52a54733960d2e1b2dbe5190b64c8489f63c2f072bfc0/funcy-1.10.3-py2.py3-none-any.whl\n",
            "Requirement already satisfied: pytz>=2011k in /usr/local/lib/python3.6/dist-packages (from pandas>=0.17.0->pyLDAvis) (2018.5)\n",
            "Requirement already satisfied: python-dateutil>=2 in /usr/local/lib/python3.6/dist-packages (from pandas>=0.17.0->pyLDAvis) (2.5.3)\n",
            "Requirement already satisfied: MarkupSafe>=0.23 in /usr/local/lib/python3.6/dist-packages (from jinja2>=2.7.2->pyLDAvis) (1.0)\n",
            "Collecting attrs>=17.4.0 (from pytest->pyLDAvis)\n",
            "  Downloading https://files.pythonhosted.org/packages/41/59/cedf87e91ed541be7957c501a92102f9cc6363c623a7666d69d51c78ac5b/attrs-18.1.0-py2.py3-none-any.whl\n",
            "Collecting more-itertools>=4.0.0 (from pytest->pyLDAvis)\n",
            "\u001b[?25l  Downloading https://files.pythonhosted.org/packages/85/40/90c3b0393e12b9827381004224de8814686e3d7182f9d4182477f600826d/more_itertools-4.2.0-py3-none-any.whl (45kB)\n",
            "\u001b[K    100% |████████████████████████████████| 51kB 19.3MB/s \n",
            "\u001b[?25hCollecting atomicwrites>=1.0 (from pytest->pyLDAvis)\n",
            "  Downloading https://files.pythonhosted.org/packages/0a/e8/cd6375e7a59664eeea9e1c77a766eeac0fc3083bb958c2b41ec46b95f29c/atomicwrites-1.1.5-py2.py3-none-any.whl\n",
            "Requirement already satisfied: pluggy<0.7,>=0.5 in /usr/local/lib/python3.6/dist-packages (from pytest->pyLDAvis) (0.6.0)\n",
            "Requirement already satisfied: setuptools in /usr/local/lib/python3.6/dist-packages (from pytest->pyLDAvis) (39.1.0)\n",
            "Requirement already satisfied: py>=1.5.0 in /usr/local/lib/python3.6/dist-packages (from pytest->pyLDAvis) (1.5.4)\n",
            "Requirement already satisfied: six>=1.10.0 in /usr/local/lib/python3.6/dist-packages (from pytest->pyLDAvis) (1.11.0)\n",
            "Building wheels for collected packages: pyLDAvis\n",
            "  Running setup.py bdist_wheel for pyLDAvis ... \u001b[?25l-\b \b\\\b \bdone\n",
            "\u001b[?25h  Stored in directory: /content/.cache/pip/wheels/98/71/24/513a99e58bb6b8465bae4d2d5e9dba8f0bef8179e3051ac414\n",
            "Successfully built pyLDAvis\n",
            "Installing collected packages: joblib, numexpr, attrs, more-itertools, atomicwrites, pytest, funcy, pyLDAvis\n",
            "Successfully installed atomicwrites-1.1.5 attrs-18.1.0 funcy-1.10.3 joblib-0.12.1 more-itertools-4.2.0 numexpr-2.6.6 pyLDAvis-2.1.2 pytest-3.6.3\n",
            "\u001b[33mYou are using pip version 10.0.1, however version 18.0 is available.\n",
            "You should consider upgrading via the 'pip install --upgrade pip' command.\u001b[0m\n"
          ],
          "name": "stdout"
        }
      ]
    },
    {
      "metadata": {
        "id": "GQs6-NK58VHN",
        "colab_type": "code",
        "colab": {
          "autoexec": {
            "startup": false,
            "wait_interval": 0
          },
          "base_uri": "https://localhost:8080/",
          "height": 272
        },
        "outputId": "8db27d3d-4701-4361-98cf-be96e38f5a60",
        "executionInfo": {
          "status": "ok",
          "timestamp": 1532249133564,
          "user_tz": -120,
          "elapsed": 10480,
          "user": {
            "displayName": "pedro oftalmo",
            "photoUrl": "https://lh3.googleusercontent.com/a/default-user=s128",
            "userId": "103534249081506905925"
          }
        }
      },
      "cell_type": "code",
      "source": [
        "!python -m spacy download en_core_web_sm"
      ],
      "execution_count": 10,
      "outputs": [
        {
          "output_type": "stream",
          "text": [
            "Collecting en_core_web_sm==2.0.0 from https://github.com/explosion/spacy-models/releases/download/en_core_web_sm-2.0.0/en_core_web_sm-2.0.0.tar.gz#egg=en_core_web_sm==2.0.0\n",
            "\u001b[?25l  Downloading https://github.com/explosion/spacy-models/releases/download/en_core_web_sm-2.0.0/en_core_web_sm-2.0.0.tar.gz (37.4MB)\n",
            "\u001b[K    100% |████████████████████████████████| 37.4MB 47.6MB/s \n",
            "\u001b[?25hInstalling collected packages: en-core-web-sm\n",
            "  Running setup.py install for en-core-web-sm ... \u001b[?25l-\b \b\\\b \b|\b \bdone\n",
            "\u001b[?25hSuccessfully installed en-core-web-sm-2.0.0\n",
            "\u001b[33mYou are using pip version 10.0.1, however version 18.0 is available.\n",
            "You should consider upgrading via the 'pip install --upgrade pip' command.\u001b[0m\n",
            "\n",
            "\u001b[93m    Linking successful\u001b[0m\n",
            "    /usr/local/lib/python3.6/dist-packages/en_core_web_sm -->\n",
            "    /usr/local/lib/python3.6/dist-packages/spacy/data/en_core_web_sm\n",
            "\n",
            "    You can now load the model via spacy.load('en_core_web_sm')\n",
            "\n"
          ],
          "name": "stdout"
        }
      ]
    },
    {
      "metadata": {
        "id": "0w7QXEFf8dba",
        "colab_type": "code",
        "colab": {
          "autoexec": {
            "startup": false,
            "wait_interval": 0
          },
          "base_uri": "https://localhost:8080/",
          "height": 187
        },
        "outputId": "08c5ad3a-1f7e-4204-9b4c-da799391d30a",
        "executionInfo": {
          "status": "ok",
          "timestamp": 1532249137914,
          "user_tz": -120,
          "elapsed": 4118,
          "user": {
            "displayName": "pedro oftalmo",
            "photoUrl": "https://lh3.googleusercontent.com/a/default-user=s128",
            "userId": "103534249081506905925"
          }
        }
      },
      "cell_type": "code",
      "source": [
        "!pip install stop_words"
      ],
      "execution_count": 11,
      "outputs": [
        {
          "output_type": "stream",
          "text": [
            "Collecting stop_words\n",
            "  Downloading https://files.pythonhosted.org/packages/60/7f/8dee73924e2cb06a223523dd661856e9b32b17202bf9c20c77de2c154d72/stop-words-2015.2.23.1.tar.gz\n",
            "Building wheels for collected packages: stop-words\n",
            "  Running setup.py bdist_wheel for stop-words ... \u001b[?25l-\b \bdone\n",
            "\u001b[?25h  Stored in directory: /content/.cache/pip/wheels/d3/60/7e/bc83ee0496b334c47a572d498f029dc7be23a96a7166187885\n",
            "Successfully built stop-words\n",
            "Installing collected packages: stop-words\n",
            "Successfully installed stop-words-2015.2.23.1\n",
            "\u001b[33mYou are using pip version 10.0.1, however version 18.0 is available.\n",
            "You should consider upgrading via the 'pip install --upgrade pip' command.\u001b[0m\n"
          ],
          "name": "stdout"
        }
      ]
    },
    {
      "metadata": {
        "id": "txSG9KAXiqBH",
        "colab_type": "code",
        "colab": {
          "autoexec": {
            "startup": false,
            "wait_interval": 0
          },
          "base_uri": "https://localhost:8080/",
          "height": 170
        },
        "outputId": "883a3a95-83fe-414f-a5d1-9b882dbf02a2",
        "executionInfo": {
          "status": "ok",
          "timestamp": 1532249141377,
          "user_tz": -120,
          "elapsed": 3365,
          "user": {
            "displayName": "pedro oftalmo",
            "photoUrl": "https://lh3.googleusercontent.com/a/default-user=s128",
            "userId": "103534249081506905925"
          }
        }
      },
      "cell_type": "code",
      "source": [
        "!pip install TextBlob"
      ],
      "execution_count": 12,
      "outputs": [
        {
          "output_type": "stream",
          "text": [
            "Collecting TextBlob\n",
            "\u001b[?25l  Downloading https://files.pythonhosted.org/packages/11/18/7f55c8be6d68ddc4036ffda5382ca51e23a1075987f708b9123712091af1/textblob-0.15.1-py2.py3-none-any.whl (631kB)\n",
            "\u001b[K    100% |████████████████████████████████| 634kB 17.5MB/s \n",
            "\u001b[?25hRequirement already satisfied: nltk>=3.1 in /usr/local/lib/python3.6/dist-packages (from TextBlob) (3.2.5)\n",
            "Requirement already satisfied: six in /usr/local/lib/python3.6/dist-packages (from nltk>=3.1->TextBlob) (1.11.0)\n",
            "Installing collected packages: TextBlob\n",
            "Successfully installed TextBlob-0.15.1\n",
            "\u001b[33mYou are using pip version 10.0.1, however version 18.0 is available.\n",
            "You should consider upgrading via the 'pip install --upgrade pip' command.\u001b[0m\n"
          ],
          "name": "stdout"
        }
      ]
    },
    {
      "metadata": {
        "id": "XT8xbYZ6VwX8",
        "colab_type": "text"
      },
      "cell_type": "markdown",
      "source": [
        "#Importamos librerias"
      ]
    },
    {
      "metadata": {
        "id": "rxg419TjVz0B",
        "colab_type": "code",
        "colab": {
          "autoexec": {
            "startup": false,
            "wait_interval": 0
          },
          "base_uri": "https://localhost:8080/",
          "height": 136
        },
        "outputId": "28fbff3a-b226-4a9c-ddb0-4bfd26cb328d",
        "executionInfo": {
          "status": "ok",
          "timestamp": 1532251394188,
          "user_tz": -120,
          "elapsed": 1532,
          "user": {
            "displayName": "pedro oftalmo",
            "photoUrl": "https://lh3.googleusercontent.com/a/default-user=s128",
            "userId": "103534249081506905925"
          }
        }
      },
      "cell_type": "code",
      "source": [
        "import re\n",
        "\n",
        "%matplotlib inline\n",
        "\n",
        "import numpy as np\n",
        "\n",
        "import pickle\n",
        "import json\n",
        "import os\n",
        "import csv\n",
        "\n",
        "import seaborn as sns\n",
        "import matplotlib as mpl\n",
        "import matplotlib.pyplot as plt\n",
        "import pandas as pd\n",
        "\n",
        "from random import sample\n",
        "\n",
        "import warnings\n",
        "warnings.filterwarnings('ignore')\n",
        "\n",
        "import pandas as pd\n",
        "import io\n",
        "\n",
        "from sklearn.model_selection import StratifiedShuffleSplit\n",
        "\n",
        "from sklearn.feature_extraction.text import CountVectorizer\n",
        "from sklearn.feature_extraction.text import TfidfTransformer\n",
        "from sklearn.naive_bayes import MultinomialNB\n",
        "from sklearn.svm import SVC\n",
        "from sklearn.model_selection import GridSearchCV\n",
        "from sklearn.pipeline import Pipeline\n",
        "\n",
        "\n",
        "from keras.preprocessing.text import Tokenizer\n",
        "from keras.preprocessing.sequence import pad_sequences\n",
        "from keras.models import Sequential\n",
        "from keras.layers import Dense, Embedding, LSTM, SpatialDropout1D\n",
        "from sklearn.model_selection import train_test_split\n",
        "from keras.utils.np_utils import to_categorical\n",
        "\n",
        "\n",
        "\n",
        "import emoji\n",
        "\n",
        "\n",
        "import gensim\n",
        "from os.path import join\n",
        "\n",
        "import spacy\n",
        "from stop_words import get_stop_words\n",
        "from string import punctuation\n",
        "import pyLDAvis.gensim\n",
        "import matplotlib.pyplot as plt\n",
        "\n",
        "import spacy\n",
        "import numpy as np\n",
        "\n",
        "import pickle\n",
        "import json\n",
        "import os\n",
        "import csv\n",
        "import pprint as pp\n",
        "\n",
        "import seaborn as sns\n",
        "import matplotlib as mpl\n",
        "import matplotlib.pyplot as plt\n",
        "import pandas as pd\n",
        "\n",
        "from random import shuffle, choice, sample\n",
        "\n",
        "from sklearn.model_selection import StratifiedShuffleSplit\n",
        "\n",
        "from copy import copy\n",
        "\n",
        "import warnings\n",
        "warnings.filterwarnings('ignore')\n",
        "\n",
        "nlp = spacy.load('en_core_web_sm')\n",
        "\n",
        "import seaborn as sns\n",
        "import matplotlib as mpl\n",
        "import matplotlib.pyplot as plt\n",
        "import pylab as pl\n",
        "from IPython import display\n",
        "\n",
        "sns.set(color_codes=True)\n",
        "\n",
        "import warnings\n",
        "warnings.filterwarnings('ignore')\n",
        "\n",
        "\n",
        "%matplotlib inline\n",
        "%load_ext autoreload\n",
        "%autoreload 2\n",
        "%matplotlib notebook\n",
        "\n",
        "from keras.models import Model, Sequential\n",
        "from keras.layers import Input, CuDNNLSTM, Dense, LSTM\n",
        "from keras.layers import Bidirectional\n",
        "from keras.layers import Embedding\n",
        "from keras.layers import Merge, Dot, Concatenate, Flatten, Permute, Multiply, dot, concatenate\n",
        "from keras.layers import TimeDistributed\n",
        "from keras.layers import Activation\n",
        "from keras.preprocessing import sequence\n",
        "from keras.callbacks import Callback\n",
        "from keras.optimizers import SGD\n",
        "from keras.models import load_model\n",
        "\n",
        "from keras.callbacks import EarlyStopping, ReduceLROnPlateau, ModelCheckpoint\n",
        "\n",
        "from collections import Counter\n",
        "\n",
        "import nltk\n",
        "nltk.download('wordnet')\n",
        "\n",
        "import nltk\n",
        "nltk.download('stopwords')\n",
        "\n",
        "\n",
        "\n"
      ],
      "execution_count": 96,
      "outputs": [
        {
          "output_type": "stream",
          "text": [
            "The autoreload extension is already loaded. To reload it, use:\n",
            "  %reload_ext autoreload\n",
            "[nltk_data] Downloading package wordnet to /content/nltk_data...\n",
            "[nltk_data]   Package wordnet is already up-to-date!\n",
            "[nltk_data] Downloading package stopwords to /content/nltk_data...\n",
            "[nltk_data]   Package stopwords is already up-to-date!\n"
          ],
          "name": "stdout"
        },
        {
          "output_type": "execute_result",
          "data": {
            "text/plain": [
              "True"
            ]
          },
          "metadata": {
            "tags": []
          },
          "execution_count": 96
        }
      ]
    },
    {
      "metadata": {
        "id": "WMESTLF1YMyO",
        "colab_type": "text"
      },
      "cell_type": "markdown",
      "source": [
        "# Dataset\n",
        "\n",
        "El dataset con el que tenemos que trabajar es un conjunto de 10000 twits en los que se incluye la etiqueta de si el mismo  tiene un caracter positivo o negativo. En dicho dataset podemos observar que el texto necesita ser preprocesado ya que tiene signos que no nos interesan, los nombre de quién los ha escrito que para esta parte no nos interesa tampoco, hay partes en mayúscula sin que tenga sentido. En fin, necesitamos un pretratamiento para poder obtener información de forma adecuada del dataset."
      ]
    },
    {
      "metadata": {
        "id": "pTygsytbo_ok",
        "colab_type": "text"
      },
      "cell_type": "markdown",
      "source": [
        "Cargamos el dataset con el que vamos a trabajar"
      ]
    },
    {
      "metadata": {
        "id": "WeUQkZ0Kp6uv",
        "colab_type": "code",
        "colab": {
          "autoexec": {
            "startup": false,
            "wait_interval": 0
          },
          "base_uri": "https://localhost:8080/",
          "height": 204
        },
        "outputId": "beb08654-f9a8-4f42-aab9-c8022348536a",
        "executionInfo": {
          "status": "ok",
          "timestamp": 1532249183958,
          "user_tz": -120,
          "elapsed": 2498,
          "user": {
            "displayName": "pedro oftalmo",
            "photoUrl": "https://lh3.googleusercontent.com/a/default-user=s128",
            "userId": "103534249081506905925"
          }
        }
      },
      "cell_type": "code",
      "source": [
        "!wget https://raw.githubusercontent.com/jampol71/NLP/master/train_sentiment_utf8.csv"
      ],
      "execution_count": 14,
      "outputs": [
        {
          "output_type": "stream",
          "text": [
            "--2018-07-22 08:46:22--  https://raw.githubusercontent.com/jampol71/NLP/master/train_sentiment_utf8.csv\n",
            "Resolving raw.githubusercontent.com (raw.githubusercontent.com)... 151.101.0.133, 151.101.64.133, 151.101.128.133, ...\n",
            "Connecting to raw.githubusercontent.com (raw.githubusercontent.com)|151.101.0.133|:443... connected.\n",
            "HTTP request sent, awaiting response... 200 OK\n",
            "Length: 8677569 (8.3M) [text/plain]\n",
            "Saving to: ‘train_sentiment_utf8.csv’\n",
            "\n",
            "train_sentiment_utf 100%[===================>]   8.28M  --.-KB/s    in 0.07s   \n",
            "\n",
            "2018-07-22 08:46:23 (121 MB/s) - ‘train_sentiment_utf8.csv’ saved [8677569/8677569]\n",
            "\n"
          ],
          "name": "stdout"
        }
      ]
    },
    {
      "metadata": {
        "id": "Ed_cmU_YhO1C",
        "colab_type": "code",
        "colab": {
          "autoexec": {
            "startup": false,
            "wait_interval": 0
          },
          "base_uri": "https://localhost:8080/",
          "height": 204
        },
        "outputId": "d8be215a-9cce-460b-eaf0-b0c3b8657ff7",
        "executionInfo": {
          "status": "ok",
          "timestamp": 1532251403314,
          "user_tz": -120,
          "elapsed": 1454,
          "user": {
            "displayName": "pedro oftalmo",
            "photoUrl": "https://lh3.googleusercontent.com/a/default-user=s128",
            "userId": "103534249081506905925"
          }
        }
      },
      "cell_type": "code",
      "source": [
        "df_train = pd.read_csv('train_sentiment_utf8.csv') \n",
        "df_train.head(5)"
      ],
      "execution_count": 97,
      "outputs": [
        {
          "output_type": "execute_result",
          "data": {
            "text/html": [
              "<div>\n",
              "<style scoped>\n",
              "    .dataframe tbody tr th:only-of-type {\n",
              "        vertical-align: middle;\n",
              "    }\n",
              "\n",
              "    .dataframe tbody tr th {\n",
              "        vertical-align: top;\n",
              "    }\n",
              "\n",
              "    .dataframe thead th {\n",
              "        text-align: right;\n",
              "    }\n",
              "</style>\n",
              "<table border=\"1\" class=\"dataframe\">\n",
              "  <thead>\n",
              "    <tr style=\"text-align: right;\">\n",
              "      <th></th>\n",
              "      <th>ItemID</th>\n",
              "      <th>Sentiment</th>\n",
              "      <th>SentimentText</th>\n",
              "    </tr>\n",
              "  </thead>\n",
              "  <tbody>\n",
              "    <tr>\n",
              "      <th>0</th>\n",
              "      <td>1</td>\n",
              "      <td>0</td>\n",
              "      <td>is so sad for my APL friend.............</td>\n",
              "    </tr>\n",
              "    <tr>\n",
              "      <th>1</th>\n",
              "      <td>2</td>\n",
              "      <td>0</td>\n",
              "      <td>I missed the New Moon trailer...</td>\n",
              "    </tr>\n",
              "    <tr>\n",
              "      <th>2</th>\n",
              "      <td>3</td>\n",
              "      <td>1</td>\n",
              "      <td>omg its already 7:30 :O</td>\n",
              "    </tr>\n",
              "    <tr>\n",
              "      <th>3</th>\n",
              "      <td>4</td>\n",
              "      <td>0</td>\n",
              "      <td>.. Omgaga. Im sooo  im gunna CRy. I've been at this dentist since 11.. I was suposed 2 just get a crown put on (30mins)...</td>\n",
              "    </tr>\n",
              "    <tr>\n",
              "      <th>4</th>\n",
              "      <td>5</td>\n",
              "      <td>0</td>\n",
              "      <td>i think mi bf is cheating on me!!!       T_T</td>\n",
              "    </tr>\n",
              "  </tbody>\n",
              "</table>\n",
              "</div>"
            ],
            "text/plain": [
              "   ItemID  Sentiment  \\\n",
              "0  1       0           \n",
              "1  2       0           \n",
              "2  3       1           \n",
              "3  4       0           \n",
              "4  5       0           \n",
              "\n",
              "                                                                                                                          SentimentText  \n",
              "0                       is so sad for my APL friend.............                                                                         \n",
              "1                     I missed the New Moon trailer...                                                                                   \n",
              "2                omg its already 7:30 :O                                                                                                 \n",
              "3            .. Omgaga. Im sooo  im gunna CRy. I've been at this dentist since 11.. I was suposed 2 just get a crown put on (30mins)...  \n",
              "4           i think mi bf is cheating on me!!!       T_T                                                                                 "
            ]
          },
          "metadata": {
            "tags": []
          },
          "execution_count": 97
        }
      ]
    },
    {
      "metadata": {
        "id": "KLmNhDAFN-uQ",
        "colab_type": "text"
      },
      "cell_type": "markdown",
      "source": [
        "#PREPROCESSING"
      ]
    },
    {
      "metadata": {
        "id": "ei-5gnbwJsCb",
        "colab_type": "text"
      },
      "cell_type": "markdown",
      "source": [
        "A continuación, se va a proceder al preprocesado de los datos que tiene el dataset. Tras ver train_sentiment_utf8.csv se puede apreciar que el texto se puede poner de mejor forma y que se pueden eliminar signos que no van a aportar nada a nuestra clasificación."
      ]
    },
    {
      "metadata": {
        "id": "58ywPZ0iWPDm",
        "colab_type": "text"
      },
      "cell_type": "markdown",
      "source": [
        "##Regex"
      ]
    },
    {
      "metadata": {
        "id": "GfulGP2d2oAw",
        "colab_type": "code",
        "colab": {
          "autoexec": {
            "startup": false,
            "wait_interval": 0
          }
        }
      },
      "cell_type": "code",
      "source": [
        "#poner el texto en minúsculas\n",
        "df_train['SentimentText'] = df_train['SentimentText'].apply(lambda x: x.lower())"
      ],
      "execution_count": 0,
      "outputs": []
    },
    {
      "metadata": {
        "id": "_pl3Ucu62swY",
        "colab_type": "code",
        "colab": {
          "autoexec": {
            "startup": false,
            "wait_interval": 0
          }
        }
      },
      "cell_type": "code",
      "source": [
        "#poner los emoticonos en texto\n",
        "df_train['SentimentText'] = df_train['SentimentText'].apply((lambda x: emoji.demojize(x)))"
      ],
      "execution_count": 0,
      "outputs": []
    },
    {
      "metadata": {
        "id": "0zKZCoHJ4qDF",
        "colab_type": "code",
        "colab": {
          "autoexec": {
            "startup": false,
            "wait_interval": 0
          }
        }
      },
      "cell_type": "code",
      "source": [
        "#eliminamos nombres de usuarios\n",
        "df_train['SentimentText'] = df_train['SentimentText'].apply((lambda x: re.sub('@[a-zA-z0-9_]+','',x)))"
      ],
      "execution_count": 0,
      "outputs": []
    },
    {
      "metadata": {
        "id": "HzoILrcn4yQo",
        "colab_type": "code",
        "colab": {
          "autoexec": {
            "startup": false,
            "wait_interval": 0
          }
        }
      },
      "cell_type": "code",
      "source": [
        "#eliminamos links\n",
        "df_train['SentimentText'] = df_train['SentimentText'].apply((lambda x: re.sub('(http|https)://[a-zA-Z0-9\\./]+','',x)))"
      ],
      "execution_count": 0,
      "outputs": []
    },
    {
      "metadata": {
        "id": "bfijFWFH45YX",
        "colab_type": "code",
        "colab": {
          "autoexec": {
            "startup": false,
            "wait_interval": 0
          }
        }
      },
      "cell_type": "code",
      "source": [
        "#eliminamos signos de puntuación\n",
        "df_train['SentimentText'] = df_train['SentimentText'].apply((lambda x: re.sub('[^a-zA-z0-9\\s]','',x)))"
      ],
      "execution_count": 0,
      "outputs": []
    },
    {
      "metadata": {
        "id": "nCIqvxbU5GvL",
        "colab_type": "code",
        "colab": {
          "autoexec": {
            "startup": false,
            "wait_interval": 0
          }
        }
      },
      "cell_type": "code",
      "source": [
        "#eliminamos espacios innecesarios\n",
        "df_train['SentimentText'] = df_train['SentimentText'].apply((lambda x: re.sub(\"  \",' ',x)))"
      ],
      "execution_count": 0,
      "outputs": []
    },
    {
      "metadata": {
        "id": "ALVcIYBE5Wkn",
        "colab_type": "code",
        "colab": {
          "autoexec": {
            "startup": false,
            "wait_interval": 0
          }
        }
      },
      "cell_type": "code",
      "source": [
        "#eliminamos Stop Words\n",
        "from nltk.corpus import stopwords\n",
        "stop = stopwords.words('english')\n",
        "df_train['SentimentText'] = df_train['SentimentText'].apply(lambda x: \" \".join(x for x in x.split() if x not in stop))"
      ],
      "execution_count": 0,
      "outputs": []
    },
    {
      "metadata": {
        "id": "v4hR1R-668rF",
        "colab_type": "code",
        "colab": {
          "autoexec": {
            "startup": false,
            "wait_interval": 0
          }
        }
      },
      "cell_type": "code",
      "source": [
        "#eliminar palabras si sólo aparecen una vez\n",
        "Singletons = pd.Series(' '.join(df_train['SentimentText']).split()).value_counts().where(lambda x : x==1).dropna().index\n",
        "df_train['SentimentText'] = df_train['SentimentText'].apply(lambda x: \" \".join(x for x in x.split() if x not in Singletons))\n",
        "df_train = df_train.loc[df_train['SentimentText']!='']"
      ],
      "execution_count": 0,
      "outputs": []
    },
    {
      "metadata": {
        "id": "CXwoUeQKOB3g",
        "colab_type": "code",
        "colab": {
          "autoexec": {
            "startup": false,
            "wait_interval": 0
          },
          "base_uri": "https://localhost:8080/",
          "height": 119
        },
        "outputId": "5e9b14ea-a6f4-4892-86fb-ce4fc6837e02",
        "executionInfo": {
          "status": "ok",
          "timestamp": 1532251447776,
          "user_tz": -120,
          "elapsed": 988,
          "user": {
            "displayName": "pedro oftalmo",
            "photoUrl": "https://lh3.googleusercontent.com/a/default-user=s128",
            "userId": "103534249081506905925"
          }
        }
      },
      "cell_type": "code",
      "source": [
        "#Spelling correction\n",
        "from textblob import TextBlob\n",
        "df_train['SentimentText'][:5].apply(lambda x: str(TextBlob(x).correct()))"
      ],
      "execution_count": 106,
      "outputs": [
        {
          "output_type": "execute_result",
          "data": {
            "text/plain": [
              "0    sad friend                                                      \n",
              "1    missed new moon trailer                                         \n",
              "2    org already 730                                                 \n",
              "3    in soon in unna cry give dentist since 11 2 get crown put 30mins\n",
              "4    think mi of cheating tut                                        \n",
              "Name: SentimentText, dtype: object"
            ]
          },
          "metadata": {
            "tags": []
          },
          "execution_count": 106
        }
      ]
    },
    {
      "metadata": {
        "id": "Vpjfoief8nH_",
        "colab_type": "code",
        "colab": {
          "autoexec": {
            "startup": false,
            "wait_interval": 0
          }
        }
      },
      "cell_type": "code",
      "source": [
        "#Lemmatización (en vez de stemming por ser más eficaz)\n",
        "from textblob import Word\n",
        "df_train['SentimentText'] = df_train['SentimentText'].apply(lambda x: \" \".join([Word(word).lemmatize() for word in x.split()]))"
      ],
      "execution_count": 0,
      "outputs": []
    },
    {
      "metadata": {
        "id": "7zR5Lrmh2-GH",
        "colab_type": "code",
        "colab": {
          "autoexec": {
            "startup": false,
            "wait_interval": 0
          },
          "base_uri": "https://localhost:8080/",
          "height": 204
        },
        "outputId": "c31adfbb-6b14-428a-d553-9382cdea1692",
        "executionInfo": {
          "status": "ok",
          "timestamp": 1532249482013,
          "user_tz": -120,
          "elapsed": 1216,
          "user": {
            "displayName": "pedro oftalmo",
            "photoUrl": "https://lh3.googleusercontent.com/a/default-user=s128",
            "userId": "103534249081506905925"
          }
        }
      },
      "cell_type": "code",
      "source": [
        "df_train.head(5)"
      ],
      "execution_count": 45,
      "outputs": [
        {
          "output_type": "execute_result",
          "data": {
            "text/html": [
              "<div>\n",
              "<style scoped>\n",
              "    .dataframe tbody tr th:only-of-type {\n",
              "        vertical-align: middle;\n",
              "    }\n",
              "\n",
              "    .dataframe tbody tr th {\n",
              "        vertical-align: top;\n",
              "    }\n",
              "\n",
              "    .dataframe thead th {\n",
              "        text-align: right;\n",
              "    }\n",
              "</style>\n",
              "<table border=\"1\" class=\"dataframe\">\n",
              "  <thead>\n",
              "    <tr style=\"text-align: right;\">\n",
              "      <th></th>\n",
              "      <th>ItemID</th>\n",
              "      <th>Sentiment</th>\n",
              "      <th>SentimentText</th>\n",
              "    </tr>\n",
              "  </thead>\n",
              "  <tbody>\n",
              "    <tr>\n",
              "      <th>0</th>\n",
              "      <td>1</td>\n",
              "      <td>0</td>\n",
              "      <td>sad friend</td>\n",
              "    </tr>\n",
              "    <tr>\n",
              "      <th>1</th>\n",
              "      <td>2</td>\n",
              "      <td>0</td>\n",
              "      <td>missed new moon trailer</td>\n",
              "    </tr>\n",
              "    <tr>\n",
              "      <th>2</th>\n",
              "      <td>3</td>\n",
              "      <td>1</td>\n",
              "      <td>omg already 730</td>\n",
              "    </tr>\n",
              "    <tr>\n",
              "      <th>3</th>\n",
              "      <td>4</td>\n",
              "      <td>0</td>\n",
              "      <td>im sooo im gunna cry ive dentist since 11 2 ge...</td>\n",
              "    </tr>\n",
              "    <tr>\n",
              "      <th>4</th>\n",
              "      <td>5</td>\n",
              "      <td>0</td>\n",
              "      <td>think mi bf cheating t_t</td>\n",
              "    </tr>\n",
              "  </tbody>\n",
              "</table>\n",
              "</div>"
            ],
            "text/plain": [
              "   ItemID  Sentiment                                      SentimentText\n",
              "0       1          0                                         sad friend\n",
              "1       2          0                            missed new moon trailer\n",
              "2       3          1                                    omg already 730\n",
              "3       4          0  im sooo im gunna cry ive dentist since 11 2 ge...\n",
              "4       5          0                           think mi bf cheating t_t"
            ]
          },
          "metadata": {
            "tags": []
          },
          "execution_count": 45
        }
      ]
    },
    {
      "metadata": {
        "id": "8YT9czyDqsGb",
        "colab_type": "code",
        "colab": {
          "autoexec": {
            "startup": false,
            "wait_interval": 0
          },
          "base_uri": "https://localhost:8080/",
          "height": 204
        },
        "outputId": "7ca3293a-1e5d-4e2d-c5f9-68231c1f074e",
        "executionInfo": {
          "status": "ok",
          "timestamp": 1532251455648,
          "user_tz": -120,
          "elapsed": 1206,
          "user": {
            "displayName": "pedro oftalmo",
            "photoUrl": "https://lh3.googleusercontent.com/a/default-user=s128",
            "userId": "103534249081506905925"
          }
        }
      },
      "cell_type": "code",
      "source": [
        "#eliminamos la columna que no necesitamos para trabajar con los twits\n",
        "df_train = df_train.drop('ItemID',1)\n",
        "df_train.head(5)"
      ],
      "execution_count": 108,
      "outputs": [
        {
          "output_type": "execute_result",
          "data": {
            "text/html": [
              "<div>\n",
              "<style scoped>\n",
              "    .dataframe tbody tr th:only-of-type {\n",
              "        vertical-align: middle;\n",
              "    }\n",
              "\n",
              "    .dataframe tbody tr th {\n",
              "        vertical-align: top;\n",
              "    }\n",
              "\n",
              "    .dataframe thead th {\n",
              "        text-align: right;\n",
              "    }\n",
              "</style>\n",
              "<table border=\"1\" class=\"dataframe\">\n",
              "  <thead>\n",
              "    <tr style=\"text-align: right;\">\n",
              "      <th></th>\n",
              "      <th>Sentiment</th>\n",
              "      <th>SentimentText</th>\n",
              "    </tr>\n",
              "  </thead>\n",
              "  <tbody>\n",
              "    <tr>\n",
              "      <th>0</th>\n",
              "      <td>0</td>\n",
              "      <td>sad friend</td>\n",
              "    </tr>\n",
              "    <tr>\n",
              "      <th>1</th>\n",
              "      <td>0</td>\n",
              "      <td>missed new moon trailer</td>\n",
              "    </tr>\n",
              "    <tr>\n",
              "      <th>2</th>\n",
              "      <td>1</td>\n",
              "      <td>omg already 730</td>\n",
              "    </tr>\n",
              "    <tr>\n",
              "      <th>3</th>\n",
              "      <td>0</td>\n",
              "      <td>im sooo im gunna cry ive dentist since 11 2 get crown put 30mins</td>\n",
              "    </tr>\n",
              "    <tr>\n",
              "      <th>4</th>\n",
              "      <td>0</td>\n",
              "      <td>think mi bf cheating t_t</td>\n",
              "    </tr>\n",
              "  </tbody>\n",
              "</table>\n",
              "</div>"
            ],
            "text/plain": [
              "   Sentiment                                                     SentimentText\n",
              "0  0          sad friend                                                      \n",
              "1  0          missed new moon trailer                                         \n",
              "2  1          omg already 730                                                 \n",
              "3  0          im sooo im gunna cry ive dentist since 11 2 get crown put 30mins\n",
              "4  0          think mi bf cheating t_t                                        "
            ]
          },
          "metadata": {
            "tags": []
          },
          "execution_count": 108
        }
      ]
    },
    {
      "metadata": {
        "id": "uBCAbPSsSpWa",
        "colab_type": "text"
      },
      "cell_type": "markdown",
      "source": [
        "#1.1 MACHINE LEARNING"
      ]
    },
    {
      "metadata": {
        "id": "OtvC3c4h023u",
        "colab_type": "text"
      },
      "cell_type": "markdown",
      "source": [
        "Se ponen etiquetas en cada uno de los twits que tenemos en el dataset, ya que vamos a implementar un algoritmo de supervised learning.\n",
        "El primer clasificador que utilizaremos será Bayes. Este algoritmo asume que las features son independientes y que el orden de los mismos no importa."
      ]
    },
    {
      "metadata": {
        "id": "GyFjpJBiMQ4K",
        "colab_type": "text"
      },
      "cell_type": "markdown",
      "source": [
        "Lo primero es crear una lista que contenga los twits ya \"limpios\" con su correspondiente etiqueta indicando si el sentimiento es positivo o negativo."
      ]
    },
    {
      "metadata": {
        "id": "yu4P_kkJ9nQ0",
        "colab_type": "code",
        "colab": {
          "autoexec": {
            "startup": false,
            "wait_interval": 0
          },
          "base_uri": "https://localhost:8080/",
          "height": 68
        },
        "outputId": "ecdbe4d1-73f8-44f9-c42f-a5db9603cf13",
        "executionInfo": {
          "status": "ok",
          "timestamp": 1532249666776,
          "user_tz": -120,
          "elapsed": 9671,
          "user": {
            "displayName": "pedro oftalmo",
            "photoUrl": "https://lh3.googleusercontent.com/a/default-user=s128",
            "userId": "103534249081506905925"
          }
        }
      },
      "cell_type": "code",
      "source": [
        "twt_dataset = []\n",
        "for index, row in df_train.iterrows():\n",
        "    if index > 0:\n",
        "        label = '<BAD>' if row[0] == 0 else '<GOOD>' \n",
        "        sentence = row[1]\n",
        "        twt_dataset.append((sentence, label))\n",
        "print(twt_dataset[0])\n",
        "print(twt_dataset[1])\n",
        "len(twt_dataset)"
      ],
      "execution_count": 51,
      "outputs": [
        {
          "output_type": "stream",
          "text": [
            "('missed new moon trailer', '<BAD>')\n",
            "('omg already 730', '<GOOD>')\n"
          ],
          "name": "stdout"
        },
        {
          "output_type": "execute_result",
          "data": {
            "text/plain": [
              "98731"
            ]
          },
          "metadata": {
            "tags": []
          },
          "execution_count": 51
        }
      ]
    },
    {
      "metadata": {
        "id": "duPmnzo7NWx-",
        "colab_type": "text"
      },
      "cell_type": "markdown",
      "source": [
        "Mostramos 5 twits de cada clasificación para ver si son adecuados"
      ]
    },
    {
      "metadata": {
        "id": "1snLq8vsLtb_",
        "colab_type": "code",
        "colab": {
          "autoexec": {
            "startup": false,
            "wait_interval": 0
          },
          "base_uri": "https://localhost:8080/",
          "height": 102
        },
        "outputId": "c081907a-5834-42d1-d42d-fa0fd780ece8",
        "executionInfo": {
          "status": "ok",
          "timestamp": 1532249515984,
          "user_tz": -120,
          "elapsed": 1158,
          "user": {
            "displayName": "pedro oftalmo",
            "photoUrl": "https://lh3.googleusercontent.com/a/default-user=s128",
            "userId": "103534249081506905925"
          }
        }
      },
      "cell_type": "code",
      "source": [
        "sample([x for x, y in twt_dataset if y=='<GOOD>'], 5)"
      ],
      "execution_count": 48,
      "outputs": [
        {
          "output_type": "execute_result",
          "data": {
            "text/plain": [
              "['go inspiration needed reply need find somebody refer',\n",
              " 'hahaha could worse',\n",
              " 'liesgirlstell quotwhy wouldnt wear 6 inch stiletto theyre comfortable pair ownquot quotbut luv heel',\n",
              " 'goodsex great way start day think later leaf leg weak love',\n",
              " 'yep might get work done tomorrow']"
            ]
          },
          "metadata": {
            "tags": []
          },
          "execution_count": 48
        }
      ]
    },
    {
      "metadata": {
        "id": "NDKCDjAQLuXN",
        "colab_type": "code",
        "colab": {
          "autoexec": {
            "startup": false,
            "wait_interval": 0
          },
          "base_uri": "https://localhost:8080/",
          "height": 102
        },
        "outputId": "826968cc-5d49-4728-9f77-462e3219a7e4",
        "executionInfo": {
          "status": "ok",
          "timestamp": 1532249518279,
          "user_tz": -120,
          "elapsed": 675,
          "user": {
            "displayName": "pedro oftalmo",
            "photoUrl": "https://lh3.googleusercontent.com/a/default-user=s128",
            "userId": "103534249081506905925"
          }
        }
      },
      "cell_type": "code",
      "source": [
        "sample([x for x, y in twt_dataset if y=='<BAD>'], 5)"
      ],
      "execution_count": 49,
      "outputs": [
        {
          "output_type": "execute_result",
          "data": {
            "text/plain": [
              "['chocolatey chip creme yet',\n",
              " 'hey mia said word u night excited nothing hit pleaseand thank u',\n",
              " 'yep',\n",
              " 'completely lost fuss affect',\n",
              " 'nope sorry']"
            ]
          },
          "metadata": {
            "tags": []
          },
          "execution_count": 49
        }
      ]
    },
    {
      "metadata": {
        "id": "tFZdLgLrN3xt",
        "colab_type": "text"
      },
      "cell_type": "markdown",
      "source": [
        "La siguiente función separa el dataset para que podamos entrenar y después verificar lo buenos que son los resultados. Debido a las limitaciones de Google Collab si aumento el split me sale un error de que no hay suficiente memoria por lo que a pesar de que la disminución de twits para entrenar va empeorar el resultado nos tenemos que conformar con esto. Si estuvieramos trabajando con recursos dedicados deberíamos aumentar la cantidad de entrenamiento para mejorar el accuracy."
      ]
    },
    {
      "metadata": {
        "id": "x5jDOz4P_BRZ",
        "colab_type": "code",
        "colab": {
          "autoexec": {
            "startup": false,
            "wait_interval": 0
          }
        }
      },
      "cell_type": "code",
      "source": [
        "def split_train_val_test(dataset, split=0.6):\n",
        "\n",
        "    x, y = zip(*dataset)\n",
        "    x = np.array(list(x))\n",
        "    y = np.array(list(y))\n",
        "    sss = StratifiedShuffleSplit(n_splits=1, test_size=split, random_state=1234) \n",
        "    for train_index, test_index in sss.split(x, y):\n",
        "        x_train, x_val = x[train_index], x[test_index]\n",
        "        y_train, y_val = y[train_index], y[test_index]\n",
        "    splits = {'train':(x_train, y_train), 'test':(x_val, y_val)}\n",
        "    return splits"
      ],
      "execution_count": 0,
      "outputs": []
    },
    {
      "metadata": {
        "id": "-sW7CKZ3_TVs",
        "colab_type": "code",
        "colab": {
          "autoexec": {
            "startup": false,
            "wait_interval": 0
          }
        }
      },
      "cell_type": "code",
      "source": [
        "split = split_train_val_test(twt_dataset)"
      ],
      "execution_count": 0,
      "outputs": []
    },
    {
      "metadata": {
        "id": "RaEKzWHuMLJE",
        "colab_type": "code",
        "colab": {
          "autoexec": {
            "startup": false,
            "wait_interval": 0
          },
          "base_uri": "https://localhost:8080/",
          "height": 272
        },
        "outputId": "7424e60c-22e1-4a1a-9f63-cbbddfe5adca",
        "executionInfo": {
          "status": "ok",
          "timestamp": 1532250234918,
          "user_tz": -120,
          "elapsed": 703,
          "user": {
            "displayName": "pedro oftalmo",
            "photoUrl": "https://lh3.googleusercontent.com/a/default-user=s128",
            "userId": "103534249081506905925"
          }
        }
      },
      "cell_type": "code",
      "source": [
        "split"
      ],
      "execution_count": 54,
      "outputs": [
        {
          "output_type": "execute_result",
          "data": {
            "text/plain": [
              "{'test': (array(['take u office', 'thats right win', 'aw thanks blushing little',\n",
              "         ..., 'got office nerd hum',\n",
              "         'manually throw sooooo heavy couldnt wait lol',\n",
              "         'omg nintendo 64 one lol load game except zelda loll'],\n",
              "        dtype='<U349'),\n",
              "  array(['<BAD>', '<GOOD>', '<GOOD>', ..., '<GOOD>', '<BAD>', '<BAD>'],\n",
              "        dtype='<U6')),\n",
              " 'train': (array(['could please explain using beer analogy',\n",
              "         'thats quotthe infertile',\n",
              "         'always say next year year guy amazing lineup missed', ...,\n",
              "         'possible demand way stand day work tomorrow',\n",
              "         'could support weather forecast jamaica kingston spot island',\n",
              "         'yes entirely toooo early'], dtype='<U349'),\n",
              "  array(['<GOOD>', '<BAD>', '<BAD>', ..., '<BAD>', '<GOOD>', '<GOOD>'],\n",
              "        dtype='<U6'))}"
            ]
          },
          "metadata": {
            "tags": []
          },
          "execution_count": 54
        }
      ]
    },
    {
      "metadata": {
        "id": "0nIvWYMr_gYh",
        "colab_type": "code",
        "colab": {
          "autoexec": {
            "startup": false,
            "wait_interval": 0
          }
        }
      },
      "cell_type": "code",
      "source": [
        "pipeline = Pipeline([('vect', CountVectorizer()),\n",
        "    ('tfidf', TfidfTransformer()),\n",
        "    ('clf', MultinomialNB()),\n",
        "    \n",
        "])\n",
        "\n"
      ],
      "execution_count": 0,
      "outputs": []
    },
    {
      "metadata": {
        "id": "vYc6TpzTLobB",
        "colab_type": "text"
      },
      "cell_type": "markdown",
      "source": [
        "Si imprimimos lo siguiente veremos todos los parámetros que nos permite modificar."
      ]
    },
    {
      "metadata": {
        "id": "FH3kiXbXO7mv",
        "colab_type": "text"
      },
      "cell_type": "markdown",
      "source": [
        "Algunos de los parámetros siguientes han sido comentados porque producían un error en ejecución como vect_analyser. Y otros porque no aportaban valor a la búsqueda que realiza grid_search."
      ]
    },
    {
      "metadata": {
        "id": "nYntNisabLOy",
        "colab_type": "code",
        "colab": {
          "autoexec": {
            "startup": false,
            "wait_interval": 0
          },
          "base_uri": "https://localhost:8080/",
          "height": 54
        },
        "outputId": "6b406b0a-2383-4ddb-ebcf-48662e33e785",
        "executionInfo": {
          "status": "ok",
          "timestamp": 1532250246781,
          "user_tz": -120,
          "elapsed": 665,
          "user": {
            "displayName": "pedro oftalmo",
            "photoUrl": "https://lh3.googleusercontent.com/a/default-user=s128",
            "userId": "103534249081506905925"
          }
        }
      },
      "cell_type": "code",
      "source": [
        "pipeline.get_params().keys() "
      ],
      "execution_count": 56,
      "outputs": [
        {
          "output_type": "execute_result",
          "data": {
            "text/plain": [
              "dict_keys(['memory', 'steps', 'vect', 'tfidf', 'clf', 'vect__analyzer', 'vect__binary', 'vect__decode_error', 'vect__dtype', 'vect__encoding', 'vect__input', 'vect__lowercase', 'vect__max_df', 'vect__max_features', 'vect__min_df', 'vect__ngram_range', 'vect__preprocessor', 'vect__stop_words', 'vect__strip_accents', 'vect__token_pattern', 'vect__tokenizer', 'vect__vocabulary', 'tfidf__norm', 'tfidf__smooth_idf', 'tfidf__sublinear_tf', 'tfidf__use_idf', 'clf__alpha', 'clf__class_prior', 'clf__fit_prior'])"
            ]
          },
          "metadata": {
            "tags": []
          },
          "execution_count": 56
        }
      ]
    },
    {
      "metadata": {
        "id": "7uwn7pl__1wb",
        "colab_type": "code",
        "colab": {
          "autoexec": {
            "startup": false,
            "wait_interval": 0
          }
        }
      },
      "cell_type": "code",
      "source": [
        "parameters = {\n",
        "    'vect__max_df': (0.5, 0.75, 1.0),\n",
        "    'vect__ngram_range': ((1, 2), (1, 3), (2, 3), (1,4)),  #ngrams to test\n",
        "    #'clf_alpha': (1e-2, 1e-3),\n",
        "    'clf__alpha': (0.1, 0.01, 0.001, 0.0001, 0.00001), \n",
        "    #'tfidf__use_idf': (True, False),\n",
        "    #'tfidf__use_idf': (True, False),\n",
        "    #'tfidf__norm': ('l1', 'l2'),\n",
        "    #'vect__analyzer': ('word', 'char', 'char_wb')\n",
        "}"
      ],
      "execution_count": 0,
      "outputs": []
    },
    {
      "metadata": {
        "id": "HSJoZjmgAAqg",
        "colab_type": "code",
        "colab": {
          "autoexec": {
            "startup": false,
            "wait_interval": 0
          }
        }
      },
      "cell_type": "code",
      "source": [
        "grid_search = GridSearchCV(pipeline, parameters, n_jobs=-1, verbose=1)"
      ],
      "execution_count": 0,
      "outputs": []
    },
    {
      "metadata": {
        "id": "osVJU4xPAEV1",
        "colab_type": "code",
        "colab": {
          "autoexec": {
            "startup": false,
            "wait_interval": 0
          },
          "base_uri": "https://localhost:8080/",
          "height": 136
        },
        "outputId": "0401dc13-1d46-47fe-83d8-0c54042427e5",
        "executionInfo": {
          "status": "ok",
          "timestamp": 1532250746977,
          "user_tz": -120,
          "elapsed": 391438,
          "user": {
            "displayName": "pedro oftalmo",
            "photoUrl": "https://lh3.googleusercontent.com/a/default-user=s128",
            "userId": "103534249081506905925"
          }
        }
      },
      "cell_type": "code",
      "source": [
        "grid_search.fit(split['train'][0], split['train'][1])\n",
        "best_parameters = grid_search.best_estimator_.get_params()\n",
        "for param_name in sorted(parameters.keys()):\n",
        "    print(\"\\t%s: %r\" % (param_name, best_parameters[param_name]))\n",
        "print(\"Best score: %0.3f\" % grid_search.best_score_) "
      ],
      "execution_count": 60,
      "outputs": [
        {
          "output_type": "stream",
          "text": [
            "Fitting 3 folds for each of 60 candidates, totalling 180 fits\n"
          ],
          "name": "stdout"
        },
        {
          "output_type": "stream",
          "text": [
            "[Parallel(n_jobs=-1)]: Done  46 tasks      | elapsed:  1.7min\n",
            "[Parallel(n_jobs=-1)]: Done 180 out of 180 | elapsed:  6.5min finished\n"
          ],
          "name": "stderr"
        },
        {
          "output_type": "stream",
          "text": [
            "\tclf__alpha: 0.1\n",
            "\tvect__max_df: 0.5\n",
            "\tvect__ngram_range: (1, 4)\n",
            "Best score: 0.721\n"
          ],
          "name": "stdout"
        }
      ]
    },
    {
      "metadata": {
        "id": "3lB_yl1VOj6g",
        "colab_type": "code",
        "colab": {
          "autoexec": {
            "startup": false,
            "wait_interval": 0
          },
          "base_uri": "https://localhost:8080/",
          "height": 34
        },
        "outputId": "7bc05554-6c09-4e24-ca16-f1f6caaa418c",
        "executionInfo": {
          "status": "ok",
          "timestamp": 1532250761618,
          "user_tz": -120,
          "elapsed": 2699,
          "user": {
            "displayName": "pedro oftalmo",
            "photoUrl": "https://lh3.googleusercontent.com/a/default-user=s128",
            "userId": "103534249081506905925"
          }
        }
      },
      "cell_type": "code",
      "source": [
        "pipeline.set_params(**best_parameters)\n",
        "predictions = pipeline.score(split['test'][0], split['test'][1])\n",
        "print('TEST SCORE: {}'.format(predictions))"
      ],
      "execution_count": 61,
      "outputs": [
        {
          "output_type": "stream",
          "text": [
            "TEST SCORE: 0.725029119330171\n"
          ],
          "name": "stdout"
        }
      ]
    },
    {
      "metadata": {
        "id": "k5qRtdQ7PuV7",
        "colab_type": "text"
      },
      "cell_type": "markdown",
      "source": [
        "Este es el score tras resolver el problema de clasificación con Bayes, es un accuracy bastante bueno pero mejorable, y se considera que un aumento de los datos de entrenamiento producirían esta mejora."
      ]
    },
    {
      "metadata": {
        "id": "cz9RrcC8P-0k",
        "colab_type": "code",
        "colab": {
          "autoexec": {
            "startup": false,
            "wait_interval": 0
          },
          "base_uri": "https://localhost:8080/",
          "height": 34
        },
        "outputId": "7c461017-be00-4e22-eeb0-71b296f3e18f",
        "executionInfo": {
          "status": "ok",
          "timestamp": 1532250775418,
          "user_tz": -120,
          "elapsed": 675,
          "user": {
            "displayName": "pedro oftalmo",
            "photoUrl": "https://lh3.googleusercontent.com/a/default-user=s128",
            "userId": "103534249081506905925"
          }
        }
      },
      "cell_type": "code",
      "source": [
        "train_set = split['train'][0].tolist()\n",
        "len(train_set)"
      ],
      "execution_count": 62,
      "outputs": [
        {
          "output_type": "execute_result",
          "data": {
            "text/plain": [
              "39492"
            ]
          },
          "metadata": {
            "tags": []
          },
          "execution_count": 62
        }
      ]
    },
    {
      "metadata": {
        "id": "OPkmbDMdPe2-",
        "colab_type": "text"
      },
      "cell_type": "markdown",
      "source": [
        "Ahora vamos a realizar algunas pruebas con twits introducidos manualmente para ver si los resultados son satisfactorios."
      ]
    },
    {
      "metadata": {
        "id": "fropAXWA5BZZ",
        "colab_type": "code",
        "colab": {
          "autoexec": {
            "startup": false,
            "wait_interval": 0
          },
          "base_uri": "https://localhost:8080/",
          "height": 34
        },
        "outputId": "601fb7e0-8182-433c-c85e-4b79e86eb0ff",
        "executionInfo": {
          "status": "ok",
          "timestamp": 1532250812112,
          "user_tz": -120,
          "elapsed": 666,
          "user": {
            "displayName": "pedro oftalmo",
            "photoUrl": "https://lh3.googleusercontent.com/a/default-user=s128",
            "userId": "103534249081506905925"
          }
        }
      },
      "cell_type": "code",
      "source": [
        "prediction = pipeline.predict(['Today I feel sad'])\n",
        "prediction"
      ],
      "execution_count": 63,
      "outputs": [
        {
          "output_type": "execute_result",
          "data": {
            "text/plain": [
              "array(['<BAD>'], dtype='<U6')"
            ]
          },
          "metadata": {
            "tags": []
          },
          "execution_count": 63
        }
      ]
    },
    {
      "metadata": {
        "id": "azwiBZctQ4WK",
        "colab_type": "code",
        "colab": {
          "autoexec": {
            "startup": false,
            "wait_interval": 0
          },
          "base_uri": "https://localhost:8080/",
          "height": 34
        },
        "outputId": "7bdd8d2c-8c04-4bbd-d896-b5547a1154bb",
        "executionInfo": {
          "status": "ok",
          "timestamp": 1532250881149,
          "user_tz": -120,
          "elapsed": 729,
          "user": {
            "displayName": "pedro oftalmo",
            "photoUrl": "https://lh3.googleusercontent.com/a/default-user=s128",
            "userId": "103534249081506905925"
          }
        }
      },
      "cell_type": "code",
      "source": [
        "prediction = pipeline.predict(['Today it has been solved a big problem'])\n",
        "prediction"
      ],
      "execution_count": 64,
      "outputs": [
        {
          "output_type": "execute_result",
          "data": {
            "text/plain": [
              "array(['<GOOD>'], dtype='<U6')"
            ]
          },
          "metadata": {
            "tags": []
          },
          "execution_count": 64
        }
      ]
    },
    {
      "metadata": {
        "id": "j2P5xRtUSz8W",
        "colab_type": "text"
      },
      "cell_type": "markdown",
      "source": [
        "#1.2 DEEP LEARNING"
      ]
    },
    {
      "metadata": {
        "id": "KXS_PfsVRUu7",
        "colab_type": "text"
      },
      "cell_type": "markdown",
      "source": [
        "A continuación se va a resolver el mismo problema de clasificación con el mismo dataset pero utilizando deep learning."
      ]
    },
    {
      "metadata": {
        "id": "Bhi0al84TWlR",
        "colab_type": "code",
        "colab": {
          "autoexec": {
            "startup": false,
            "wait_interval": 0
          },
          "base_uri": "https://localhost:8080/",
          "height": 204
        },
        "outputId": "ce11e330-562b-43f7-ad9a-066096056b9d",
        "executionInfo": {
          "status": "ok",
          "timestamp": 1532251459733,
          "user_tz": -120,
          "elapsed": 679,
          "user": {
            "displayName": "pedro oftalmo",
            "photoUrl": "https://lh3.googleusercontent.com/a/default-user=s128",
            "userId": "103534249081506905925"
          }
        }
      },
      "cell_type": "code",
      "source": [
        "df_train.head(5)"
      ],
      "execution_count": 109,
      "outputs": [
        {
          "output_type": "execute_result",
          "data": {
            "text/html": [
              "<div>\n",
              "<style scoped>\n",
              "    .dataframe tbody tr th:only-of-type {\n",
              "        vertical-align: middle;\n",
              "    }\n",
              "\n",
              "    .dataframe tbody tr th {\n",
              "        vertical-align: top;\n",
              "    }\n",
              "\n",
              "    .dataframe thead th {\n",
              "        text-align: right;\n",
              "    }\n",
              "</style>\n",
              "<table border=\"1\" class=\"dataframe\">\n",
              "  <thead>\n",
              "    <tr style=\"text-align: right;\">\n",
              "      <th></th>\n",
              "      <th>Sentiment</th>\n",
              "      <th>SentimentText</th>\n",
              "    </tr>\n",
              "  </thead>\n",
              "  <tbody>\n",
              "    <tr>\n",
              "      <th>0</th>\n",
              "      <td>0</td>\n",
              "      <td>sad friend</td>\n",
              "    </tr>\n",
              "    <tr>\n",
              "      <th>1</th>\n",
              "      <td>0</td>\n",
              "      <td>missed new moon trailer</td>\n",
              "    </tr>\n",
              "    <tr>\n",
              "      <th>2</th>\n",
              "      <td>1</td>\n",
              "      <td>omg already 730</td>\n",
              "    </tr>\n",
              "    <tr>\n",
              "      <th>3</th>\n",
              "      <td>0</td>\n",
              "      <td>im sooo im gunna cry ive dentist since 11 2 get crown put 30mins</td>\n",
              "    </tr>\n",
              "    <tr>\n",
              "      <th>4</th>\n",
              "      <td>0</td>\n",
              "      <td>think mi bf cheating t_t</td>\n",
              "    </tr>\n",
              "  </tbody>\n",
              "</table>\n",
              "</div>"
            ],
            "text/plain": [
              "   Sentiment                                                     SentimentText\n",
              "0  0          sad friend                                                      \n",
              "1  0          missed new moon trailer                                         \n",
              "2  1          omg already 730                                                 \n",
              "3  0          im sooo im gunna cry ive dentist since 11 2 get crown put 30mins\n",
              "4  0          think mi bf cheating t_t                                        "
            ]
          },
          "metadata": {
            "tags": []
          },
          "execution_count": 109
        }
      ]
    },
    {
      "metadata": {
        "id": "xPmDOfUlS4gc",
        "colab_type": "code",
        "colab": {
          "autoexec": {
            "startup": false,
            "wait_interval": 0
          },
          "base_uri": "https://localhost:8080/",
          "height": 204
        },
        "outputId": "2ea9c1cb-1bcd-44a3-c494-aa5160041c1f",
        "executionInfo": {
          "status": "ok",
          "timestamp": 1532251469412,
          "user_tz": -120,
          "elapsed": 897,
          "user": {
            "displayName": "pedro oftalmo",
            "photoUrl": "https://lh3.googleusercontent.com/a/default-user=s128",
            "userId": "103534249081506905925"
          }
        }
      },
      "cell_type": "code",
      "source": [
        "import numpy as np\n",
        "import pandas as pd\n",
        "import matplotlib.pyplot as plt\n",
        "import seaborn as sns\n",
        "%matplotlib inline\n",
        "\n",
        "import warnings\n",
        "warnings.filterwarnings(\"ignore\")\n",
        "\n",
        "\n",
        "df = df_train\n",
        "pd.set_option('display.max_colwidth', -1)\n",
        "df.columns = ['label','tweet']\n",
        "df.head(5)"
      ],
      "execution_count": 111,
      "outputs": [
        {
          "output_type": "execute_result",
          "data": {
            "text/html": [
              "<div>\n",
              "<style scoped>\n",
              "    .dataframe tbody tr th:only-of-type {\n",
              "        vertical-align: middle;\n",
              "    }\n",
              "\n",
              "    .dataframe tbody tr th {\n",
              "        vertical-align: top;\n",
              "    }\n",
              "\n",
              "    .dataframe thead th {\n",
              "        text-align: right;\n",
              "    }\n",
              "</style>\n",
              "<table border=\"1\" class=\"dataframe\">\n",
              "  <thead>\n",
              "    <tr style=\"text-align: right;\">\n",
              "      <th></th>\n",
              "      <th>label</th>\n",
              "      <th>tweet</th>\n",
              "    </tr>\n",
              "  </thead>\n",
              "  <tbody>\n",
              "    <tr>\n",
              "      <th>0</th>\n",
              "      <td>0</td>\n",
              "      <td>sad friend</td>\n",
              "    </tr>\n",
              "    <tr>\n",
              "      <th>1</th>\n",
              "      <td>0</td>\n",
              "      <td>missed new moon trailer</td>\n",
              "    </tr>\n",
              "    <tr>\n",
              "      <th>2</th>\n",
              "      <td>1</td>\n",
              "      <td>omg already 730</td>\n",
              "    </tr>\n",
              "    <tr>\n",
              "      <th>3</th>\n",
              "      <td>0</td>\n",
              "      <td>im sooo im gunna cry ive dentist since 11 2 get crown put 30mins</td>\n",
              "    </tr>\n",
              "    <tr>\n",
              "      <th>4</th>\n",
              "      <td>0</td>\n",
              "      <td>think mi bf cheating t_t</td>\n",
              "    </tr>\n",
              "  </tbody>\n",
              "</table>\n",
              "</div>"
            ],
            "text/plain": [
              "   label                                                             tweet\n",
              "0  0      sad friend                                                      \n",
              "1  0      missed new moon trailer                                         \n",
              "2  1      omg already 730                                                 \n",
              "3  0      im sooo im gunna cry ive dentist since 11 2 get crown put 30mins\n",
              "4  0      think mi bf cheating t_t                                        "
            ]
          },
          "metadata": {
            "tags": []
          },
          "execution_count": 111
        }
      ]
    },
    {
      "metadata": {
        "id": "cr7_nAfhRj7r",
        "colab_type": "text"
      },
      "cell_type": "markdown",
      "source": [
        "Visualizamos para ver si se encuentra balanceado el número de etiquetas"
      ]
    },
    {
      "metadata": {
        "id": "Iou-KswNUrz8",
        "colab_type": "code",
        "colab": {
          "autoexec": {
            "startup": false,
            "wait_interval": 0
          },
          "base_uri": "https://localhost:8080/",
          "height": 296
        },
        "outputId": "330d8f95-aa53-486b-ed1e-bf7cd3ce7d72",
        "executionInfo": {
          "status": "ok",
          "timestamp": 1532251474435,
          "user_tz": -120,
          "elapsed": 676,
          "user": {
            "displayName": "pedro oftalmo",
            "photoUrl": "https://lh3.googleusercontent.com/a/default-user=s128",
            "userId": "103534249081506905925"
          }
        }
      },
      "cell_type": "code",
      "source": [
        "sns.countplot(df['label'])"
      ],
      "execution_count": 112,
      "outputs": [
        {
          "output_type": "execute_result",
          "data": {
            "text/plain": [
              "<matplotlib.axes._subplots.AxesSubplot at 0x7fa8ed8afba8>"
            ]
          },
          "metadata": {
            "tags": []
          },
          "execution_count": 112
        },
        {
          "output_type": "display_data",
          "data": {
            "image/png": "[encoded data removed]",
            "text/plain": [
              "<matplotlib.figure.Figure at 0x7fa8ed6b5d68>"
            ]
          },
          "metadata": {
            "tags": []
          }
        }
      ]
    },
    {
      "metadata": {
        "id": "aCWxd2PkTj2R",
        "colab_type": "text"
      },
      "cell_type": "markdown",
      "source": [
        "Separamos twits de las labels"
      ]
    },
    {
      "metadata": {
        "id": "tG9z71WZV6V3",
        "colab_type": "code",
        "colab": {
          "autoexec": {
            "startup": false,
            "wait_interval": 0
          },
          "base_uri": "https://localhost:8080/",
          "height": 136
        },
        "outputId": "e572cc5c-7bbb-4895-b9d2-fe29b7060af5",
        "executionInfo": {
          "status": "ok",
          "timestamp": 1532251478275,
          "user_tz": -120,
          "elapsed": 688,
          "user": {
            "displayName": "pedro oftalmo",
            "photoUrl": "https://lh3.googleusercontent.com/a/default-user=s128",
            "userId": "103534249081506905925"
          }
        }
      },
      "cell_type": "code",
      "source": [
        "X = df['tweet']\n",
        "y = pd.get_dummies(df['label']).values\n",
        "num_classes = df['label'].nunique()\n",
        "y"
      ],
      "execution_count": 113,
      "outputs": [
        {
          "output_type": "execute_result",
          "data": {
            "text/plain": [
              "array([[1, 0],\n",
              "       [1, 0],\n",
              "       [0, 1],\n",
              "       ...,\n",
              "       [1, 0],\n",
              "       [0, 1],\n",
              "       [0, 1]], dtype=uint8)"
            ]
          },
          "metadata": {
            "tags": []
          },
          "execution_count": 113
        }
      ]
    },
    {
      "metadata": {
        "id": "stvRBW_9VHQD",
        "colab_type": "code",
        "colab": {
          "autoexec": {
            "startup": false,
            "wait_interval": 0
          }
        }
      },
      "cell_type": "code",
      "source": [
        "seed = 1234\n",
        "np.random.seed(seed)"
      ],
      "execution_count": 0,
      "outputs": []
    },
    {
      "metadata": {
        "id": "78oZcG5STxgB",
        "colab_type": "text"
      },
      "cell_type": "markdown",
      "source": [
        "Se realiza la separación train/test mediante la librería sklearn"
      ]
    },
    {
      "metadata": {
        "id": "QWNuy4FbVQXx",
        "colab_type": "code",
        "colab": {
          "autoexec": {
            "startup": false,
            "wait_interval": 0
          },
          "base_uri": "https://localhost:8080/",
          "height": 34
        },
        "outputId": "d0e3f107-7e5f-4c38-ca37-7a44bc998d90",
        "executionInfo": {
          "status": "ok",
          "timestamp": 1532253286377,
          "user_tz": -120,
          "elapsed": 959,
          "user": {
            "displayName": "pedro oftalmo",
            "photoUrl": "https://lh3.googleusercontent.com/a/default-user=s128",
            "userId": "103534249081506905925"
          }
        }
      },
      "cell_type": "code",
      "source": [
        "from sklearn.model_selection import train_test_split\n",
        "X_train, X_test, y_train, y_test = train_test_split(X, y, \n",
        "                                                    test_size=0.1,\n",
        "                                                    stratify=y,\n",
        "                                                    random_state=seed)\n",
        "print(X_train.shape, X_test.shape, y_train.shape, y_test.shape)"
      ],
      "execution_count": 197,
      "outputs": [
        {
          "output_type": "stream",
          "text": [
            "(88858,) (9874,) (88858, 2) (9874, 2)\n"
          ],
          "name": "stdout"
        }
      ]
    },
    {
      "metadata": {
        "id": "FQlmEJTdT8em",
        "colab_type": "text"
      },
      "cell_type": "markdown",
      "source": [
        "Se tokeniza el texto"
      ]
    },
    {
      "metadata": {
        "id": "MufZWXw0WGec",
        "colab_type": "code",
        "colab": {
          "autoexec": {
            "startup": false,
            "wait_interval": 0
          }
        }
      },
      "cell_type": "code",
      "source": [
        "from keras.preprocessing.text import Tokenizer\n",
        "max_features = 1000\n",
        "tokenizer = Tokenizer(num_words=max_features)\n",
        "tokenizer.fit_on_texts(list(X_train))\n",
        "X_train = tokenizer.texts_to_sequences(X_train)\n",
        "X_test = tokenizer.texts_to_sequences(X_test)"
      ],
      "execution_count": 0,
      "outputs": []
    },
    {
      "metadata": {
        "id": "kaF2HCZiWMUB",
        "colab_type": "code",
        "colab": {
          "autoexec": {
            "startup": false,
            "wait_interval": 0
          },
          "base_uri": "https://localhost:8080/",
          "height": 265
        },
        "outputId": "496c10e5-e2be-4753-971d-d0ca9cfd89f5",
        "executionInfo": {
          "status": "ok",
          "timestamp": 1532253298239,
          "user_tz": -120,
          "elapsed": 1806,
          "user": {
            "displayName": "pedro oftalmo",
            "photoUrl": "https://lh3.googleusercontent.com/a/default-user=s128",
            "userId": "103534249081506905925"
          }
        }
      },
      "cell_type": "code",
      "source": [
        "totalNumWords = [len(one_comment) for one_comment in X_train]\n",
        "plt.hist(totalNumWords,bins = 30)\n",
        "plt.show()"
      ],
      "execution_count": 199,
      "outputs": [
        {
          "output_type": "display_data",
          "data": {
            "image/png": "[encoded data removed]",
            "text/plain": [
              "<matplotlib.figure.Figure at 0x7fa8ee7a4e80>"
            ]
          },
          "metadata": {
            "tags": []
          }
        }
      ]
    },
    {
      "metadata": {
        "id": "9tlDyYpfWQbt",
        "colab_type": "code",
        "colab": {
          "autoexec": {
            "startup": false,
            "wait_interval": 0
          },
          "base_uri": "https://localhost:8080/",
          "height": 34
        },
        "outputId": "4759367a-c121-4d3d-b010-8ec7dd5e7241",
        "executionInfo": {
          "status": "ok",
          "timestamp": 1532253302746,
          "user_tz": -120,
          "elapsed": 993,
          "user": {
            "displayName": "pedro oftalmo",
            "photoUrl": "https://lh3.googleusercontent.com/a/default-user=s128",
            "userId": "103534249081506905925"
          }
        }
      },
      "cell_type": "code",
      "source": [
        "from keras.preprocessing import sequence\n",
        "max_words = 30\n",
        "X_train = sequence.pad_sequences(X_train, maxlen=max_words)\n",
        "X_test = sequence.pad_sequences(X_test, maxlen=max_words)\n",
        "print(X_train.shape,X_test.shape)"
      ],
      "execution_count": 200,
      "outputs": [
        {
          "output_type": "stream",
          "text": [
            "(88858, 30) (9874, 30)\n"
          ],
          "name": "stdout"
        }
      ]
    },
    {
      "metadata": {
        "id": "5JNzrLR-WVUj",
        "colab_type": "code",
        "colab": {
          "autoexec": {
            "startup": false,
            "wait_interval": 0
          }
        }
      },
      "cell_type": "code",
      "source": [
        "import keras.backend as K\n",
        "from keras.models import Sequential\n",
        "from keras.layers import Dense,Embedding,Conv1D,MaxPooling1D,LSTM\n",
        "from sklearn.metrics import accuracy_score,confusion_matrix,classification_report\n",
        "\n",
        "batch_size = 512\n",
        "epochs = 5"
      ],
      "execution_count": 0,
      "outputs": []
    },
    {
      "metadata": {
        "id": "eJ4v3dhJWZFL",
        "colab_type": "code",
        "colab": {
          "autoexec": {
            "startup": false,
            "wait_interval": 0
          }
        }
      },
      "cell_type": "code",
      "source": [
        "def get_model(max_features, embed_dim):\n",
        "    np.random.seed(seed)\n",
        "    K.clear_session()\n",
        "    model = Sequential()\n",
        "    model.add(Embedding(max_features, embed_dim, input_length=X_train.shape[1]))\n",
        "    model.add(Conv1D(filters=32, kernel_size=3, padding='same', activation='relu'))\n",
        "    model.add(MaxPooling1D(pool_size=2))\n",
        "    model.add(Conv1D(filters=32, kernel_size=3, padding='same', activation='relu'))\n",
        "    model.add(MaxPooling1D(pool_size=2))    \n",
        "    model.add(LSTM(100, dropout=4, recurrent_dropout=4))\n",
        "    model.add(Dense(num_classes, activation='softmax'))\n",
        "    model.compile(loss='categorical_crossentropy', optimizer='adam', metrics=['accuracy'])\n",
        "    print(model.summary())\n",
        "    return model"
      ],
      "execution_count": 0,
      "outputs": []
    },
    {
      "metadata": {
        "id": "BPU0LfSgWciQ",
        "colab_type": "code",
        "colab": {
          "autoexec": {
            "startup": false,
            "wait_interval": 0
          }
        }
      },
      "cell_type": "code",
      "source": [
        "def model_train(model):\n",
        "    \n",
        "    model_history = model.fit(X_train, y_train, validation_data=(X_test, y_test), \n",
        "                          epochs=epochs, batch_size=batch_size, verbose=2)\n",
        "    \n",
        "    plot_model_history(model_history)"
      ],
      "execution_count": 0,
      "outputs": []
    },
    {
      "metadata": {
        "id": "vXMR0sWKWf1g",
        "colab_type": "code",
        "colab": {
          "autoexec": {
            "startup": false,
            "wait_interval": 0
          }
        }
      },
      "cell_type": "code",
      "source": [
        "def plot_model_history(model_history):\n",
        "    fig, axs = plt.subplots(1,2,figsize=(15,5))\n",
        "    \n",
        "    axs[0].plot(range(1,len(model_history.history['acc'])+1),model_history.history['acc'])\n",
        "    axs[0].plot(range(1,len(model_history.history['val_acc'])+1),model_history.history['val_acc'])\n",
        "    axs[0].set_title('Model Accuracy')\n",
        "    axs[0].set_ylabel('Accuracy')\n",
        "    axs[0].set_xlabel('Epoch')\n",
        "    axs[0].set_xticks(np.arange(1,len(model_history.history['acc'])+1),len(model_history.history['acc'])/10)\n",
        "    axs[0].legend(['train', 'val'], loc='best')\n",
        "    \n",
        "    axs[1].plot(range(1,len(model_history.history['loss'])+1),model_history.history['loss'])\n",
        "    axs[1].plot(range(1,len(model_history.history['val_loss'])+1),model_history.history['val_loss'])\n",
        "    axs[1].set_title('Model Loss')\n",
        "    axs[1].set_ylabel('Loss')\n",
        "    axs[1].set_xlabel('Epoch')\n",
        "    axs[1].set_xticks(np.arange(1,len(model_history.history['loss'])+1),len(model_history.history['loss'])/10)\n",
        "    axs[1].legend(['train', 'val'], loc='best')\n",
        "    plt.show()"
      ],
      "execution_count": 0,
      "outputs": []
    },
    {
      "metadata": {
        "id": "UyqMIIuIWlai",
        "colab_type": "code",
        "colab": {
          "autoexec": {
            "startup": false,
            "wait_interval": 0
          }
        }
      },
      "cell_type": "code",
      "source": [
        "def model_evaluate(): \n",
        "    # predict class with test set\n",
        "    y_pred_test =  model.predict_classes(X_test, batch_size=batch_size, verbose=0)\n",
        "    print('Accuracy:\\t{:0.1f}%'.format(accuracy_score(np.argmax(y_test,axis=1),y_pred_test)*100))\n",
        "    \n",
        "    #classification report\n",
        "    print('\\n')\n",
        "    print(classification_report(np.argmax(y_test,axis=1), y_pred_test))\n",
        "\n",
        "    #confusion matrix\n",
        "    confmat = confusion_matrix(np.argmax(y_test,axis=1), y_pred_test)\n",
        "\n",
        "    fig, ax = plt.subplots(figsize=(4, 4))\n",
        "    ax.matshow(confmat, cmap=plt.cm.Blues, alpha=0.3)\n",
        "    for i in range(confmat.shape[0]):\n",
        "        for j in range(confmat.shape[1]):\n",
        "            ax.text(x=j, y=i, s=confmat[i, j], va='center', ha='center')\n",
        "    plt.xlabel('Predicted label')\n",
        "    plt.ylabel('True label')\n",
        "    plt.tight_layout()"
      ],
      "execution_count": 0,
      "outputs": []
    },
    {
      "metadata": {
        "id": "ogPvND4sWopz",
        "colab_type": "code",
        "colab": {
          "autoexec": {
            "startup": false,
            "wait_interval": 0
          },
          "base_uri": "https://localhost:8080/",
          "height": 910
        },
        "outputId": "5a4a3be3-51a2-46d9-a3ee-3fa3c529263b",
        "executionInfo": {
          "status": "ok",
          "timestamp": 1532253351429,
          "user_tz": -120,
          "elapsed": 29341,
          "user": {
            "displayName": "pedro oftalmo",
            "photoUrl": "https://lh3.googleusercontent.com/a/default-user=s128",
            "userId": "103534249081506905925"
          }
        }
      },
      "cell_type": "code",
      "source": [
        "max_features = 1000\n",
        "embed_dim = 100\n",
        "model = get_model(max_features, embed_dim)\n",
        "model_train(model)"
      ],
      "execution_count": 206,
      "outputs": [
        {
          "output_type": "stream",
          "text": [
            "_________________________________________________________________\n",
            "Layer (type)                 Output Shape              Param #   \n",
            "=================================================================\n",
            "embedding_1 (Embedding)      (None, 30, 100)           100000    \n",
            "_________________________________________________________________\n",
            "conv1d_1 (Conv1D)            (None, 30, 32)            9632      \n",
            "_________________________________________________________________\n",
            "max_pooling1d_1 (MaxPooling1 (None, 15, 32)            0         \n",
            "_________________________________________________________________\n",
            "conv1d_2 (Conv1D)            (None, 15, 32)            3104      \n",
            "_________________________________________________________________\n",
            "max_pooling1d_2 (MaxPooling1 (None, 7, 32)             0         \n",
            "_________________________________________________________________\n",
            "lstm_1 (LSTM)                (None, 100)               53200     \n",
            "_________________________________________________________________\n",
            "dense_1 (Dense)              (None, 2)                 202       \n",
            "=================================================================\n",
            "Total params: 166,138\n",
            "Trainable params: 166,138\n",
            "Non-trainable params: 0\n",
            "_________________________________________________________________\n",
            "None\n",
            "Train on 88858 samples, validate on 9874 samples\n",
            "Epoch 1/5\n",
            " - 6s - loss: 0.5820 - acc: 0.6784 - val_loss: 0.5232 - val_acc: 0.7395\n",
            "Epoch 2/5\n",
            " - 5s - loss: 0.5076 - acc: 0.7475 - val_loss: 0.5172 - val_acc: 0.7426\n",
            "Epoch 3/5\n",
            " - 5s - loss: 0.4912 - acc: 0.7574 - val_loss: 0.5179 - val_acc: 0.7431\n",
            "Epoch 4/5\n",
            " - 5s - loss: 0.4742 - acc: 0.7696 - val_loss: 0.5249 - val_acc: 0.7397\n",
            "Epoch 5/5\n",
            " - 5s - loss: 0.4512 - acc: 0.7854 - val_loss: 0.5435 - val_acc: 0.7307\n"
          ],
          "name": "stdout"
        },
        {
          "output_type": "display_data",
          "data": {
            "image/png": "[encoded data removed]",
            "text/plain": [
              "<matplotlib.figure.Figure at 0x7fa8aa9bba20>"
            ]
          },
          "metadata": {
            "tags": []
          }
        }
      ]
    },
    {
      "metadata": {
        "id": "Y5uumYqQar5U",
        "colab_type": "text"
      },
      "cell_type": "markdown",
      "source": [
        "Mejoran algo los resultados que el modelo realizado con Bayes, pero tenemos que tener en cuenta que se aprecia un ligero overfitting en los gráficos mostrados."
      ]
    },
    {
      "metadata": {
        "id": "iVmxC3jeXzWH",
        "colab_type": "text"
      },
      "cell_type": "markdown",
      "source": [
        "A continuación utlizaremos el vector preentrenado mediante factorización de matrices por Stanford llamado GloVe para intentar mejorar los resultados"
      ]
    },
    {
      "metadata": {
        "id": "RGF3smvDXRmN",
        "colab_type": "code",
        "colab": {
          "autoexec": {
            "startup": false,
            "wait_interval": 0
          }
        }
      },
      "cell_type": "code",
      "source": [
        "def get_coefs(word, *arr):\n",
        "    return word, np.asarray(arr, dtype='float32')\n",
        "    \n",
        "def get_embed_mat(EMBEDDING_FILE, max_features=1000):\n",
        "    # word vectors\n",
        "    embeddings_index = dict(get_coefs(*o.rstrip().rsplit(' ')) for o in open(EMBEDDING_FILE, encoding='utf8'))\n",
        "    print('Found %s word vectors.' % len(embeddings_index))\n",
        "\n",
        "    # embedding matrix\n",
        "    word_index = tokenizer.word_index\n",
        "    num_words = min(max_features, len(word_index) + 1)\n",
        "    all_embs = np.stack(embeddings_index.values()) #for random init\n",
        "    embedding_matrix = np.random.normal(all_embs.mean(), all_embs.std(), \n",
        "                                        (num_words, embed_dim))\n",
        "    for word, i in word_index.items():\n",
        "        if i >= max_features:\n",
        "            continue\n",
        "        embedding_vector = embeddings_index.get(word)\n",
        "        if embedding_vector is not None:\n",
        "            embedding_matrix[i] = embedding_vector\n",
        "    max_features = embedding_matrix.shape[0]\n",
        "    \n",
        "    return max_features, embedding_matrix"
      ],
      "execution_count": 0,
      "outputs": []
    },
    {
      "metadata": {
        "id": "Fokvuaw8XTYc",
        "colab_type": "code",
        "colab": {
          "autoexec": {
            "startup": false,
            "wait_interval": 0
          }
        }
      },
      "cell_type": "code",
      "source": [
        "def get_model(max_features, embed_dim, embedding_matrix):\n",
        "    np.random.seed(seed)\n",
        "    K.clear_session()\n",
        "    model = Sequential()\n",
        "    model.add(Embedding(max_features, embed_dim, input_length=X_train.shape[1],\n",
        "                       weights=[embedding_matrix]))#,trainable=False\n",
        "    model.add(Conv1D(filters=32, kernel_size=3, padding='same', activation='relu'))\n",
        "    model.add(MaxPooling1D(pool_size=2))\n",
        "    model.add(Conv1D(filters=32, kernel_size=3, padding='same', activation='relu'))\n",
        "    model.add(MaxPooling1D(pool_size=2))    \n",
        "    model.add(LSTM(100, dropout=0.7, recurrent_dropout=0.7))\n",
        "    model.add(Dense(num_classes, activation='softmax'))\n",
        "    model.compile(loss='categorical_crossentropy', optimizer='adam', metrics=['accuracy'])\n",
        "    print(model.summary())\n",
        "    return model"
      ],
      "execution_count": 0,
      "outputs": []
    },
    {
      "metadata": {
        "id": "lwE6eVRGYRc-",
        "colab_type": "text"
      },
      "cell_type": "markdown",
      "source": [
        "El archivo utlizado se encuentra en https://nlp.stanford.edu/projects/glove/ y ha sido descargado a Drive para poder trabajar con él ya que debido al gran tamaño del mismo no se podía poner ni en github ni se ha podido realizar de otra forma."
      ]
    },
    {
      "metadata": {
        "id": "kwF7MI3UXbSs",
        "colab_type": "code",
        "colab": {
          "autoexec": {
            "startup": false,
            "wait_interval": 0
          },
          "base_uri": "https://localhost:8080/",
          "height": 927
        },
        "outputId": "9e1a9c8e-cabc-4484-9dad-6c96b215c102",
        "executionInfo": {
          "status": "ok",
          "timestamp": 1532252988918,
          "user_tz": -120,
          "elapsed": 48690,
          "user": {
            "displayName": "pedro oftalmo",
            "photoUrl": "https://lh3.googleusercontent.com/a/default-user=s128",
            "userId": "103534249081506905925"
          }
        }
      },
      "cell_type": "code",
      "source": [
        "EMBEDDING_FILE = 'glove.twitter.27B.25d.txt'\n",
        "embed_dim = 25 \n",
        "max_features, embedding_matrix = get_embed_mat(EMBEDDING_FILE)\n",
        "\n",
        "# train the model\n",
        "model = get_model(max_features, embed_dim, embedding_matrix)\n",
        "model_train(model)"
      ],
      "execution_count": 186,
      "outputs": [
        {
          "output_type": "stream",
          "text": [
            "Found 1193514 word vectors.\n",
            "_________________________________________________________________\n",
            "Layer (type)                 Output Shape              Param #   \n",
            "=================================================================\n",
            "embedding_1 (Embedding)      (None, 30, 25)            25000     \n",
            "_________________________________________________________________\n",
            "conv1d_1 (Conv1D)            (None, 30, 32)            2432      \n",
            "_________________________________________________________________\n",
            "max_pooling1d_1 (MaxPooling1 (None, 15, 32)            0         \n",
            "_________________________________________________________________\n",
            "conv1d_2 (Conv1D)            (None, 15, 32)            3104      \n",
            "_________________________________________________________________\n",
            "max_pooling1d_2 (MaxPooling1 (None, 7, 32)             0         \n",
            "_________________________________________________________________\n",
            "lstm_1 (LSTM)                (None, 100)               53200     \n",
            "_________________________________________________________________\n",
            "dense_1 (Dense)              (None, 2)                 202       \n",
            "=================================================================\n",
            "Total params: 83,938\n",
            "Trainable params: 83,938\n",
            "Non-trainable params: 0\n",
            "_________________________________________________________________\n",
            "None\n",
            "Train on 83922 samples, validate on 14810 samples\n",
            "Epoch 1/5\n",
            " - 7s - loss: 0.6444 - acc: 0.6182 - val_loss: 0.5817 - val_acc: 0.6841\n",
            "Epoch 2/5\n",
            " - 5s - loss: 0.5661 - acc: 0.7033 - val_loss: 0.5409 - val_acc: 0.7223\n",
            "Epoch 3/5\n",
            " - 5s - loss: 0.5349 - acc: 0.7285 - val_loss: 0.5306 - val_acc: 0.7320\n",
            "Epoch 4/5\n",
            " - 5s - loss: 0.5239 - acc: 0.7377 - val_loss: 0.5255 - val_acc: 0.7361\n",
            "Epoch 5/5\n",
            " - 5s - loss: 0.5172 - acc: 0.7425 - val_loss: 0.5241 - val_acc: 0.7365\n"
          ],
          "name": "stdout"
        },
        {
          "output_type": "display_data",
          "data": {
            "image/png": "[encoded data removed]",
            "text/plain": [
              "<matplotlib.figure.Figure at 0x7fa8aa92bf98>"
            ]
          },
          "metadata": {
            "tags": []
          }
        }
      ]
    },
    {
      "metadata": {
        "id": "OteCWWPdZXaR",
        "colab_type": "text"
      },
      "cell_type": "markdown",
      "source": [
        "Como se puede observar se obtienen unos resultados parecidos al caso anterior pero una disminución muy grande del overfitting, por lo que consideramos este modelo mucho mejor que el anterior."
      ]
    },
    {
      "metadata": {
        "id": "eDylHgZ0TIT-",
        "colab_type": "text"
      },
      "cell_type": "markdown",
      "source": [
        "#2. TOPIC MODELING"
      ]
    },
    {
      "metadata": {
        "id": "kDeEvsDbUkjy",
        "colab_type": "text"
      },
      "cell_type": "markdown",
      "source": [
        "Para solucionar el problema de topic modeling utilizaremos unsupervised learning. El algoritmo que vamos a utilizar LDA. Lo vamos a hacer de texto del que no tenemos etiquetas, ver que temas tenemos en cada texto. Para ello necesitaremos la librería Gensim."
      ]
    },
    {
      "metadata": {
        "id": "P7_xUdQHu3i3",
        "colab_type": "code",
        "colab": {
          "autoexec": {
            "startup": false,
            "wait_interval": 0
          },
          "base_uri": "https://localhost:8080/",
          "height": 204
        },
        "outputId": "1b04d772-8799-417d-9e21-3e6bfed030e6",
        "executionInfo": {
          "status": "ok",
          "timestamp": 1532253511972,
          "user_tz": -120,
          "elapsed": 2409,
          "user": {
            "displayName": "pedro oftalmo",
            "photoUrl": "https://lh3.googleusercontent.com/a/default-user=s128",
            "userId": "103534249081506905925"
          }
        }
      },
      "cell_type": "code",
      "source": [
        "!wget https://raw.githubusercontent.com/jampol71/NLP/master/dataset2.json"
      ],
      "execution_count": 207,
      "outputs": [
        {
          "output_type": "stream",
          "text": [
            "--2018-07-22 09:58:30--  https://raw.githubusercontent.com/jampol71/NLP/master/dataset2.json\r\n",
            "Resolving raw.githubusercontent.com (raw.githubusercontent.com)... 151.101.0.133, 151.101.64.133, 151.101.128.133, ...\r\n",
            "Connecting to raw.githubusercontent.com (raw.githubusercontent.com)|151.101.0.133|:443... connected.\n",
            "HTTP request sent, awaiting response... 200 OK\n",
            "Length: 1070528 (1.0M) [text/plain]\n",
            "Saving to: ‘dataset2.json’\n",
            "\n",
            "dataset2.json       100%[===================>]   1.02M  --.-KB/s    in 0.03s   \n",
            "\n",
            "2018-07-22 09:58:31 (29.8 MB/s) - ‘dataset2.json’ saved [1070528/1070528]\n",
            "\n"
          ],
          "name": "stdout"
        }
      ]
    },
    {
      "metadata": {
        "id": "s4kJ2zbPvJLG",
        "colab_type": "code",
        "colab": {
          "autoexec": {
            "startup": false,
            "wait_interval": 0
          },
          "base_uri": "https://localhost:8080/",
          "height": 34
        },
        "outputId": "3aaf0951-7019-4a8e-d3ba-1eae18b9b402",
        "executionInfo": {
          "status": "ok",
          "timestamp": 1532256490946,
          "user_tz": -120,
          "elapsed": 2019,
          "user": {
            "displayName": "pedro oftalmo",
            "photoUrl": "https://lh3.googleusercontent.com/a/default-user=s128",
            "userId": "103534249081506905925"
          }
        }
      },
      "cell_type": "code",
      "source": [
        "df_tm = pd.read_json('dataset2.json') \n",
        "df_tm = df_tm.T\n",
        "df_tm.shape"
      ],
      "execution_count": 293,
      "outputs": [
        {
          "output_type": "execute_result",
          "data": {
            "text/plain": [
              "(5889, 2)"
            ]
          },
          "metadata": {
            "tags": []
          },
          "execution_count": 293
        }
      ]
    },
    {
      "metadata": {
        "id": "iKeX9drBbjwo",
        "colab_type": "text"
      },
      "cell_type": "markdown",
      "source": [
        "El dataset con el cual deberemos trabajar, es una serie de twits de los presidentes Obama y Trump."
      ]
    },
    {
      "metadata": {
        "id": "aO3JRuIdckHF",
        "colab_type": "code",
        "colab": {
          "autoexec": {
            "startup": false,
            "wait_interval": 0
          },
          "base_uri": "https://localhost:8080/",
          "height": 238
        },
        "outputId": "bfbf93ec-5ff5-474f-e4ac-259ebac4adbf",
        "executionInfo": {
          "status": "ok",
          "timestamp": 1532256499547,
          "user_tz": -120,
          "elapsed": 1520,
          "user": {
            "displayName": "pedro oftalmo",
            "photoUrl": "https://lh3.googleusercontent.com/a/default-user=s128",
            "userId": "103534249081506905925"
          }
        }
      },
      "cell_type": "code",
      "source": [
        "df_tm.head(5)"
      ],
      "execution_count": 294,
      "outputs": [
        {
          "output_type": "execute_result",
          "data": {
            "text/html": [
              "<div>\n",
              "<style scoped>\n",
              "    .dataframe tbody tr th:only-of-type {\n",
              "        vertical-align: middle;\n",
              "    }\n",
              "\n",
              "    .dataframe tbody tr th {\n",
              "        vertical-align: top;\n",
              "    }\n",
              "\n",
              "    .dataframe thead th {\n",
              "        text-align: right;\n",
              "    }\n",
              "</style>\n",
              "<table border=\"1\" class=\"dataframe\">\n",
              "  <thead>\n",
              "    <tr style=\"text-align: right;\">\n",
              "      <th></th>\n",
              "      <th>label</th>\n",
              "      <th>tweet</th>\n",
              "    </tr>\n",
              "  </thead>\n",
              "  <tbody>\n",
              "    <tr>\n",
              "      <th>0</th>\n",
              "      <td>OBAMA</td>\n",
              "      <td>“Low plastic stool, cheap but delicious noodles, cold Hanoi beer.” This is how I’ll remember Tony. He taught us about food — but more importantly, about its ability to bring us together. To make us a little less afraid of the unknown. We’ll miss him. https://t.co/orEXIaEMZM</td>\n",
              "    </tr>\n",
              "    <tr>\n",
              "      <th>1</th>\n",
              "      <td>OBAMA</td>\n",
              "      <td>“Low plastic stool, cheap but delicious noodles, cold Hanoi beer.” This is how I’ll remember Tony. He taught us about food — but more importantly, about its ability to bring us together. To make us a little less afraid of the unknown. We’ll miss him. https://t.co/orEXIaEMZM</td>\n",
              "    </tr>\n",
              "    <tr>\n",
              "      <th>10</th>\n",
              "      <td>OBAMA</td>\n",
              "      <td>Michelle and I are so inspired by all the young people who made today’s marches happen. Keep at it. You’re leading us forward. Nothing can stand in the way of millions of voices calling for change.</td>\n",
              "    </tr>\n",
              "    <tr>\n",
              "      <th>100</th>\n",
              "      <td>OBAMA</td>\n",
              "      <td>Senate leaders' obstruction of our Supreme Court nomination process is unacceptable. Say so: https://t.co/t3pYMO8Fp0 #DoYourJob</td>\n",
              "    </tr>\n",
              "    <tr>\n",
              "      <th>1000</th>\n",
              "      <td>OBAMA</td>\n",
              "      <td>In 31 states, people can still be fired because of who they love. Help change that in 2016: https://t.co/19OA1ZV27Y https://t.co/FPJE5lqg3R</td>\n",
              "    </tr>\n",
              "  </tbody>\n",
              "</table>\n",
              "</div>"
            ],
            "text/plain": [
              "      label  \\\n",
              "0     OBAMA   \n",
              "1     OBAMA   \n",
              "10    OBAMA   \n",
              "100   OBAMA   \n",
              "1000  OBAMA   \n",
              "\n",
              "                                                                                                                                                                                                                                                                                   tweet  \n",
              "0     “Low plastic stool, cheap but delicious noodles, cold Hanoi beer.” This is how I’ll remember Tony. He taught us about food — but more importantly, about its ability to bring us together. To make us a little less afraid of the unknown. We’ll miss him. https://t.co/orEXIaEMZM  \n",
              "1     “Low plastic stool, cheap but delicious noodles, cold Hanoi beer.” This is how I’ll remember Tony. He taught us about food — but more importantly, about its ability to bring us together. To make us a little less afraid of the unknown. We’ll miss him. https://t.co/orEXIaEMZM  \n",
              "10    Michelle and I are so inspired by all the young people who made today’s marches happen. Keep at it. You’re leading us forward. Nothing can stand in the way of millions of voices calling for change.                                                                               \n",
              "100   Senate leaders' obstruction of our Supreme Court nomination process is unacceptable. Say so: https://t.co/t3pYMO8Fp0 #DoYourJob                                                                                                                                                     \n",
              "1000  In 31 states, people can still be fired because of who they love. Help change that in 2016: https://t.co/19OA1ZV27Y https://t.co/FPJE5lqg3R                                                                                                                                         "
            ]
          },
          "metadata": {
            "tags": []
          },
          "execution_count": 294
        }
      ]
    },
    {
      "metadata": {
        "id": "HgMfGcWQcquh",
        "colab_type": "code",
        "colab": {
          "autoexec": {
            "startup": false,
            "wait_interval": 0
          },
          "base_uri": "https://localhost:8080/",
          "height": 238
        },
        "outputId": "9be39bb8-d384-4fcd-8785-f6a73e87d92f",
        "executionInfo": {
          "status": "ok",
          "timestamp": 1532256503885,
          "user_tz": -120,
          "elapsed": 1957,
          "user": {
            "displayName": "pedro oftalmo",
            "photoUrl": "https://lh3.googleusercontent.com/a/default-user=s128",
            "userId": "103534249081506905925"
          }
        }
      },
      "cell_type": "code",
      "source": [
        "del df_tm['label']\n",
        "\n",
        "df_tm.head(5)"
      ],
      "execution_count": 295,
      "outputs": [
        {
          "output_type": "execute_result",
          "data": {
            "text/html": [
              "<div>\n",
              "<style scoped>\n",
              "    .dataframe tbody tr th:only-of-type {\n",
              "        vertical-align: middle;\n",
              "    }\n",
              "\n",
              "    .dataframe tbody tr th {\n",
              "        vertical-align: top;\n",
              "    }\n",
              "\n",
              "    .dataframe thead th {\n",
              "        text-align: right;\n",
              "    }\n",
              "</style>\n",
              "<table border=\"1\" class=\"dataframe\">\n",
              "  <thead>\n",
              "    <tr style=\"text-align: right;\">\n",
              "      <th></th>\n",
              "      <th>tweet</th>\n",
              "    </tr>\n",
              "  </thead>\n",
              "  <tbody>\n",
              "    <tr>\n",
              "      <th>0</th>\n",
              "      <td>“Low plastic stool, cheap but delicious noodles, cold Hanoi beer.” This is how I’ll remember Tony. He taught us about food — but more importantly, about its ability to bring us together. To make us a little less afraid of the unknown. We’ll miss him. https://t.co/orEXIaEMZM</td>\n",
              "    </tr>\n",
              "    <tr>\n",
              "      <th>1</th>\n",
              "      <td>“Low plastic stool, cheap but delicious noodles, cold Hanoi beer.” This is how I’ll remember Tony. He taught us about food — but more importantly, about its ability to bring us together. To make us a little less afraid of the unknown. We’ll miss him. https://t.co/orEXIaEMZM</td>\n",
              "    </tr>\n",
              "    <tr>\n",
              "      <th>10</th>\n",
              "      <td>Michelle and I are so inspired by all the young people who made today’s marches happen. Keep at it. You’re leading us forward. Nothing can stand in the way of millions of voices calling for change.</td>\n",
              "    </tr>\n",
              "    <tr>\n",
              "      <th>100</th>\n",
              "      <td>Senate leaders' obstruction of our Supreme Court nomination process is unacceptable. Say so: https://t.co/t3pYMO8Fp0 #DoYourJob</td>\n",
              "    </tr>\n",
              "    <tr>\n",
              "      <th>1000</th>\n",
              "      <td>In 31 states, people can still be fired because of who they love. Help change that in 2016: https://t.co/19OA1ZV27Y https://t.co/FPJE5lqg3R</td>\n",
              "    </tr>\n",
              "  </tbody>\n",
              "</table>\n",
              "</div>"
            ],
            "text/plain": [
              "                                                                                                                                                                                                                                                                                   tweet\n",
              "0     “Low plastic stool, cheap but delicious noodles, cold Hanoi beer.” This is how I’ll remember Tony. He taught us about food — but more importantly, about its ability to bring us together. To make us a little less afraid of the unknown. We’ll miss him. https://t.co/orEXIaEMZM\n",
              "1     “Low plastic stool, cheap but delicious noodles, cold Hanoi beer.” This is how I’ll remember Tony. He taught us about food — but more importantly, about its ability to bring us together. To make us a little less afraid of the unknown. We’ll miss him. https://t.co/orEXIaEMZM\n",
              "10    Michelle and I are so inspired by all the young people who made today’s marches happen. Keep at it. You’re leading us forward. Nothing can stand in the way of millions of voices calling for change.                                                                             \n",
              "100   Senate leaders' obstruction of our Supreme Court nomination process is unacceptable. Say so: https://t.co/t3pYMO8Fp0 #DoYourJob                                                                                                                                                   \n",
              "1000  In 31 states, people can still be fired because of who they love. Help change that in 2016: https://t.co/19OA1ZV27Y https://t.co/FPJE5lqg3R                                                                                                                                       "
            ]
          },
          "metadata": {
            "tags": []
          },
          "execution_count": 295
        }
      ]
    },
    {
      "metadata": {
        "id": "aXBafqh_dnf_",
        "colab_type": "code",
        "colab": {
          "autoexec": {
            "startup": false,
            "wait_interval": 0
          },
          "base_uri": "https://localhost:8080/",
          "height": 238
        },
        "outputId": "93e67cb7-402f-4b3b-a9a1-76a8f4f2bbaa",
        "executionInfo": {
          "status": "ok",
          "timestamp": 1532256508163,
          "user_tz": -120,
          "elapsed": 773,
          "user": {
            "displayName": "pedro oftalmo",
            "photoUrl": "https://lh3.googleusercontent.com/a/default-user=s128",
            "userId": "103534249081506905925"
          }
        }
      },
      "cell_type": "code",
      "source": [
        "tweets = df_tm.rename(columns={'tweet': 'Tweet'})\n",
        "tweets.head(5)"
      ],
      "execution_count": 296,
      "outputs": [
        {
          "output_type": "execute_result",
          "data": {
            "text/html": [
              "<div>\n",
              "<style scoped>\n",
              "    .dataframe tbody tr th:only-of-type {\n",
              "        vertical-align: middle;\n",
              "    }\n",
              "\n",
              "    .dataframe tbody tr th {\n",
              "        vertical-align: top;\n",
              "    }\n",
              "\n",
              "    .dataframe thead th {\n",
              "        text-align: right;\n",
              "    }\n",
              "</style>\n",
              "<table border=\"1\" class=\"dataframe\">\n",
              "  <thead>\n",
              "    <tr style=\"text-align: right;\">\n",
              "      <th></th>\n",
              "      <th>Tweet</th>\n",
              "    </tr>\n",
              "  </thead>\n",
              "  <tbody>\n",
              "    <tr>\n",
              "      <th>0</th>\n",
              "      <td>“Low plastic stool, cheap but delicious noodles, cold Hanoi beer.” This is how I’ll remember Tony. He taught us about food — but more importantly, about its ability to bring us together. To make us a little less afraid of the unknown. We’ll miss him. https://t.co/orEXIaEMZM</td>\n",
              "    </tr>\n",
              "    <tr>\n",
              "      <th>1</th>\n",
              "      <td>“Low plastic stool, cheap but delicious noodles, cold Hanoi beer.” This is how I’ll remember Tony. He taught us about food — but more importantly, about its ability to bring us together. To make us a little less afraid of the unknown. We’ll miss him. https://t.co/orEXIaEMZM</td>\n",
              "    </tr>\n",
              "    <tr>\n",
              "      <th>10</th>\n",
              "      <td>Michelle and I are so inspired by all the young people who made today’s marches happen. Keep at it. You’re leading us forward. Nothing can stand in the way of millions of voices calling for change.</td>\n",
              "    </tr>\n",
              "    <tr>\n",
              "      <th>100</th>\n",
              "      <td>Senate leaders' obstruction of our Supreme Court nomination process is unacceptable. Say so: https://t.co/t3pYMO8Fp0 #DoYourJob</td>\n",
              "    </tr>\n",
              "    <tr>\n",
              "      <th>1000</th>\n",
              "      <td>In 31 states, people can still be fired because of who they love. Help change that in 2016: https://t.co/19OA1ZV27Y https://t.co/FPJE5lqg3R</td>\n",
              "    </tr>\n",
              "  </tbody>\n",
              "</table>\n",
              "</div>"
            ],
            "text/plain": [
              "                                                                                                                                                                                                                                                                                   Tweet\n",
              "0     “Low plastic stool, cheap but delicious noodles, cold Hanoi beer.” This is how I’ll remember Tony. He taught us about food — but more importantly, about its ability to bring us together. To make us a little less afraid of the unknown. We’ll miss him. https://t.co/orEXIaEMZM\n",
              "1     “Low plastic stool, cheap but delicious noodles, cold Hanoi beer.” This is how I’ll remember Tony. He taught us about food — but more importantly, about its ability to bring us together. To make us a little less afraid of the unknown. We’ll miss him. https://t.co/orEXIaEMZM\n",
              "10    Michelle and I are so inspired by all the young people who made today’s marches happen. Keep at it. You’re leading us forward. Nothing can stand in the way of millions of voices calling for change.                                                                             \n",
              "100   Senate leaders' obstruction of our Supreme Court nomination process is unacceptable. Say so: https://t.co/t3pYMO8Fp0 #DoYourJob                                                                                                                                                   \n",
              "1000  In 31 states, people can still be fired because of who they love. Help change that in 2016: https://t.co/19OA1ZV27Y https://t.co/FPJE5lqg3R                                                                                                                                       "
            ]
          },
          "metadata": {
            "tags": []
          },
          "execution_count": 296
        }
      ]
    },
    {
      "metadata": {
        "id": "oAT8aSXKfGHF",
        "colab_type": "code",
        "colab": {
          "autoexec": {
            "startup": false,
            "wait_interval": 0
          },
          "base_uri": "https://localhost:8080/",
          "height": 238
        },
        "outputId": "99bb20ac-cfc8-480a-986d-6d6c483288f4",
        "executionInfo": {
          "status": "ok",
          "timestamp": 1532256514368,
          "user_tz": -120,
          "elapsed": 531,
          "user": {
            "displayName": "pedro oftalmo",
            "photoUrl": "https://lh3.googleusercontent.com/a/default-user=s128",
            "userId": "103534249081506905925"
          }
        }
      },
      "cell_type": "code",
      "source": [
        "tweets.head(5)"
      ],
      "execution_count": 297,
      "outputs": [
        {
          "output_type": "execute_result",
          "data": {
            "text/html": [
              "<div>\n",
              "<style scoped>\n",
              "    .dataframe tbody tr th:only-of-type {\n",
              "        vertical-align: middle;\n",
              "    }\n",
              "\n",
              "    .dataframe tbody tr th {\n",
              "        vertical-align: top;\n",
              "    }\n",
              "\n",
              "    .dataframe thead th {\n",
              "        text-align: right;\n",
              "    }\n",
              "</style>\n",
              "<table border=\"1\" class=\"dataframe\">\n",
              "  <thead>\n",
              "    <tr style=\"text-align: right;\">\n",
              "      <th></th>\n",
              "      <th>Tweet</th>\n",
              "    </tr>\n",
              "  </thead>\n",
              "  <tbody>\n",
              "    <tr>\n",
              "      <th>0</th>\n",
              "      <td>“Low plastic stool, cheap but delicious noodles, cold Hanoi beer.” This is how I’ll remember Tony. He taught us about food — but more importantly, about its ability to bring us together. To make us a little less afraid of the unknown. We’ll miss him. https://t.co/orEXIaEMZM</td>\n",
              "    </tr>\n",
              "    <tr>\n",
              "      <th>1</th>\n",
              "      <td>“Low plastic stool, cheap but delicious noodles, cold Hanoi beer.” This is how I’ll remember Tony. He taught us about food — but more importantly, about its ability to bring us together. To make us a little less afraid of the unknown. We’ll miss him. https://t.co/orEXIaEMZM</td>\n",
              "    </tr>\n",
              "    <tr>\n",
              "      <th>10</th>\n",
              "      <td>Michelle and I are so inspired by all the young people who made today’s marches happen. Keep at it. You’re leading us forward. Nothing can stand in the way of millions of voices calling for change.</td>\n",
              "    </tr>\n",
              "    <tr>\n",
              "      <th>100</th>\n",
              "      <td>Senate leaders' obstruction of our Supreme Court nomination process is unacceptable. Say so: https://t.co/t3pYMO8Fp0 #DoYourJob</td>\n",
              "    </tr>\n",
              "    <tr>\n",
              "      <th>1000</th>\n",
              "      <td>In 31 states, people can still be fired because of who they love. Help change that in 2016: https://t.co/19OA1ZV27Y https://t.co/FPJE5lqg3R</td>\n",
              "    </tr>\n",
              "  </tbody>\n",
              "</table>\n",
              "</div>"
            ],
            "text/plain": [
              "                                                                                                                                                                                                                                                                                   Tweet\n",
              "0     “Low plastic stool, cheap but delicious noodles, cold Hanoi beer.” This is how I’ll remember Tony. He taught us about food — but more importantly, about its ability to bring us together. To make us a little less afraid of the unknown. We’ll miss him. https://t.co/orEXIaEMZM\n",
              "1     “Low plastic stool, cheap but delicious noodles, cold Hanoi beer.” This is how I’ll remember Tony. He taught us about food — but more importantly, about its ability to bring us together. To make us a little less afraid of the unknown. We’ll miss him. https://t.co/orEXIaEMZM\n",
              "10    Michelle and I are so inspired by all the young people who made today’s marches happen. Keep at it. You’re leading us forward. Nothing can stand in the way of millions of voices calling for change.                                                                             \n",
              "100   Senate leaders' obstruction of our Supreme Court nomination process is unacceptable. Say so: https://t.co/t3pYMO8Fp0 #DoYourJob                                                                                                                                                   \n",
              "1000  In 31 states, people can still be fired because of who they love. Help change that in 2016: https://t.co/19OA1ZV27Y https://t.co/FPJE5lqg3R                                                                                                                                       "
            ]
          },
          "metadata": {
            "tags": []
          },
          "execution_count": 297
        }
      ]
    },
    {
      "metadata": {
        "id": "CcSFULbleRa5",
        "colab_type": "text"
      },
      "cell_type": "markdown",
      "source": [
        "Se va realizar un preprocesado de los twits"
      ]
    },
    {
      "metadata": {
        "id": "NPPrKpH0eX2w",
        "colab_type": "code",
        "colab": {
          "autoexec": {
            "startup": false,
            "wait_interval": 0
          }
        }
      },
      "cell_type": "code",
      "source": [
        "#eliminamos nombres de usuarios\n",
        "tweets['Tweet'] = tweets['Tweet'].apply((lambda x: re.sub('@[a-zA-z0-9_]+','',x)))"
      ],
      "execution_count": 0,
      "outputs": []
    },
    {
      "metadata": {
        "id": "snoNPHdngN5B",
        "colab_type": "code",
        "colab": {
          "autoexec": {
            "startup": false,
            "wait_interval": 0
          }
        }
      },
      "cell_type": "code",
      "source": [
        "#sustituimos símbolos\n",
        "tweets['Tweet'] = tweets['Tweet'].apply((lambda x: re.sub(r'&amp', 'and', x)))"
      ],
      "execution_count": 0,
      "outputs": []
    },
    {
      "metadata": {
        "id": "kgMWXcCqehDc",
        "colab_type": "code",
        "colab": {
          "autoexec": {
            "startup": false,
            "wait_interval": 0
          }
        }
      },
      "cell_type": "code",
      "source": [
        "#eliminamos links\n",
        "tweets['Tweet'] = tweets['Tweet'].apply((lambda x: re.sub('(http|https)://[a-zA-Z0-9\\./]+','',x)))"
      ],
      "execution_count": 0,
      "outputs": []
    },
    {
      "metadata": {
        "id": "oRRtoha8enbN",
        "colab_type": "code",
        "colab": {
          "autoexec": {
            "startup": false,
            "wait_interval": 0
          }
        }
      },
      "cell_type": "code",
      "source": [
        "#eliminamos Stop Words\n",
        "from nltk.corpus import stopwords\n",
        "stop = stopwords.words('english')\n",
        "tweets['Tweet'] = tweets['Tweet'].apply(lambda x: \" \".join(x for x in x.split() if x not in stop))"
      ],
      "execution_count": 0,
      "outputs": []
    },
    {
      "metadata": {
        "id": "BW92-wh4eyDn",
        "colab_type": "code",
        "colab": {
          "autoexec": {
            "startup": false,
            "wait_interval": 0
          },
          "base_uri": "https://localhost:8080/",
          "height": 139
        },
        "outputId": "1046d9be-57ca-4456-b037-185a9cee5fcb",
        "executionInfo": {
          "status": "ok",
          "timestamp": 1532256532070,
          "user_tz": -120,
          "elapsed": 2638,
          "user": {
            "displayName": "pedro oftalmo",
            "photoUrl": "https://lh3.googleusercontent.com/a/default-user=s128",
            "userId": "103534249081506905925"
          }
        }
      },
      "cell_type": "code",
      "source": [
        "#Spelling correction\n",
        "from textblob import TextBlob\n",
        "tweets['Tweet'][:5].apply(lambda x: str(TextBlob(x).correct()))"
      ],
      "execution_count": 302,
      "outputs": [
        {
          "output_type": "execute_result",
          "data": {
            "text/plain": [
              "0       “Now plastic stool, cheap delicious nodules, cold Anti beer.” His I’ll remember Bony. He taught us food — importantly, ability bring us together. To make us little less afraid unknown. He’ll miss him.\n",
              "1       “Now plastic stool, cheap delicious nodules, cold Anti beer.” His I’ll remember Bony. He taught us food — importantly, ability bring us together. To make us little less afraid unknown. He’ll miss him.\n",
              "10      Michelle I inspired young people made today’s marches happen. Deep it. You’re leading us forward. Nothing stand way millions voices calling change.                                                     \n",
              "100     Senate leaders' obstruction Supreme Court nomination process unacceptable. May so: #DoYourJob                                                                                                           \n",
              "1000    In 31 states, people still fired love. Help change 2016:                                                                                                                                                \n",
              "Name: Tweet, dtype: object"
            ]
          },
          "metadata": {
            "tags": []
          },
          "execution_count": 302
        }
      ]
    },
    {
      "metadata": {
        "id": "54Ue3riKe3KQ",
        "colab_type": "code",
        "colab": {
          "autoexec": {
            "startup": false,
            "wait_interval": 0
          }
        }
      },
      "cell_type": "code",
      "source": [
        "#Lemmatización (en vez de stemming por ser más eficaz)\n",
        "from textblob import Word\n",
        "tweets['Tweet'] = tweets['Tweet'].apply(lambda x: \" \".join([Word(word).lemmatize() for word in x.split()]))"
      ],
      "execution_count": 0,
      "outputs": []
    },
    {
      "metadata": {
        "id": "tJ688coEV_G_",
        "colab_type": "text"
      },
      "cell_type": "markdown",
      "source": [
        "Se verifican los twits que tenemos"
      ]
    },
    {
      "metadata": {
        "id": "4K9BL_aieHkp",
        "colab_type": "code",
        "colab": {
          "autoexec": {
            "startup": false,
            "wait_interval": 0
          },
          "base_uri": "https://localhost:8080/",
          "height": 34
        },
        "outputId": "9fad40e1-0ba9-4cd4-9d1a-4b088553486a",
        "executionInfo": {
          "status": "ok",
          "timestamp": 1532256538467,
          "user_tz": -120,
          "elapsed": 611,
          "user": {
            "displayName": "pedro oftalmo",
            "photoUrl": "https://lh3.googleusercontent.com/a/default-user=s128",
            "userId": "103534249081506905925"
          }
        }
      },
      "cell_type": "code",
      "source": [
        "range(len(tweets['Tweet']))"
      ],
      "execution_count": 304,
      "outputs": [
        {
          "output_type": "execute_result",
          "data": {
            "text/plain": [
              "range(0, 5889)"
            ]
          },
          "metadata": {
            "tags": []
          },
          "execution_count": 304
        }
      ]
    },
    {
      "metadata": {
        "id": "R_h4WWbKWHTU",
        "colab_type": "text"
      },
      "cell_type": "markdown",
      "source": [
        "Definimos el corpus que se va a utilizar"
      ]
    },
    {
      "metadata": {
        "id": "7TUQgYlkePrB",
        "colab_type": "code",
        "colab": {
          "autoexec": {
            "startup": false,
            "wait_interval": 0
          }
        }
      },
      "cell_type": "code",
      "source": [
        "corpus=[]\n",
        "a=[]\n",
        "for i in range(len(tweets['Tweet'])):\n",
        "        a=tweets['Tweet'][i]\n",
        "        corpus.append(a)"
      ],
      "execution_count": 0,
      "outputs": []
    },
    {
      "metadata": {
        "id": "EjX1dHz6eZU4",
        "colab_type": "code",
        "colab": {
          "autoexec": {
            "startup": false,
            "wait_interval": 0
          },
          "base_uri": "https://localhost:8080/",
          "height": 122
        },
        "outputId": "52ac391e-ea5c-40dc-cccc-bdbb7fb870ed",
        "executionInfo": {
          "status": "ok",
          "timestamp": 1532256546394,
          "user_tz": -120,
          "elapsed": 1316,
          "user": {
            "displayName": "pedro oftalmo",
            "photoUrl": "https://lh3.googleusercontent.com/a/default-user=s128",
            "userId": "103534249081506905925"
          }
        }
      },
      "cell_type": "code",
      "source": [
        "corpus[0:5]"
      ],
      "execution_count": 306,
      "outputs": [
        {
          "output_type": "execute_result",
          "data": {
            "text/plain": [
              "['“Low plastic stool, cheap delicious noodles, cold Hanoi beer.” This I’ll remember Tony. He taught u food — importantly, ability bring u together. To make u little le afraid unknown. We’ll miss him.',\n",
              " '“Low plastic stool, cheap delicious noodles, cold Hanoi beer.” This I’ll remember Tony. He taught u food — importantly, ability bring u together. To make u little le afraid unknown. We’ll miss him.',\n",
              " 'This National Gun Violence Awareness Day, show commitment keeping kid safe gun violence. Then, everyone we’ve lost, take action change leadership law reflect commitment - matter long takes.',\n",
              " 'We never truly repay debt owe fallen heroes. But remember them, honor sacrifice, affirm life enduring ideal justice, equality, opportunity generation Americans given last full measure devotion.',\n",
              " 'This Center leader tomorrow ready step build world be. Michelle I grateful Chicagoans Chicago City Council making happen.']"
            ]
          },
          "metadata": {
            "tags": []
          },
          "execution_count": 306
        }
      ]
    },
    {
      "metadata": {
        "id": "n9WlzQfWW0Ky",
        "colab_type": "text"
      },
      "cell_type": "markdown",
      "source": [
        "Se va a utilizar gensim, que es una librería que se utiliza exclusivamente para Topic Modeling. "
      ]
    },
    {
      "metadata": {
        "id": "fYWBWf62edoe",
        "colab_type": "code",
        "colab": {
          "autoexec": {
            "startup": false,
            "wait_interval": 0
          }
        }
      },
      "cell_type": "code",
      "source": [
        "from gensim import corpora, models, similarities\n",
        "from nltk.corpus import stopwords\n",
        "from string import punctuation"
      ],
      "execution_count": 0,
      "outputs": []
    },
    {
      "metadata": {
        "id": "E44SOWemb4Wg",
        "colab_type": "text"
      },
      "cell_type": "markdown",
      "source": [
        "Se va a realizar un pequeño preprocesamiento de los datos del dataset para obtener mejores resultados en el modelo."
      ]
    },
    {
      "metadata": {
        "id": "GIVkSwPYeq0s",
        "colab_type": "code",
        "colab": {
          "autoexec": {
            "startup": false,
            "wait_interval": 0
          }
        }
      },
      "cell_type": "code",
      "source": [
        "list1 = ['RT','rt']\n",
        "stoplist = stopwords.words('english') + list(punctuation) + list1\n",
        "\n",
        "texts = [[word for word in str(document).lower().split() if word not in stoplist] for document in corpus]"
      ],
      "execution_count": 0,
      "outputs": []
    },
    {
      "metadata": {
        "id": "ZafdpSEhgFLN",
        "colab_type": "code",
        "colab": {
          "autoexec": {
            "startup": false,
            "wait_interval": 0
          }
        }
      },
      "cell_type": "code",
      "source": [
        "dictionary = corpora.Dictionary(texts)"
      ],
      "execution_count": 0,
      "outputs": []
    },
    {
      "metadata": {
        "id": "W4gmYlIugNKp",
        "colab_type": "code",
        "colab": {
          "autoexec": {
            "startup": false,
            "wait_interval": 0
          }
        }
      },
      "cell_type": "code",
      "source": [
        "corpus = [dictionary.doc2bow(text) for text in texts]"
      ],
      "execution_count": 0,
      "outputs": []
    },
    {
      "metadata": {
        "id": "uUsGi75tgUmM",
        "colab_type": "code",
        "colab": {
          "autoexec": {
            "startup": false,
            "wait_interval": 0
          }
        }
      },
      "cell_type": "code",
      "source": [
        "from gensim import corpora, models, similarities"
      ],
      "execution_count": 0,
      "outputs": []
    },
    {
      "metadata": {
        "id": "ZbPpvzCgg6oV",
        "colab_type": "code",
        "colab": {
          "autoexec": {
            "startup": false,
            "wait_interval": 0
          }
        }
      },
      "cell_type": "code",
      "source": [
        "tfidf = models.TfidfModel(corpus) "
      ],
      "execution_count": 0,
      "outputs": []
    },
    {
      "metadata": {
        "id": "pdEWI9mtg93q",
        "colab_type": "code",
        "colab": {
          "autoexec": {
            "startup": false,
            "wait_interval": 0
          }
        }
      },
      "cell_type": "code",
      "source": [
        "corpus_tfidf = tfidf[corpus]  "
      ],
      "execution_count": 0,
      "outputs": []
    },
    {
      "metadata": {
        "id": "5mBbKwjgkhvX",
        "colab_type": "text"
      },
      "cell_type": "markdown",
      "source": [
        "Queremos agrupar todo en 5 topics"
      ]
    },
    {
      "metadata": {
        "id": "nBFshjTjgXtG",
        "colab_type": "code",
        "colab": {
          "autoexec": {
            "startup": false,
            "wait_interval": 0
          }
        }
      },
      "cell_type": "code",
      "source": [
        "total_topics = 10"
      ],
      "execution_count": 0,
      "outputs": []
    },
    {
      "metadata": {
        "id": "OItLOnryWUAx",
        "colab_type": "text"
      },
      "cell_type": "markdown",
      "source": [
        "LDA es un modelo generativo."
      ]
    },
    {
      "metadata": {
        "id": "TlzrVGgagbuw",
        "colab_type": "code",
        "colab": {
          "autoexec": {
            "startup": false,
            "wait_interval": 0
          }
        }
      },
      "cell_type": "code",
      "source": [
        "lda = models.LdaModel(corpus, id2word=dictionary, num_topics=total_topics)\n",
        "corpus_lda = lda[corpus_tfidf]"
      ],
      "execution_count": 0,
      "outputs": []
    },
    {
      "metadata": {
        "id": "wHve4Ye6aOFj",
        "colab_type": "text"
      },
      "cell_type": "markdown",
      "source": [
        "A continuación, se han definido topics que son grupos de palabras. Lo que se muestra es cada palabra la cantidad de cada uno de los topics que se han definido."
      ]
    },
    {
      "metadata": {
        "id": "1G3fDNyShNMi",
        "colab_type": "code",
        "colab": {
          "autoexec": {
            "startup": false,
            "wait_interval": 0
          },
          "base_uri": "https://localhost:8080/",
          "height": 357
        },
        "outputId": "3ca29fc4-fbcf-495a-ee25-31d3ad5eec38",
        "executionInfo": {
          "status": "ok",
          "timestamp": 1532256577305,
          "user_tz": -120,
          "elapsed": 741,
          "user": {
            "displayName": "pedro oftalmo",
            "photoUrl": "https://lh3.googleusercontent.com/a/default-user=s128",
            "userId": "103534249081506905925"
          }
        }
      },
      "cell_type": "code",
      "source": [
        "lda.show_topics(total_topics,5)"
      ],
      "execution_count": 316,
      "outputs": [
        {
          "output_type": "execute_result",
          "data": {
            "text/plain": [
              "[(0,\n",
              "  '0.024*\"strong\" + 0.007*\"totally\" + 0.007*\"even\" + 0.006*\"obama\" + 0.006*\"china\"'),\n",
              " (1,\n",
              "  '0.021*\"great\" + 0.016*\"obama\" + 0.012*\"—president\" + 0.011*\"really\" + 0.010*\"news\"'),\n",
              " (2,\n",
              "  '0.023*\"great\" + 0.017*\"and;\" + 0.010*\"looking\" + 0.009*\"big\" + 0.006*\"working\"'),\n",
              " (3,\n",
              "  '0.044*\"and;\" + 0.023*\"condolence\" + 0.022*\"offer\" + 0.012*\"great\" + 0.012*\"republican\"'),\n",
              " (4,\n",
              "  '0.028*\"tax\" + 0.023*\"president\" + 0.022*\"obama\" + 0.010*\"democrats\" + 0.009*\"new\"'),\n",
              " (5,\n",
              "  '0.010*\"great\" + 0.009*\"said\" + 0.008*\"meeting\" + 0.006*\"would\" + 0.006*\"illegal\"'),\n",
              " (6,\n",
              "  '0.021*\"great\" + 0.017*\"and;\" + 0.010*\"honor\" + 0.009*\"time\" + 0.009*\"welcome\"'),\n",
              " (7,\n",
              "  '0.016*\"great\" + 0.015*\"news\" + 0.008*\"u.s.\" + 0.007*\"total\" + 0.007*\"obama\"'),\n",
              " (8,\n",
              "  '0.029*\"attack\" + 0.028*\"terrorist\" + 0.025*\"london.\" + 0.023*\"well.\" + 0.019*\"today\"'),\n",
              " (9,\n",
              "  '0.018*\"may\" + 0.014*\"theresa\" + 0.012*\"thank\" + 0.011*\"spoke\" + 0.010*\"prime\"')]"
            ]
          },
          "metadata": {
            "tags": []
          },
          "execution_count": 316
        }
      ]
    },
    {
      "metadata": {
        "id": "lXs2zbFvhY8C",
        "colab_type": "code",
        "colab": {
          "autoexec": {
            "startup": false,
            "wait_interval": 0
          }
        }
      },
      "cell_type": "code",
      "source": [
        "from collections import OrderedDict\n",
        "\n",
        "data_lda = {i: OrderedDict(lda.show_topic(i,25)) for i in range(total_topics)}\n"
      ],
      "execution_count": 0,
      "outputs": []
    },
    {
      "metadata": {
        "id": "EQBoWLKqhcdO",
        "colab_type": "code",
        "colab": {
          "autoexec": {
            "startup": false,
            "wait_interval": 0
          },
          "base_uri": "https://localhost:8080/",
          "height": 51
        },
        "outputId": "65213184-3132-4fdc-a6b8-4cb0fc0b26e2",
        "executionInfo": {
          "status": "ok",
          "timestamp": 1532256589620,
          "user_tz": -120,
          "elapsed": 785,
          "user": {
            "displayName": "pedro oftalmo",
            "photoUrl": "https://lh3.googleusercontent.com/a/default-user=s128",
            "userId": "103534249081506905925"
          }
        }
      },
      "cell_type": "code",
      "source": [
        "df_lda = pd.DataFrame(data_lda)\n",
        "print(df_lda.shape)\n",
        "df_lda = df_lda.fillna(0).T\n",
        "print(df_lda.shape)"
      ],
      "execution_count": 318,
      "outputs": [
        {
          "output_type": "stream",
          "text": [
            "(144, 10)\n",
            "(10, 144)\n"
          ],
          "name": "stdout"
        }
      ]
    },
    {
      "metadata": {
        "id": "U6sdl82mhe_U",
        "colab_type": "code",
        "colab": {
          "autoexec": {
            "startup": false,
            "wait_interval": 0
          },
          "base_uri": "https://localhost:8080/",
          "height": 425
        },
        "outputId": "8ded9bf8-fe56-45b8-c49a-02fdb815f19b",
        "executionInfo": {
          "status": "ok",
          "timestamp": 1532256593169,
          "user_tz": -120,
          "elapsed": 840,
          "user": {
            "displayName": "pedro oftalmo",
            "photoUrl": "https://lh3.googleusercontent.com/a/default-user=s128",
            "userId": "103534249081506905925"
          }
        }
      },
      "cell_type": "code",
      "source": [
        "df_lda"
      ],
      "execution_count": 319,
      "outputs": [
        {
          "output_type": "execute_result",
          "data": {
            "text/html": [
              "<div>\n",
              "<style scoped>\n",
              "    .dataframe tbody tr th:only-of-type {\n",
              "        vertical-align: middle;\n",
              "    }\n",
              "\n",
              "    .dataframe tbody tr th {\n",
              "        vertical-align: top;\n",
              "    }\n",
              "\n",
              "    .dataframe thead th {\n",
              "        text-align: right;\n",
              "    }\n",
              "</style>\n",
              "<table border=\"1\" class=\"dataframe\">\n",
              "  <thead>\n",
              "    <tr style=\"text-align: right;\">\n",
              "      <th></th>\n",
              "      <th>again!</th>\n",
              "      <th>america</th>\n",
              "      <th>american</th>\n",
              "      <th>and;</th>\n",
              "      <th>attack</th>\n",
              "      <th>bad</th>\n",
              "      <th>believe</th>\n",
              "      <th>better</th>\n",
              "      <th>big</th>\n",
              "      <th>bill</th>\n",
              "      <th>...</th>\n",
              "      <th>welcome</th>\n",
              "      <th>well.</th>\n",
              "      <th>white</th>\n",
              "      <th>woman</th>\n",
              "      <th>work</th>\n",
              "      <th>working</th>\n",
              "      <th>would</th>\n",
              "      <th>year</th>\n",
              "      <th>you!</th>\n",
              "      <th>—president</th>\n",
              "    </tr>\n",
              "  </thead>\n",
              "  <tbody>\n",
              "    <tr>\n",
              "      <th>0</th>\n",
              "      <td>0.0000</td>\n",
              "      <td>0.003774</td>\n",
              "      <td>0.000000</td>\n",
              "      <td>0.000000</td>\n",
              "      <td>0.000000</td>\n",
              "      <td>0.000000</td>\n",
              "      <td>0.003468</td>\n",
              "      <td>0.000000</td>\n",
              "      <td>0.000000</td>\n",
              "      <td>0.000000</td>\n",
              "      <td>...</td>\n",
              "      <td>0.000000</td>\n",
              "      <td>0.000000</td>\n",
              "      <td>0.000000</td>\n",
              "      <td>0.000000</td>\n",
              "      <td>0.000000</td>\n",
              "      <td>0.000000</td>\n",
              "      <td>0.000000</td>\n",
              "      <td>0.000000</td>\n",
              "      <td>0.000000</td>\n",
              "      <td>0.004879</td>\n",
              "    </tr>\n",
              "    <tr>\n",
              "      <th>1</th>\n",
              "      <td>0.0000</td>\n",
              "      <td>0.004533</td>\n",
              "      <td>0.000000</td>\n",
              "      <td>0.009164</td>\n",
              "      <td>0.000000</td>\n",
              "      <td>0.000000</td>\n",
              "      <td>0.000000</td>\n",
              "      <td>0.000000</td>\n",
              "      <td>0.007677</td>\n",
              "      <td>0.000000</td>\n",
              "      <td>...</td>\n",
              "      <td>0.000000</td>\n",
              "      <td>0.000000</td>\n",
              "      <td>0.000000</td>\n",
              "      <td>0.003606</td>\n",
              "      <td>0.000000</td>\n",
              "      <td>0.000000</td>\n",
              "      <td>0.000000</td>\n",
              "      <td>0.000000</td>\n",
              "      <td>0.000000</td>\n",
              "      <td>0.012346</td>\n",
              "    </tr>\n",
              "    <tr>\n",
              "      <th>2</th>\n",
              "      <td>0.0000</td>\n",
              "      <td>0.004396</td>\n",
              "      <td>0.004116</td>\n",
              "      <td>0.016846</td>\n",
              "      <td>0.000000</td>\n",
              "      <td>0.000000</td>\n",
              "      <td>0.000000</td>\n",
              "      <td>0.000000</td>\n",
              "      <td>0.008572</td>\n",
              "      <td>0.000000</td>\n",
              "      <td>...</td>\n",
              "      <td>0.000000</td>\n",
              "      <td>0.000000</td>\n",
              "      <td>0.000000</td>\n",
              "      <td>0.000000</td>\n",
              "      <td>0.003493</td>\n",
              "      <td>0.005813</td>\n",
              "      <td>0.000000</td>\n",
              "      <td>0.003677</td>\n",
              "      <td>0.000000</td>\n",
              "      <td>0.000000</td>\n",
              "    </tr>\n",
              "    <tr>\n",
              "      <th>3</th>\n",
              "      <td>0.0034</td>\n",
              "      <td>0.006605</td>\n",
              "      <td>0.005514</td>\n",
              "      <td>0.043902</td>\n",
              "      <td>0.000000</td>\n",
              "      <td>0.000000</td>\n",
              "      <td>0.000000</td>\n",
              "      <td>0.000000</td>\n",
              "      <td>0.003506</td>\n",
              "      <td>0.000000</td>\n",
              "      <td>...</td>\n",
              "      <td>0.000000</td>\n",
              "      <td>0.000000</td>\n",
              "      <td>0.000000</td>\n",
              "      <td>0.000000</td>\n",
              "      <td>0.000000</td>\n",
              "      <td>0.000000</td>\n",
              "      <td>0.000000</td>\n",
              "      <td>0.003431</td>\n",
              "      <td>0.000000</td>\n",
              "      <td>0.000000</td>\n",
              "    </tr>\n",
              "    <tr>\n",
              "      <th>4</th>\n",
              "      <td>0.0000</td>\n",
              "      <td>0.000000</td>\n",
              "      <td>0.004622</td>\n",
              "      <td>0.000000</td>\n",
              "      <td>0.000000</td>\n",
              "      <td>0.000000</td>\n",
              "      <td>0.000000</td>\n",
              "      <td>0.000000</td>\n",
              "      <td>0.000000</td>\n",
              "      <td>0.000000</td>\n",
              "      <td>...</td>\n",
              "      <td>0.000000</td>\n",
              "      <td>0.000000</td>\n",
              "      <td>0.003338</td>\n",
              "      <td>0.000000</td>\n",
              "      <td>0.000000</td>\n",
              "      <td>0.000000</td>\n",
              "      <td>0.006086</td>\n",
              "      <td>0.000000</td>\n",
              "      <td>0.000000</td>\n",
              "      <td>0.007057</td>\n",
              "    </tr>\n",
              "    <tr>\n",
              "      <th>5</th>\n",
              "      <td>0.0000</td>\n",
              "      <td>0.000000</td>\n",
              "      <td>0.000000</td>\n",
              "      <td>0.000000</td>\n",
              "      <td>0.000000</td>\n",
              "      <td>0.004410</td>\n",
              "      <td>0.000000</td>\n",
              "      <td>0.000000</td>\n",
              "      <td>0.000000</td>\n",
              "      <td>0.000000</td>\n",
              "      <td>...</td>\n",
              "      <td>0.000000</td>\n",
              "      <td>0.000000</td>\n",
              "      <td>0.000000</td>\n",
              "      <td>0.000000</td>\n",
              "      <td>0.000000</td>\n",
              "      <td>0.000000</td>\n",
              "      <td>0.006166</td>\n",
              "      <td>0.000000</td>\n",
              "      <td>0.000000</td>\n",
              "      <td>0.000000</td>\n",
              "    </tr>\n",
              "    <tr>\n",
              "      <th>6</th>\n",
              "      <td>0.0000</td>\n",
              "      <td>0.000000</td>\n",
              "      <td>0.000000</td>\n",
              "      <td>0.017041</td>\n",
              "      <td>0.000000</td>\n",
              "      <td>0.000000</td>\n",
              "      <td>0.000000</td>\n",
              "      <td>0.000000</td>\n",
              "      <td>0.000000</td>\n",
              "      <td>0.000000</td>\n",
              "      <td>...</td>\n",
              "      <td>0.008685</td>\n",
              "      <td>0.000000</td>\n",
              "      <td>0.000000</td>\n",
              "      <td>0.000000</td>\n",
              "      <td>0.000000</td>\n",
              "      <td>0.000000</td>\n",
              "      <td>0.000000</td>\n",
              "      <td>0.000000</td>\n",
              "      <td>0.000000</td>\n",
              "      <td>0.000000</td>\n",
              "    </tr>\n",
              "    <tr>\n",
              "      <th>7</th>\n",
              "      <td>0.0000</td>\n",
              "      <td>0.000000</td>\n",
              "      <td>0.004386</td>\n",
              "      <td>0.000000</td>\n",
              "      <td>0.000000</td>\n",
              "      <td>0.000000</td>\n",
              "      <td>0.000000</td>\n",
              "      <td>0.004071</td>\n",
              "      <td>0.000000</td>\n",
              "      <td>0.000000</td>\n",
              "      <td>...</td>\n",
              "      <td>0.000000</td>\n",
              "      <td>0.000000</td>\n",
              "      <td>0.000000</td>\n",
              "      <td>0.000000</td>\n",
              "      <td>0.000000</td>\n",
              "      <td>0.000000</td>\n",
              "      <td>0.003595</td>\n",
              "      <td>0.005017</td>\n",
              "      <td>0.000000</td>\n",
              "      <td>0.004845</td>\n",
              "    </tr>\n",
              "    <tr>\n",
              "      <th>8</th>\n",
              "      <td>0.0000</td>\n",
              "      <td>0.000000</td>\n",
              "      <td>0.000000</td>\n",
              "      <td>0.000000</td>\n",
              "      <td>0.029224</td>\n",
              "      <td>0.000000</td>\n",
              "      <td>0.000000</td>\n",
              "      <td>0.000000</td>\n",
              "      <td>0.000000</td>\n",
              "      <td>0.002824</td>\n",
              "      <td>...</td>\n",
              "      <td>0.000000</td>\n",
              "      <td>0.022564</td>\n",
              "      <td>0.000000</td>\n",
              "      <td>0.000000</td>\n",
              "      <td>0.000000</td>\n",
              "      <td>0.000000</td>\n",
              "      <td>0.003159</td>\n",
              "      <td>0.000000</td>\n",
              "      <td>0.000000</td>\n",
              "      <td>0.000000</td>\n",
              "    </tr>\n",
              "    <tr>\n",
              "      <th>9</th>\n",
              "      <td>0.0000</td>\n",
              "      <td>0.000000</td>\n",
              "      <td>0.000000</td>\n",
              "      <td>0.000000</td>\n",
              "      <td>0.000000</td>\n",
              "      <td>0.004408</td>\n",
              "      <td>0.000000</td>\n",
              "      <td>0.000000</td>\n",
              "      <td>0.000000</td>\n",
              "      <td>0.000000</td>\n",
              "      <td>...</td>\n",
              "      <td>0.000000</td>\n",
              "      <td>0.000000</td>\n",
              "      <td>0.003797</td>\n",
              "      <td>0.000000</td>\n",
              "      <td>0.000000</td>\n",
              "      <td>0.000000</td>\n",
              "      <td>0.000000</td>\n",
              "      <td>0.000000</td>\n",
              "      <td>0.004262</td>\n",
              "      <td>0.000000</td>\n",
              "    </tr>\n",
              "  </tbody>\n",
              "</table>\n",
              "<p>10 rows × 144 columns</p>\n",
              "</div>"
            ],
            "text/plain": [
              "   again!   america  american      and;    attack       bad   believe  \\\n",
              "0  0.0000  0.003774  0.000000  0.000000  0.000000  0.000000  0.003468   \n",
              "1  0.0000  0.004533  0.000000  0.009164  0.000000  0.000000  0.000000   \n",
              "2  0.0000  0.004396  0.004116  0.016846  0.000000  0.000000  0.000000   \n",
              "3  0.0034  0.006605  0.005514  0.043902  0.000000  0.000000  0.000000   \n",
              "4  0.0000  0.000000  0.004622  0.000000  0.000000  0.000000  0.000000   \n",
              "5  0.0000  0.000000  0.000000  0.000000  0.000000  0.004410  0.000000   \n",
              "6  0.0000  0.000000  0.000000  0.017041  0.000000  0.000000  0.000000   \n",
              "7  0.0000  0.000000  0.004386  0.000000  0.000000  0.000000  0.000000   \n",
              "8  0.0000  0.000000  0.000000  0.000000  0.029224  0.000000  0.000000   \n",
              "9  0.0000  0.000000  0.000000  0.000000  0.000000  0.004408  0.000000   \n",
              "\n",
              "     better       big      bill     ...       welcome     well.     white  \\\n",
              "0  0.000000  0.000000  0.000000     ...      0.000000  0.000000  0.000000   \n",
              "1  0.000000  0.007677  0.000000     ...      0.000000  0.000000  0.000000   \n",
              "2  0.000000  0.008572  0.000000     ...      0.000000  0.000000  0.000000   \n",
              "3  0.000000  0.003506  0.000000     ...      0.000000  0.000000  0.000000   \n",
              "4  0.000000  0.000000  0.000000     ...      0.000000  0.000000  0.003338   \n",
              "5  0.000000  0.000000  0.000000     ...      0.000000  0.000000  0.000000   \n",
              "6  0.000000  0.000000  0.000000     ...      0.008685  0.000000  0.000000   \n",
              "7  0.004071  0.000000  0.000000     ...      0.000000  0.000000  0.000000   \n",
              "8  0.000000  0.000000  0.002824     ...      0.000000  0.022564  0.000000   \n",
              "9  0.000000  0.000000  0.000000     ...      0.000000  0.000000  0.003797   \n",
              "\n",
              "      woman      work   working     would      year      you!  —president  \n",
              "0  0.000000  0.000000  0.000000  0.000000  0.000000  0.000000  0.004879    \n",
              "1  0.003606  0.000000  0.000000  0.000000  0.000000  0.000000  0.012346    \n",
              "2  0.000000  0.003493  0.005813  0.000000  0.003677  0.000000  0.000000    \n",
              "3  0.000000  0.000000  0.000000  0.000000  0.003431  0.000000  0.000000    \n",
              "4  0.000000  0.000000  0.000000  0.006086  0.000000  0.000000  0.007057    \n",
              "5  0.000000  0.000000  0.000000  0.006166  0.000000  0.000000  0.000000    \n",
              "6  0.000000  0.000000  0.000000  0.000000  0.000000  0.000000  0.000000    \n",
              "7  0.000000  0.000000  0.000000  0.003595  0.005017  0.000000  0.004845    \n",
              "8  0.000000  0.000000  0.000000  0.003159  0.000000  0.000000  0.000000    \n",
              "9  0.000000  0.000000  0.000000  0.000000  0.000000  0.004262  0.000000    \n",
              "\n",
              "[10 rows x 144 columns]"
            ]
          },
          "metadata": {
            "tags": []
          },
          "execution_count": 319
        }
      ]
    },
    {
      "metadata": {
        "id": "YXIqL9Wozmff",
        "colab_type": "text"
      },
      "cell_type": "markdown",
      "source": [
        "Vamos a proceder a la visualización de modelo"
      ]
    },
    {
      "metadata": {
        "id": "uYpfcgoshmYw",
        "colab_type": "code",
        "colab": {
          "autoexec": {
            "startup": false,
            "wait_interval": 0
          },
          "base_uri": "https://localhost:8080/",
          "height": 758
        },
        "outputId": "3d4e0729-efb7-4e70-94e6-feaa465f16ea",
        "executionInfo": {
          "status": "ok",
          "timestamp": 1532256614380,
          "user_tz": -120,
          "elapsed": 4686,
          "user": {
            "displayName": "pedro oftalmo",
            "photoUrl": "https://lh3.googleusercontent.com/a/default-user=s128",
            "userId": "103534249081506905925"
          }
        }
      },
      "cell_type": "code",
      "source": [
        "import seaborn as sns\n",
        "import matplotlib.pyplot as plt\n",
        "%matplotlib inline\n",
        "\n",
        "g=sns.clustermap(df_lda.corr(), center=0, cmap=\"RdBu\", metric='cosine', linewidths=.75, figsize=(12, 12))\n",
        "plt.setp(g.ax_heatmap.yaxis.get_majorticklabels(), rotation=0)\n",
        "plt.show()"
      ],
      "execution_count": 320,
      "outputs": [
        {
          "output_type": "display_data",
          "data": {
            "image/png": "[encoded data removed]",
            "text/plain": [
              "<matplotlib.figure.Figure at 0x7fa8f8879588>"
            ]
          },
          "metadata": {
            "tags": []
          }
        }
      ]
    },
    {
      "metadata": {
        "id": "XR4M8USehrw5",
        "colab_type": "code",
        "colab": {
          "autoexec": {
            "startup": false,
            "wait_interval": 0
          },
          "base_uri": "https://localhost:8080/",
          "height": 861
        },
        "outputId": "69b4fb40-16c6-4b38-e43a-0c92a3762676",
        "executionInfo": {
          "status": "ok",
          "timestamp": 1532256635291,
          "user_tz": -120,
          "elapsed": 10785,
          "user": {
            "displayName": "pedro oftalmo",
            "photoUrl": "https://lh3.googleusercontent.com/a/default-user=s128",
            "userId": "103534249081506905925"
          }
        }
      },
      "cell_type": "code",
      "source": [
        "import pyLDAvis.gensim\n",
        "\n",
        "pyLDAvis.enable_notebook()\n",
        "panel = pyLDAvis.gensim.prepare(lda, corpus_lda, dictionary, mds='tsne')\n",
        "panel"
      ],
      "execution_count": 321,
      "outputs": [
        {
          "output_type": "execute_result",
          "data": {
            "text/html": [
              "\n",
              "<link rel=\"stylesheet\" type=\"text/css\" href=\"https://cdn.rawgit.com/bmabey/pyLDAvis/files/ldavis.v1.0.0.css\">\n",
              "\n",
              "\n",
              "<div id=\"ldavis_el941403635456051282279555880\"></div>\n",
              "<script type=\"text/javascript\">\n",
              "\n",
              "var ldavis_el941403635456051282279555880_data = {\"mdsDat\": {\"Freq\": [54.999977111816406, 5.0007004737854, 5.00011682510376, 4.99997091293335, 4.999874591827393, 4.999874591827393, 4.999870777130127, 4.999870777130127, 4.999870777130127, 4.999870777130127], \"cluster\": [1, 1, 1, 1, 1, 1, 1, 1, 1, 1], \"topics\": [1, 2, 3, 4, 5, 6, 7, 8, 9, 10], \"x\": [-125.20734405517578, -162.63467407226562, 140.19647216796875, 371.2003479003906, 203.89344787597656, 376.0011901855469, 59.62968063354492, -372.4895324707031, -289.64678955078125, 21.82831573486328], \"y\": [69.13176727294922, -311.3065490722656, 129.70111083984375, 280.63128662109375, -366.335693359375, -70.67411804199219, -130.11788940429688, -66.14742279052734, 296.06787109375, 396.11175537109375]}, \"tinfo\": {\"Category\": [\"Default\", \"Default\", \"Default\", \"Default\", \"Default\", \"Default\", \"Default\", \"Default\", \"Default\", \"Default\", \"Default\", \"Default\", \"Default\", \"Default\", \"Default\", \"Default\", \"Default\", \"Default\", \"Default\", \"Default\", \"Default\", \"Default\", \"Default\", \"Default\", \"Default\", \"Default\", \"Default\", \"Default\", \"Default\", \"Default\", \"Topic1\", \"Topic1\", \"Topic1\", \"Topic1\", \"Topic1\", \"Topic1\", \"Topic1\", \"Topic1\", \"Topic1\", \"Topic1\", \"Topic1\", \"Topic1\", \"Topic1\", \"Topic1\", \"Topic1\", \"Topic1\", \"Topic1\", \"Topic1\", \"Topic1\", \"Topic1\", \"Topic1\", \"Topic1\", \"Topic1\", \"Topic1\", \"Topic1\", \"Topic1\", \"Topic1\", \"Topic1\", \"Topic1\", \"Topic1\", \"Topic1\", \"Topic1\", \"Topic1\", \"Topic1\", \"Topic1\", \"Topic1\", \"Topic1\", \"Topic1\", \"Topic1\", \"Topic1\", \"Topic1\", \"Topic1\", \"Topic1\", \"Topic1\", \"Topic1\", \"Topic1\", \"Topic1\", \"Topic1\", \"Topic1\", \"Topic1\", \"Topic1\", \"Topic1\", \"Topic1\", \"Topic1\", \"Topic1\", \"Topic1\", \"Topic1\", \"Topic1\", \"Topic1\", \"Topic1\", \"Topic2\", \"Topic2\", \"Topic2\", \"Topic2\", \"Topic2\", \"Topic2\", \"Topic2\", \"Topic2\", \"Topic2\", \"Topic2\", \"Topic2\", \"Topic2\", \"Topic2\", \"Topic2\", \"Topic2\", \"Topic2\", \"Topic2\", \"Topic2\", \"Topic2\", \"Topic2\", \"Topic2\", \"Topic2\", \"Topic2\", \"Topic2\", \"Topic2\", \"Topic2\", \"Topic2\", \"Topic2\", \"Topic2\", \"Topic2\", \"Topic2\", \"Topic2\", \"Topic2\", \"Topic2\", \"Topic2\", \"Topic2\", \"Topic2\", \"Topic2\", \"Topic2\", \"Topic2\", \"Topic2\", \"Topic2\", \"Topic2\", \"Topic2\", \"Topic2\", \"Topic2\", \"Topic2\", \"Topic2\", \"Topic2\", \"Topic2\", \"Topic2\", \"Topic2\", \"Topic2\", \"Topic2\", \"Topic2\", \"Topic2\", \"Topic2\", \"Topic2\", \"Topic2\", \"Topic2\", \"Topic2\", \"Topic2\", \"Topic2\", \"Topic2\", \"Topic2\", \"Topic2\", \"Topic2\", \"Topic2\", \"Topic3\", \"Topic3\", \"Topic3\", \"Topic3\", \"Topic3\", \"Topic3\", \"Topic3\", \"Topic3\", \"Topic3\", \"Topic3\", \"Topic3\", \"Topic3\", \"Topic3\", \"Topic3\", \"Topic3\", \"Topic3\", \"Topic3\", \"Topic3\", \"Topic3\", \"Topic3\", \"Topic3\", \"Topic3\", \"Topic3\", \"Topic3\", \"Topic3\", \"Topic3\", \"Topic3\", \"Topic3\", \"Topic3\", \"Topic3\", \"Topic3\", \"Topic3\", \"Topic3\", \"Topic3\", \"Topic3\", \"Topic3\", \"Topic3\", \"Topic3\", \"Topic3\", \"Topic3\", \"Topic3\", \"Topic3\", \"Topic3\", \"Topic3\", \"Topic3\", \"Topic3\", \"Topic3\", \"Topic3\", \"Topic3\", \"Topic3\", \"Topic3\", \"Topic3\", \"Topic3\", \"Topic3\", \"Topic3\", \"Topic3\", \"Topic3\", \"Topic3\", \"Topic3\", \"Topic3\", \"Topic3\", \"Topic3\", \"Topic3\", \"Topic3\", \"Topic3\", \"Topic3\", \"Topic4\", \"Topic4\", \"Topic4\", \"Topic4\", \"Topic4\", \"Topic4\", \"Topic4\", \"Topic4\", \"Topic4\", \"Topic4\", \"Topic4\", \"Topic4\", \"Topic4\", \"Topic4\", \"Topic4\", \"Topic4\", \"Topic4\", \"Topic4\", \"Topic4\", \"Topic4\", \"Topic4\", \"Topic4\", \"Topic4\", \"Topic4\", \"Topic4\", \"Topic4\", \"Topic4\", \"Topic4\", \"Topic4\", \"Topic4\", \"Topic4\", \"Topic4\", \"Topic4\", \"Topic4\", \"Topic4\", \"Topic4\", \"Topic4\", \"Topic4\", \"Topic4\", \"Topic4\", \"Topic4\", \"Topic4\", \"Topic4\", \"Topic4\", \"Topic4\", \"Topic4\", \"Topic4\", \"Topic4\", \"Topic4\", \"Topic4\", \"Topic4\", \"Topic4\", \"Topic4\", \"Topic4\", \"Topic4\", \"Topic4\", \"Topic4\", \"Topic4\", \"Topic4\", \"Topic4\", \"Topic4\", \"Topic5\", \"Topic5\", \"Topic5\", \"Topic5\", \"Topic5\", \"Topic5\", \"Topic5\", \"Topic5\", \"Topic5\", \"Topic5\", \"Topic5\", \"Topic5\", \"Topic5\", \"Topic5\", \"Topic5\", \"Topic5\", \"Topic5\", \"Topic5\", \"Topic5\", \"Topic5\", \"Topic5\", \"Topic5\", \"Topic5\", \"Topic5\", \"Topic5\", \"Topic5\", \"Topic5\", \"Topic5\", \"Topic5\", \"Topic5\", \"Topic5\", \"Topic5\", \"Topic5\", \"Topic5\", \"Topic5\", \"Topic5\", \"Topic5\", \"Topic5\", \"Topic5\", \"Topic5\", \"Topic5\", \"Topic5\", \"Topic5\", \"Topic5\", \"Topic5\", \"Topic5\", \"Topic5\", \"Topic5\", \"Topic5\", \"Topic5\", \"Topic5\", \"Topic5\", \"Topic5\", \"Topic5\", \"Topic5\", \"Topic5\", \"Topic5\", \"Topic6\", \"Topic6\", \"Topic6\", \"Topic6\", \"Topic6\", \"Topic6\", \"Topic6\", \"Topic6\", \"Topic6\", \"Topic6\", \"Topic6\", \"Topic6\", \"Topic6\", \"Topic6\", \"Topic6\", \"Topic6\", \"Topic6\", \"Topic6\", \"Topic6\", \"Topic6\", \"Topic6\", \"Topic6\", \"Topic6\", \"Topic6\", \"Topic6\", \"Topic6\", \"Topic6\", \"Topic6\", \"Topic6\", \"Topic6\", \"Topic6\", \"Topic6\", \"Topic6\", \"Topic6\", \"Topic6\", \"Topic6\", \"Topic6\", \"Topic6\", \"Topic6\", \"Topic6\", \"Topic6\", \"Topic6\", \"Topic6\", \"Topic6\", \"Topic6\", \"Topic6\", \"Topic6\", \"Topic6\", \"Topic6\", \"Topic6\", \"Topic6\", \"Topic6\", \"Topic6\", \"Topic6\", \"Topic6\", \"Topic6\", \"Topic6\", \"Topic6\", \"Topic7\", \"Topic7\", \"Topic7\", \"Topic7\", \"Topic7\", \"Topic7\", \"Topic7\", \"Topic7\", \"Topic7\", \"Topic7\", \"Topic7\", \"Topic7\", \"Topic7\", \"Topic7\", \"Topic7\", \"Topic7\", \"Topic7\", \"Topic7\", \"Topic7\", \"Topic7\", \"Topic7\", \"Topic7\", \"Topic7\", \"Topic7\", \"Topic7\", \"Topic7\", \"Topic7\", \"Topic7\", \"Topic7\", \"Topic7\", \"Topic7\", \"Topic7\", \"Topic7\", \"Topic7\", \"Topic7\", \"Topic7\", \"Topic7\", \"Topic7\", \"Topic7\", \"Topic7\", \"Topic7\", \"Topic7\", \"Topic7\", \"Topic7\", \"Topic7\", \"Topic7\", \"Topic7\", \"Topic7\", \"Topic7\", \"Topic7\", \"Topic7\", \"Topic7\", \"Topic7\", \"Topic7\", \"Topic7\", \"Topic7\", \"Topic7\", \"Topic7\", \"Topic7\", \"Topic7\", \"Topic7\", \"Topic8\", \"Topic8\", \"Topic8\", \"Topic8\", \"Topic8\", \"Topic8\", \"Topic8\", \"Topic8\", \"Topic8\", \"Topic8\", \"Topic8\", \"Topic8\", \"Topic8\", \"Topic8\", \"Topic8\", \"Topic8\", \"Topic8\", \"Topic8\", \"Topic8\", \"Topic8\", \"Topic8\", \"Topic8\", \"Topic8\", \"Topic8\", \"Topic8\", \"Topic8\", \"Topic8\", \"Topic8\", \"Topic8\", \"Topic8\", \"Topic8\", \"Topic8\", \"Topic8\", \"Topic8\", \"Topic8\", \"Topic8\", \"Topic8\", \"Topic8\", \"Topic8\", \"Topic8\", \"Topic8\", \"Topic8\", \"Topic8\", \"Topic8\", \"Topic8\", \"Topic8\", \"Topic8\", \"Topic8\", \"Topic8\", \"Topic8\", \"Topic8\", \"Topic8\", \"Topic8\", \"Topic8\", \"Topic8\", \"Topic8\", \"Topic8\", \"Topic8\", \"Topic8\", \"Topic8\", \"Topic8\", \"Topic8\", \"Topic8\", \"Topic8\", \"Topic9\", \"Topic9\", \"Topic9\", \"Topic9\", \"Topic9\", \"Topic9\", \"Topic9\", \"Topic9\", \"Topic9\", \"Topic9\", \"Topic9\", \"Topic9\", \"Topic9\", \"Topic9\", \"Topic9\", \"Topic9\", \"Topic9\", \"Topic9\", \"Topic9\", \"Topic9\", \"Topic9\", \"Topic9\", \"Topic9\", \"Topic9\", \"Topic9\", \"Topic9\", \"Topic9\", \"Topic9\", \"Topic9\", \"Topic9\", \"Topic9\", \"Topic9\", \"Topic9\", \"Topic9\", \"Topic9\", \"Topic9\", \"Topic9\", \"Topic9\", \"Topic9\", \"Topic9\", \"Topic9\", \"Topic9\", \"Topic9\", \"Topic9\", \"Topic9\", \"Topic9\", \"Topic9\", \"Topic9\", \"Topic9\", \"Topic9\", \"Topic9\", \"Topic9\", \"Topic9\", \"Topic9\", \"Topic9\", \"Topic9\", \"Topic9\", \"Topic9\", \"Topic9\", \"Topic9\", \"Topic9\", \"Topic9\", \"Topic9\", \"Topic10\", \"Topic10\", \"Topic10\", \"Topic10\", \"Topic10\", \"Topic10\", \"Topic10\", \"Topic10\", \"Topic10\", \"Topic10\", \"Topic10\", \"Topic10\", \"Topic10\", \"Topic10\", \"Topic10\", \"Topic10\", \"Topic10\", \"Topic10\", \"Topic10\", \"Topic10\", \"Topic10\", \"Topic10\", \"Topic10\", \"Topic10\", \"Topic10\", \"Topic10\", \"Topic10\", \"Topic10\", \"Topic10\", \"Topic10\", \"Topic10\", \"Topic10\", \"Topic10\", \"Topic10\", \"Topic10\", \"Topic10\", \"Topic10\", \"Topic10\", \"Topic10\", \"Topic10\", \"Topic10\", \"Topic10\", \"Topic10\", \"Topic10\", \"Topic10\", \"Topic10\", \"Topic10\", \"Topic10\", \"Topic10\", \"Topic10\", \"Topic10\", \"Topic10\", \"Topic10\", \"Topic10\", \"Topic10\", \"Topic10\", \"Topic10\", \"Topic10\", \"Topic10\", \"Topic10\", \"Topic10\", \"Topic10\", \"Topic10\", \"Topic10\", \"Topic10\", \"Topic10\", \"Topic10\", \"Topic10\"], \"Freq\": [52.0, 95.0, 38.0, 67.0, 30.0, 8.0, 9.0, 8.0, 17.0, 25.0, 7.0, 8.0, 8.0, 6.0, 6.0, 35.0, 47.0, 20.0, 6.0, 26.0, 20.0, 12.0, 18.0, 32.0, 17.0, 19.0, 13.0, 22.0, 12.0, 5.0, 34.99714660644531, 26.491003036499023, 17.416030883789062, 13.827472686767578, 10.904687881469727, 9.515619277954102, 8.893409729003906, 6.983286380767822, 6.607228755950928, 6.288951396942139, 6.259673595428467, 5.999463081359863, 5.362619400024414, 5.348233222961426, 5.3048505783081055, 5.0155792236328125, 5.015496730804443, 4.9123663902282715, 5.501911640167236, 4.163424968719482, 4.074516296386719, 4.017064571380615, 4.015592575073242, 8.119906425476074, 3.713223934173584, 6.381567478179932, 9.05955982208252, 3.6101410388946533, 3.7259037494659424, 8.288607597351074, 21.479022979736328, 6.329821586608887, 4.869717121124268, 5.336082935333252, 12.302628517150879, 8.786505699157715, 14.662724494934082, 8.301725387573242, 39.988338470458984, 11.72919750213623, 31.753232955932617, 52.93448257446289, 18.133745193481445, 69.54420471191406, 24.866588592529297, 11.6802396774292, 12.74299144744873, 21.825231552124023, 18.03321075439453, 10.582694053649902, 29.68418312072754, 16.066532135009766, 16.60456085205078, 14.68147087097168, 13.649531364440918, 13.304638862609863, 11.511557579040527, 16.230655670166016, 10.873695373535156, 11.219511985778809, 1.4891098737716675, 0.8003714680671692, 0.7975700497627258, 0.7372650504112244, 2.8344180583953857, 0.6769382953643799, 0.6727502346038818, 0.6418815851211548, 0.5801674723625183, 0.549309492111206, 1.0576145648956299, 0.9644162058830261, 0.42026129364967346, 0.39495062828063965, 0.3948934078216553, 0.3922072649002075, 0.3907982409000397, 0.3898100256919861, 0.361345499753952, 0.32907968759536743, 0.2968151867389679, 0.295420378446579, 0.2868446707725525, 0.27735456824302673, 0.4796350598335266, 0.2673713266849518, 0.2673649787902832, 0.267363041639328, 0.267364501953125, 0.28708526492118835, 0.6384673118591309, 0.5292173027992249, 0.3826843500137329, 0.7339537143707275, 0.7078150510787964, 0.6325147151947021, 0.6903912425041199, 0.646014392375946, 1.1943234205245972, 1.0743107795715332, 0.7643386125564575, 1.5452167987823486, 1.5130078792572021, 6.816201686859131, 4.96121883392334, 0.7892589569091797, 0.7582760453224182, 1.3211413621902466, 2.5243263244628906, 1.6622611284255981, 1.4595016241073608, 1.7120563983917236, 1.0807524919509888, 1.2065168619155884, 1.4315046072006226, 1.028778076171875, 1.5110185146331787, 1.2945650815963745, 1.2122026681900024, 1.4905304908752441, 1.13798189163208, 1.0261198282241821, 1.0827934741973877, 0.9514957666397095, 0.9143335819244385, 0.9791442155838013, 0.9427899122238159, 0.9619600772857666, 3.5518717765808105, 6.77436637878418, 6.550259113311768, 1.167649745941162, 0.8333554267883301, 3.0476086139678955, 0.37795910239219666, 0.35398781299591064, 0.3262295722961426, 0.6079825758934021, 0.3880403935909271, 0.26820847392082214, 0.24943283200263977, 0.24045318365097046, 0.23793770372867584, 0.2366768717765808, 0.49306604266166687, 0.22042103111743927, 0.21144051849842072, 0.20891986787319183, 0.23575101792812347, 0.18369024991989136, 0.18368905782699585, 0.2373436838388443, 0.21167726814746857, 0.6004980206489563, 0.22833427786827087, 0.37760478258132935, 0.2755254805088043, 0.15593667328357697, 0.29338788986206055, 0.4781724214553833, 0.6669033169746399, 0.4258083999156952, 2.5812888145446777, 12.927727699279785, 1.6187171936035156, 0.8359214067459106, 0.734377920627594, 0.7907931804656982, 0.6523091197013855, 0.605887770652771, 1.025469422340393, 1.3179551362991333, 0.8112635016441345, 0.7641682624816895, 0.6710935235023499, 1.945026159286499, 0.9036480188369751, 3.6035335063934326, 1.1554980278015137, 1.9032663106918335, 1.6237413883209229, 1.2739285230636597, 1.4703956842422485, 1.0033559799194336, 1.2869237661361694, 1.001172423362732, 0.9360045790672302, 0.9505435824394226, 1.0102527141571045, 1.0838955640792847, 1.0322636365890503, 0.8584909439086914, 0.8706563711166382, 0.8425585627555847, 2.518322229385376, 1.717819094657898, 1.2752141952514648, 0.8408880233764648, 0.7165865898132324, 0.7162980437278748, 0.6537607312202454, 0.504865825176239, 0.5021364092826843, 0.4720818102359772, 0.6393491625785828, 0.41062214970588684, 0.38192957639694214, 0.38057053089141846, 0.34078678488731384, 0.7810279726982117, 0.32312923669815063, 0.301499605178833, 0.2904125452041626, 0.28904956579208374, 0.2876804769039154, 0.2891783118247986, 0.30958637595176697, 0.44211626052856445, 0.3488634526729584, 0.26169198751449585, 0.2603594958782196, 0.25899118185043335, 0.44409260153770447, 0.22894972562789917, 0.7276493310928345, 1.0724704265594482, 0.49912935495376587, 0.7624136209487915, 2.3179683685302734, 0.9447191953659058, 0.9060653448104858, 0.85294508934021, 1.2192416191101074, 1.3130946159362793, 1.6282126903533936, 1.38813316822052, 1.2985007762908936, 0.8735390305519104, 1.8155218362808228, 0.9267145991325378, 0.9601120948791504, 1.0993282794952393, 3.0349810123443604, 0.8280906677246094, 1.0000003576278687, 0.8710470795631409, 1.2501336336135864, 1.3094078302383423, 1.3179922103881836, 1.3006396293640137, 1.0445549488067627, 0.9309983849525452, 0.9175811409950256, 0.9796286225318909, 0.8508237600326538, 8.605027198791504, 7.488211154937744, 0.7153127789497375, 0.5880001783370972, 8.145776748657227, 0.5191130042076111, 0.4831736981868744, 0.5836202502250671, 0.4172748327255249, 0.41727232933044434, 0.38731202483177185, 0.3828258216381073, 0.35137155652046204, 0.5181494951248169, 0.31692230701446533, 0.2869430482387543, 0.31895318627357483, 0.29545947909355164, 0.2525205612182617, 0.2921278178691864, 0.31063908338546753, 0.21956467628479004, 0.6347024440765381, 0.24781151115894318, 0.3227733075618744, 0.27030470967292786, 0.2238168865442276, 0.18363508582115173, 6.644041538238525, 0.3342829942703247, 3.835836410522461, 1.5606379508972168, 1.1476513147354126, 5.505003929138184, 0.9121400713920593, 2.4221134185791016, 2.253659248352051, 1.7500790357589722, 0.4675251841545105, 1.7748515605926514, 1.2914729118347168, 0.8315832614898682, 0.8462989330291748, 1.325467586517334, 1.056868314743042, 0.6484713554382324, 1.513167381286621, 1.199595332145691, 1.0207933187484741, 0.9291893839836121, 0.8612593412399292, 0.9300368428230286, 0.761706531047821, 0.7638130784034729, 0.80077064037323, 0.7369462251663208, 0.7743807435035706, 8.372779846191406, 1.659470796585083, 1.258598804473877, 1.0399689674377441, 0.9189466834068298, 0.8201356530189514, 0.7818878293037415, 0.6887761354446411, 0.6876212954521179, 0.6203618049621582, 0.6050716042518616, 0.5864918828010559, 0.586513102054596, 0.5645512938499451, 0.5620695352554321, 0.5597800016403198, 0.5586087703704834, 0.5574437975883484, 0.5436473488807678, 0.5330466032028198, 0.531856119632721, 0.518070638179779, 0.5039700269699097, 0.502804696559906, 0.48189353942871094, 0.456331729888916, 0.4563148021697998, 0.4528422951698303, 0.42842361330986023, 0.42842069268226624, 0.916124701499939, 0.6373887658119202, 2.97036075592041, 1.2610011100769043, 0.5495043992996216, 1.0264617204666138, 6.8497114181518555, 1.4237797260284424, 0.9197394251823425, 0.7331074476242065, 2.5794568061828613, 6.5539231300354, 1.6949020624160767, 1.1091959476470947, 1.7919422388076782, 1.1056863069534302, 0.9828633069992065, 1.0741603374481201, 0.8552678823471069, 2.0780081748962402, 1.1818214654922485, 0.8172352313995361, 1.360849380493164, 1.097375512123108, 1.4233193397521973, 1.2462414503097534, 1.451664924621582, 0.8543544411659241, 1.012911081314087, 0.753861665725708, 0.6196376085281372, 0.4168996512889862, 0.40845656394958496, 0.3834904730319977, 0.46777868270874023, 0.33771052956581116, 0.3473103642463684, 0.3327574133872986, 0.29089635610580444, 0.40043535828590393, 0.35081860423088074, 5.169190406799316, 0.25366201996803284, 0.6022302508354187, 0.2805543839931488, 0.19932077825069427, 0.3042484223842621, 0.7526107430458069, 0.1888226717710495, 0.17541266977787018, 0.17437653243541718, 0.20431949198246002, 0.20412558317184448, 0.33443471789360046, 0.20056873559951782, 0.9443343877792358, 0.1995738446712494, 3.9810471534729004, 0.5290781855583191, 0.36676105856895447, 0.2618696987628937, 3.162839889526367, 0.4698331654071808, 2.9440739154815674, 2.812558889389038, 1.489033818244934, 0.6101282238960266, 1.373092532157898, 1.1180511713027954, 1.9673336744308472, 1.6923303604125977, 3.4409143924713135, 1.0584602355957031, 1.2549911737442017, 1.0444836616516113, 1.3303982019424438, 1.2978869676589966, 0.8939539790153503, 2.3286256790161133, 2.1286401748657227, 1.0083760023117065, 1.1532777547836304, 1.074503779411316, 1.1942064762115479, 1.1288107633590698, 1.142640471458435, 1.4468446969985962, 1.1409834623336792, 0.8824151754379272, 1.9795838594436646, 1.756015658378601, 1.2606910467147827, 0.9026864767074585, 0.8071376085281372, 0.6390799283981323, 0.6198292970657349, 0.5128281712532043, 0.48230746388435364, 0.48229777812957764, 0.47814783453941345, 0.451780766248703, 0.44760382175445557, 0.4212474524974823, 0.3893464207649231, 0.38518014550209045, 0.3869892358779907, 0.3546482026576996, 0.6943715810775757, 0.3281654715538025, 0.3255239427089691, 0.32552284002304077, 0.5113524794578552, 0.29499995708465576, 0.2949922978878021, 0.43809786438941956, 0.28373077511787415, 0.2657712996006012, 0.26446613669395447, 1.0587961673736572, 0.4212961196899414, 0.43340781331062317, 0.5061360597610474, 0.6619362235069275, 1.4260168075561523, 0.9109609723091125, 0.8781872987747192, 0.9344537854194641, 1.7039822340011597, 4.5486040115356445, 2.280489444732666, 1.578852653503418, 1.1988120079040527, 4.80422830581665, 0.9088689088821411, 0.8810598850250244, 1.4010146856307983, 1.57314133644104, 0.9186959862709045, 1.1650696992874146, 1.4771709442138672, 1.4155303239822388, 0.9480643272399902, 1.9323112964630127, 1.291569709777832, 1.1524854898452759, 1.329047679901123, 1.426731824874878, 1.1807337999343872, 1.0584934949874878, 1.0783681869506836, 0.9753038287162781, 0.9786251783370972, 0.9497390389442444, 2.110565423965454, 1.7523208856582642, 1.7213016748428345, 1.71449875831604, 1.0707645416259766, 0.733197808265686, 0.682723343372345, 0.56207275390625, 0.5593505501747131, 0.5322355031967163, 0.4712391495704651, 0.46987563371658325, 0.4685387909412384, 0.4661215543746948, 0.44006597995758057, 0.44006189703941345, 0.44098031520843506, 2.5573623180389404, 0.3790484666824341, 0.3790469467639923, 0.34920912981033325, 0.34900668263435364, 0.31940898299217224, 0.3193899691104889, 0.3139929175376892, 0.29787272214889526, 0.28823351860046387, 0.28685876727104187, 0.2597029209136963, 0.3103213906288147, 0.4132537841796875, 1.1652915477752686, 2.8208346366882324, 2.407386302947998, 1.7291970252990723, 0.5773406028747559, 0.8401090502738953, 0.8156896233558655, 2.0432276725769043, 2.6464295387268066, 0.8549643158912659, 5.017873287200928, 1.320840835571289, 6.280275821685791, 1.4332046508789062, 1.154229998588562, 1.7035788297653198, 0.9673203825950623, 0.8432325720787048, 2.008941650390625, 1.1543463468551636, 1.857442021369934, 1.3394745588302612, 1.0354468822479248, 1.0108418464660645, 0.9513627290725708, 1.0192404985427856, 1.0709995031356812, 1.3383713960647583, 1.305965542793274, 1.3921860456466675, 1.1812655925750732, 1.0827983617782593, 2.127915859222412, 0.9135204553604126, 0.6260914206504822, 0.61834716796875, 0.5665463209152222, 0.5070005059242249, 0.5308730602264404, 7.16166353225708, 0.48894765973091125, 0.3037392497062683, 0.5773683786392212, 0.3024502992630005, 0.483934223651886, 0.27396783232688904, 0.2182922512292862, 0.20349670946598053, 0.18850941956043243, 0.18851640820503235, 0.2917633056640625, 0.18722473084926605, 0.18722371757030487, 0.2012050300836563, 0.19992859661579132, 0.605907678604126, 0.17183205485343933, 0.2576669156551361, 0.19463267922401428, 0.27895742654800415, 0.16003209352493286, 0.15874306857585907, 0.8711152076721191, 0.3846713900566101, 0.6005415916442871, 0.3118840456008911, 0.8113031387329102, 1.0877025127410889, 1.6614166498184204, 0.8973351716995239, 0.30360057950019836, 0.6932297945022583, 0.3030858337879181, 0.5687479972839355, 0.4655262231826782, 0.48492997884750366, 2.1049342155456543, 1.4508957862854004, 1.189872145652771, 0.7978283762931824, 1.0213135480880737, 1.0210119485855103, 1.3419058322906494, 1.3465256690979004, 1.1075047254562378, 1.0411593914031982, 1.2351551055908203, 0.8726336359977722, 1.5387924909591675, 0.9240407347679138, 1.0065549612045288, 1.8502075672149658, 1.2946453094482422, 1.0912978649139404, 1.4367640018463135, 1.2612167596817017, 0.9035606980323792, 1.111397624015808, 1.0132720470428467, 0.99358069896698], \"Term\": [\"and;\", \"great\", \"news\", \"obama\", \"president\", \"attack\", \"terrorist\", \"tax\", \"today\", \"thank\", \"london.\", \"well.\", \"strong\", \"condolence\", \"offer\", \"really\", \"\\u2014president\", \"america\", \"may\", \"election\", \"many\", \"u.s.\", \"fake\", \"big\", \"american\", \"want\", \"time\", \"make\", \"would\", \"democrats\", \"really\", \"election\", \"puerto\", \"senators\", \"rico\", \"committee\", \"told\", \"hurt\", \"solve\", \"bringing\", \"based\", \"nice\", \"alabama.\", \"subject\", \"term\", \"sacrifice\", \"pm\", \"winner\", \"anthem.\", \"president.\", \"thrilled\", \"shutdown\", \"internet\", \"d.c.\", \"time,\", \"worked\", \"executive\", \"passage\", \"expected\", \"second\", \"order\", \"police\", \"5\", \"hand\", \"truly\", \"given\", \"could\", \"\\\"the\", \"\\u2014president\", \"men\", \"news\", \"obama\", \"vote\", \"great\", \"big\", \"woman\", \"u\", \"people\", \"thank\", \"right\", \"and;\", \"make\", \"get\", \"america\", \"want\", \"many\", \"going\", \"president\", \"back\", \"working\", \"finally\", \"worst\", \"perhaps\", \"small\", \"looking\", \"news.\", \"security.\", \"source\", \"congratulations!\", \"hero\", \"secretary\", \"success\", \"pledge\", \"mccain\", \"rid\", \"economy,\", \"state.\", \"involved\", \"acting\", \"influence\", \"said,\", \"let\\u2019s\", \"afternoon\", \"claim\", \"water\", \"market.\", \"made.\", \"down,\", \"largely\", \"singapore\", \"consumer\", \"america\\u2019s\", \"representative\", \"hurricane\", \"behalf\", \"run\", \"confidence\", \"lower\", \"coming\", \"protect\", \"reform\", \"state\", \"join\", \"great\", \"and;\", \"level\", \"business\", \"honor\", \"big\", \"u.s.\", \"day\", \"working\", \"john\", \"much\", \"make\", \"work\", \"president\", \"america\", \"american\", \"obama\", \"many\", \"country\", \"year\", \"health\", \"care\", \"time\", \"need\", \"want\", \"republican\", \"condolence\", \"offer\", \"use\", \"class\", \"republicans\", \"early\", \"london\", \"attack.\", \"trillion\", \"reach\", \"brought\", \"worth\", \"properly\", \"graham\", \"billy\", \"las\", \"fastest\", \"night,\", \"dan\", \"drop\", \"current\", \"video\", \"cuts.\", \"wishing\", \"flag\", \"gov.\", \"rose\", \"reading\", \"lt.\", \"cuts!\", \"refuse\", \"replace\", \"fired\", \"must\", \"and;\", \"jobs,\", \"company\", \"middle\", \"beautiful\", \"pay\", \"week\", \"cuts\", \"hard\", \"jobs!\", \"yesterday\", \"number\", \"america\", \"getting\", \"great\", \"u.k.\", \"make\", \"american\", \"day\", \"want\", \"need\", \"get\", \"again!\", \"spoke\", \"one\", \"year\", \"people\", \"big\", \"dems\", \"fake\", \"working\", \"said\", \"illegal\", \"nfl\", \"west\", \"top\", \"called\", \"wanted\", \"virginia\", \"done.\", \"bigger\", \"become\", \"favor\", \"putting\", \"met\", \"morning!\", \"poll\", \"via\", \"built\", \"island\", \"currently\", \"legal\", \"king\", \"dr.\", \"path\", \"france.\", \"va.\", \"dream\", \"do,\", \"...and\", \"meantime,\", \"people.\", \"player\", \"office\", \"word\", \"meeting\", \"highest\", \"hit\", \"despite\", \"forward\", \"south\", \"much\", \"hard\", \"bad\", \"gave\", \"would\", \"china\", \"security\", \"north\", \"great\", \"bill\", \"senate\", \"korea\", \"u.s.\", \"fake\", \"want\", \"president\", \"vote\", \"see\", \"never\", \"people\", \"first\", \"attack\", \"london.\", \"canada\", \"caught\", \"terrorist\", \"before.\", \"lady\", \"manufacturing\", \"medical\", \"ending\", \"joining\", \"june\", \"days.\", \"heard\", \"obama,\", \"nyc\", \"safe.\", \"army\", \"solidarity\", \"named\", \"received\", \"70\", \"remarks:\", \"growth,\", \"help.\", \"cia\", \"damage\", \"28\", \"well.\", \"islamic\", \"u.k.\", \"congratulations\", \"james\", \"today\", \"w/\", \"minister\", \"prime\", \"job\", \"day.\", \"spoke\", \"major\", \"bill\", \"record\", \"never\", \"must\", \"month\", \"thank\", \"first\", \"new\", \"country\", \"united\", \"would\", \"economy\", \"nothing\", \"get\", \"even\", \"big\", \"tax\", \"crime\", \"general\", \"bless\", \"enforcement\", \"respect\", \"all-time\", \"chuck\", \"york\", \"morning\", \"unfair\", \"asked\", \"yesterday.\", \"\\u201cthe\", \"travel\", \"watching\", \"allowed\", \"party\", \"nations\", \"joint\", \"went\", \"room\", \"nobody\", \"spending\", \"congress,\", \"arizona\", \"rally\", \"short\", \"3\", \"negative\", \"decision\", \"message\", \"democrats\", \"weekly\", \"asking\", \"god\", \"president\", \"live:\", \"incredible\", \"insurance\", \"new\", \"obama\", \"watch\", \"speaking\", \"would\", \"security\", \"white\", \"cut\", \"immigration\", \"\\u2014president\", \"house\", \"discus\", \"american\", \"united\", \"news\", \"many\", \"great\", \"year\", \"governor\", \"member\", \"texas\", \"legislation\", \"accomplished\", \"ensure\", \"foreign\", \"represent\", \"politically\", \"ban\", \"ever,\", \"hundred\", \"november\", \"may\", \"interesting\", \"starting\", \"day!\", \"service.\", \"cnn,\", \"washington\", \"eric\", \"seek\", \"missing\", \"chancellor\", \"unmasking\", \"dealing\", \"hosted\", \"(and\", \"endorsed\", \"theresa\", \"tonight\", \"podesta\", \"intel\", \"spoke\", \"post\", \"prime\", \"minister\", \"meeting\", \"donald\", \"hillary\", \"white\", \"much\", \"house\", \"thank\", \"clinton\", \"you!\", \"fbi\", \"trump\", \"bad\", \"healthcare\", \"fake\", \"today\", \"crooked\", \"happy\", \"state\", \"good\", \"job\", \"u.k.\", \"people\", \"many\", \"russia\", \"total\", \"failing\", \"leaving\", \"didn\\u2019t\", \"speech\", \"night.\", \"gone\", \"david\", \"responder\", \"race\", \"that,\", \"gotten\", \"individual\", \"discussed\", \"gift\", \"funding\", \"talented\", \"recently\", \"man\", \"senators,\", \"luck\", \"beyond\", \"base\", \"civil\", \"light\", \"virginia.\", \"dallas\", \"advice\", \"staying\", \"growth\", \"powerful\", \"price\", \"us.\", \"greatest\", \"economic\", \"far\", \"proud\", \"done\", \"job\", \"news\", \"u.s.\", \"way\", \"better\", \"great\", \"report\", \"forward\", \"one\", \"time\", \"look\", \"good\", \"year\", \"fake\", \"billion\", \"obama\", \"american\", \"first\", \"people\", \"\\u2014president\", \"president\", \"would\", \"want\", \"country\", \"many\", \"woman\", \"don\\u2019t\", \"repeal\", \"money\", \"prayer\", \"trying\", \"cost\", \"dropped\", \"fast\", \"again.\", \"ask\", \"killed\", \"courage\", \"troop\", \"60\", \"yesterday,\", \"it,\", \"worse\", \"welcome\", \"led\", \"win.\", \"story.\", \"shown\", \"recognize\", \"turkey\", \"#enoughalready\", \"them.\", \"threaten\", \"period\", \"september\", \"lives.\", \"guy\", \"thought\", \"honor\", \"democrats\", \"obamacare\", \"move\", \"company\", \"ready\", \"united\", \"time\", \"w/\", \"and;\", \"trade\", \"great\", \"climate\", \"today,\", \"country\", \"fight\", \"add\", \"get\", \"states\", \"president\", \"u.s.\", \"take\", \"senate\", \"let\", \"#actonclimate\", \"never\", \"thank\", \"people\", \"obama\", \"make\", \"last\", \"totally\", \"press\", \"complete\", \"voted\", \"tougher\", \"world,\", \"information\", \"strong\", \"person\", \"all,\", \"un\", \"interest\", \"up,\", \"secret\", \"70th\", \"serving\", \"football\", \"opponent\", \"outside\", \"sector\", \"problem,\", \"hillary,\", \"w/you\", \"point\", \"break\", \"disaster.\", \"announcement\", \"government.\", \"production\", \"career\", \"mexico\", \"doesn\\u2019t\", \"news:\", \"life!\", \"country,\", \"heading\", \"china\", \"senator\", \"ed\", \"luther\", \"someone\", \"tough\", \"without\", \"strange\", \"even\", \"north\", \"deal\", \"comey\", \"look\", \"believe\", \"like\", \"good\", \"theresa\", \"know\", \"never\", \"korea\", \"many\", \"special\", \"must\", \"obama\", \"fake\", \"made\", \"\\u2014president\", \"people\", \"honor\", \"america\", \"going\", \"get\"], \"Total\": [52.0, 95.0, 38.0, 67.0, 30.0, 8.0, 9.0, 8.0, 17.0, 25.0, 7.0, 8.0, 8.0, 6.0, 6.0, 35.0, 47.0, 20.0, 6.0, 26.0, 20.0, 12.0, 18.0, 32.0, 17.0, 19.0, 13.0, 22.0, 12.0, 5.0, 35.02668380737305, 26.520448684692383, 17.445497512817383, 13.856937408447266, 10.934133529663086, 9.545072555541992, 8.922857284545898, 7.012732028961182, 6.636666774749756, 6.318383693695068, 6.289140224456787, 6.028896331787109, 5.392065048217773, 5.377673149108887, 5.334295272827148, 5.045006275177002, 5.044931411743164, 4.94181489944458, 5.53732967376709, 4.192857265472412, 4.103982448577881, 4.046501159667969, 4.045146465301514, 8.183115005493164, 3.7426533699035645, 6.432145595550537, 9.132349967956543, 3.6395797729492188, 3.7568514347076416, 8.358521461486816, 21.757089614868164, 6.400860786437988, 4.912806987762451, 5.388663291931152, 12.68932056427002, 9.105401992797852, 15.71895980834961, 8.683505058288574, 47.39596176147461, 12.74892520904541, 38.3233642578125, 67.87943267822266, 21.07948112487793, 95.54470825195312, 32.390403747558594, 13.68661117553711, 15.306269645690918, 30.767030715942383, 25.650236129760742, 12.728801727294922, 52.610904693603516, 22.790708541870117, 24.30363655090332, 20.843486785888672, 19.587936401367188, 20.130512237548828, 15.439763069152832, 30.987382888793945, 14.564127922058105, 15.790653228759766, 1.5512325763702393, 0.8625034093856812, 0.8597054481506348, 0.7993789911270142, 3.0770459175109863, 0.7390652894973755, 0.7348616719245911, 0.704001247882843, 0.6422736644744873, 0.6114181280136108, 1.1967964172363281, 1.1001837253570557, 0.4823929965496063, 0.45710673928260803, 0.4570980370044708, 0.45430877804756165, 0.4529120922088623, 0.4529860317707062, 0.4234551191329956, 0.3912070095539093, 0.3589305877685547, 0.35753804445266724, 0.34894487261772156, 0.33945411443710327, 0.5893843770027161, 0.3294670879840851, 0.32946768403053284, 0.3294704556465149, 0.32947415113449097, 0.3580906391143799, 0.8452425003051758, 0.6917791962623596, 0.4961840510368347, 1.0595265626907349, 1.0931849479675293, 0.9710528254508972, 1.0926612615585327, 1.002393126487732, 2.3739590644836426, 2.651221990585327, 1.5659453868865967, 5.207799434661865, 5.318674087524414, 95.54470825195312, 52.610904693603516, 1.7607183456420898, 1.6882719993591309, 5.837578296661377, 32.390403747558594, 12.55539321899414, 9.653885841369629, 15.790653228759766, 4.582366466522217, 6.650880813598633, 22.790708541870117, 5.9885406494140625, 30.987382888793945, 20.843486785888672, 17.763729095458984, 67.87943267822266, 20.130512237548828, 10.102383613586426, 14.59778881072998, 6.505398273468018, 5.017540454864502, 13.429171562194824, 8.219836235046387, 19.587936401367188, 3.6143856048583984, 6.918924331665039, 6.712075233459473, 1.2301470041275024, 0.8958288431167603, 3.4902946949005127, 0.4404297471046448, 0.4164431393146515, 0.38869526982307434, 0.7306185960769653, 0.46843549609184265, 0.3306668698787689, 0.31188562512397766, 0.3029104471206665, 0.30038827657699585, 0.2991301715373993, 0.6326611042022705, 0.2828788459300995, 0.27389439940452576, 0.27137765288352966, 0.31196874380111694, 0.24613958597183228, 0.2461388111114502, 0.31986498832702637, 0.28566989302635193, 0.8110109567642212, 0.31546449661254883, 0.5217329263687134, 0.3811300992965698, 0.21838441491127014, 0.415169894695282, 0.7176880240440369, 1.097251296043396, 0.6617406010627747, 6.314414978027344, 52.610904693603516, 3.8532254695892334, 1.7351338863372803, 1.4680653810501099, 1.6425012350082397, 1.5024566650390625, 1.382273554801941, 3.400561809539795, 5.399076461791992, 2.651416778564453, 2.388859272003174, 1.9470194578170776, 20.843486785888672, 3.797671318054199, 95.54470825195312, 6.865992546081543, 22.790708541870117, 17.763729095458984, 9.653885841369629, 19.587936401367188, 8.219836235046387, 24.30363655090332, 9.570375442504883, 8.210454940795898, 9.369017601013184, 14.59778881072998, 30.767030715942383, 32.390403747558594, 7.958306789398193, 18.042102813720703, 15.790653228759766, 2.608384132385254, 1.7800631523132324, 1.3375177383422852, 0.9030961990356445, 0.7787908315658569, 0.7787998914718628, 0.7159619331359863, 0.5670645833015442, 0.5643338561058044, 0.5342980027198792, 0.7361538410186768, 0.47281506657600403, 0.444131076335907, 0.44276097416877747, 0.4029881954193115, 0.9291744232177734, 0.38546594977378845, 0.3636927306652069, 0.3526042401790619, 0.35124722123146057, 0.349875807762146, 0.353645384311676, 0.37994107604026794, 0.5438953638076782, 0.4308958947658539, 0.32391357421875, 0.32255756855010986, 0.321187824010849, 0.5584646463394165, 0.2911374270915985, 0.9430637359619141, 1.435854196548462, 0.6493359804153442, 1.041882872581482, 3.8666207790374756, 1.6037400960922241, 1.5415118932724, 1.5010830163955688, 2.815195083618164, 3.305769920349121, 6.650880813598633, 5.399076461791992, 5.443944454193115, 2.6080539226531982, 12.916754722595215, 3.3059945106506348, 3.9245686531066895, 5.714583396911621, 95.54470825195312, 2.736842393875122, 4.810014724731445, 3.409210443496704, 12.55539321899414, 18.042102813720703, 19.587936401367188, 30.987382888793945, 21.07948112487793, 8.361350059509277, 7.356224060058594, 30.767030715942383, 13.553400039672852, 8.666910171508789, 7.629942893981934, 0.7771892547607422, 0.6498726606369019, 9.035696983337402, 0.5809828639030457, 0.5450437664985657, 0.6594785451889038, 0.4791390597820282, 0.479137122631073, 0.4491771459579468, 0.4446984827518463, 0.4132477343082428, 0.6123113036155701, 0.37879329919815063, 0.3488488793373108, 0.3921636939048767, 0.3663756847381592, 0.3143858015537262, 0.3658437430858612, 0.39097461104393005, 0.2814328074455261, 0.8190317153930664, 0.323464035987854, 0.4291883409023285, 0.3606281280517578, 0.2989671230316162, 0.2454935610294342, 8.90230655670166, 0.454370379447937, 6.865992546081543, 2.681248664855957, 2.1218810081481934, 17.892898559570312, 2.003439426422119, 8.186506271362305, 8.446313858032227, 6.592418670654297, 0.8090816140174866, 8.210454940795898, 5.063546657562256, 2.736842393875122, 2.86993670463562, 7.356224060058594, 6.314414978027344, 1.9019802808761597, 25.650236129760742, 13.553400039672852, 10.885808944702148, 10.102383613586426, 8.54547119140625, 12.916754722595215, 5.182572364807129, 7.353026866912842, 24.30363655090332, 10.400466918945312, 32.390403747558594, 8.435952186584473, 1.7222518920898438, 1.3213592767715454, 1.1026818752288818, 0.9817146062850952, 0.8828919529914856, 0.8446699380874634, 0.7515622973442078, 0.7503682374954224, 0.6830876469612122, 0.6678722500801086, 0.6492310762405396, 0.6492975950241089, 0.6273212432861328, 0.6248708367347717, 0.6225070953369141, 0.6213436126708984, 0.6201985478401184, 0.6063593626022339, 0.5957639217376709, 0.5946343541145325, 0.5808073878288269, 0.5667242407798767, 0.5655691027641296, 0.5446506142616272, 0.5190611481666565, 0.5191038250923157, 0.5156239867210388, 0.49119099974632263, 0.49118852615356445, 1.0881272554397583, 0.7886390089988708, 5.437280178070068, 2.0193660259246826, 0.6663910150527954, 1.632449746131897, 30.987382888793945, 2.921560049057007, 1.5723841190338135, 1.072554349899292, 10.885808944702148, 67.87943267822266, 5.543809413909912, 2.9222190380096436, 12.916754722595215, 3.9245686531066895, 2.851846694946289, 4.1089348793029785, 2.1177144050598145, 47.39596176147461, 6.901792049407959, 1.9639564752578735, 17.763729095458984, 8.54547119140625, 38.3233642578125, 20.130512237548828, 95.54470825195312, 14.59778881072998, 1.0759326219558716, 0.8168820142745972, 0.6826873421669006, 0.47990965843200684, 0.4714716374874115, 0.4465039372444153, 0.5506599545478821, 0.4007217288017273, 0.417886346578598, 0.4038471281528473, 0.3539051413536072, 0.4899645149707794, 0.43419092893600464, 6.546178340911865, 0.32390421628952026, 0.7785264849662781, 0.36889970302581787, 0.26243311166763306, 0.40139585733413696, 1.000126600265503, 0.2518310844898224, 0.23843331634998322, 0.23739202320575714, 0.2785888910293579, 0.2785209119319916, 0.4568614065647125, 0.2785899043083191, 1.3153116703033447, 0.2797039747238159, 5.612741470336914, 0.7526898384094238, 0.5184593200683594, 0.37954720854759216, 8.210454940795898, 0.7994202971458435, 8.446313858032227, 8.186506271362305, 3.8666207790374756, 1.2046265602111816, 3.797119379043579, 2.851846694946289, 6.650880813598633, 6.901792049407959, 25.650236129760742, 3.329669713973999, 4.5547685623168945, 3.356462240219116, 5.495340824127197, 5.443944454193115, 2.664501667022705, 18.042102813720703, 17.892898559570312, 3.55241060256958, 5.84173059463501, 5.207799434661865, 6.931302070617676, 6.592418670654297, 6.865992546081543, 30.767030715942383, 20.130512237548828, 4.941108226776123, 2.041755437850952, 1.818206787109375, 1.322862148284912, 0.9649302363395691, 0.8692805171012878, 0.7012503147125244, 0.6819798350334167, 0.5749770998954773, 0.5444625020027161, 0.5444556474685669, 0.5402989387512207, 0.5139220356941223, 0.5097668170928955, 0.4834231436252594, 0.4514923393726349, 0.44734305143356323, 0.4500102698802948, 0.41682958602905273, 0.8196313977241516, 0.39041775465011597, 0.3876640200614929, 0.3876631259918213, 0.6120591163635254, 0.3571382761001587, 0.35716110467910767, 0.5325678586959839, 0.3459073007106781, 0.32812929153442383, 0.32660815119743347, 1.3231281042099, 0.535398006439209, 0.5715237855911255, 0.6838177442550659, 1.0855203866958618, 3.1608214378356934, 1.8526697158813477, 1.8533169031143188, 2.312608003616333, 6.592418670654297, 38.3233642578125, 12.55539321899414, 7.6941914558410645, 4.546141624450684, 95.54470825195312, 2.77427077293396, 2.815195083618164, 9.369017601013184, 13.429171562194824, 3.3944783210754395, 6.931302070617676, 14.59778881072998, 18.042102813720703, 5.109277725219727, 67.87943267822266, 17.763729095458984, 13.553400039672852, 30.767030715942383, 47.39596176147461, 30.987382888793945, 12.916754722595215, 19.587936401367188, 10.102383613586426, 20.130512237548828, 13.68661117553711, 2.172888994216919, 1.8145941495895386, 1.7836012840270996, 1.7771587371826172, 1.13299560546875, 0.7954445481300354, 0.7449562549591064, 0.624313235282898, 0.6215888857841492, 0.594487190246582, 0.5334704518318176, 0.5321443676948547, 0.530781626701355, 0.5283623337745667, 0.5022910833358765, 0.5022944808006287, 0.5036445260047913, 2.946606397628784, 0.44128233194351196, 0.44130200147628784, 0.4114632308483124, 0.4114772081375122, 0.38163354992866516, 0.3816376328468323, 0.37622347474098206, 0.36009594798088074, 0.35045546293258667, 0.34910815954208374, 0.32199740409851074, 0.39448869228363037, 0.535815417766571, 1.90927255153656, 5.837578296661377, 5.437280178070068, 3.81194806098938, 0.9104982614517212, 1.7351338863372803, 1.8203483819961548, 8.54547119140625, 13.429171562194824, 2.003439426422119, 52.610904693603516, 4.510578155517578, 95.54470825195312, 5.752313137054443, 4.007667064666748, 10.102383613586426, 2.8793447017669678, 2.187181234359741, 24.30363655090332, 6.690426826477051, 30.987382888793945, 12.55539321899414, 5.234711170196533, 4.810014724731445, 3.880263090133667, 5.514501571655273, 7.356224060058594, 25.650236129760742, 30.767030715942383, 67.87943267822266, 22.790708541870117, 10.05273723602295, 2.1903247833251953, 0.9759175181388855, 0.6884827613830566, 0.6807286143302917, 0.6289299726486206, 0.56938636302948, 0.6079815626144409, 8.425901412963867, 0.5766366124153137, 0.366121381521225, 0.6963669061660767, 0.3648247718811035, 0.5936733484268188, 0.33634090423583984, 0.2806597650051117, 0.2688426971435547, 0.2508852481842041, 0.25089678168296814, 0.38863062858581543, 0.24959318339824677, 0.24960008263587952, 0.2686247229576111, 0.26757362484931946, 0.8214010000228882, 0.23420459032058716, 0.35675469040870667, 0.2696092426776886, 0.38698822259902954, 0.22240155935287476, 0.22111192345619202, 1.2618873119354248, 0.5519707202911377, 0.8803907632827759, 0.44863641262054443, 1.2958736419677734, 1.978450059890747, 3.3059945106506348, 1.6053497791290283, 0.44374048709869385, 1.216346263885498, 0.4471973180770874, 1.1289241313934326, 0.85198575258255, 0.9218567609786987, 10.400466918945312, 5.714583396911621, 4.2523932456970215, 2.190593719482422, 3.3944783210754395, 3.4457383155822754, 6.414344787597656, 6.931302070617676, 5.612741470336914, 4.943363189697266, 7.356224060058594, 3.409210443496704, 20.130512237548828, 4.150511264801025, 6.314414978027344, 67.87943267822266, 18.042102813720703, 11.488239288330078, 47.39596176147461, 30.767030715942383, 5.837578296661377, 20.843486785888672, 15.439763069152832, 24.30363655090332], \"loglift\": [30.0, 29.0, 28.0, 27.0, 26.0, 25.0, 24.0, 23.0, 22.0, 21.0, 20.0, 19.0, 18.0, 17.0, 16.0, 15.0, 14.0, 13.0, 12.0, 11.0, 10.0, 9.0, 8.0, 7.0, 6.0, 5.0, 4.0, 3.0, 2.0, 1.0, 0.597000002861023, 0.5967000126838684, 0.5960999727249146, 0.5957000255584717, 0.5950999855995178, 0.5946999788284302, 0.5945000052452087, 0.5935999751091003, 0.5934000015258789, 0.5932000279426575, 0.5931000113487244, 0.5928999781608582, 0.5924000144004822, 0.5922999978065491, 0.5922999978065491, 0.5920000076293945, 0.5920000076293945, 0.5918999910354614, 0.5914000272750854, 0.5907999873161316, 0.5906000137329102, 0.590499997138977, 0.590499997138977, 0.5900999903678894, 0.589900016784668, 0.589900016784668, 0.5898000001907349, 0.5896999835968018, 0.5896000266075134, 0.5893999934196472, 0.5849999785423279, 0.5867000222206116, 0.5889999866485596, 0.5879999995231628, 0.5669000148773193, 0.5622000098228455, 0.5282999873161316, 0.5529000163078308, 0.4278999865055084, 0.5145000219345093, 0.4097999930381775, 0.3492000102996826, 0.447299987077713, 0.2802000045776367, 0.3334999978542328, 0.439300000667572, 0.4146000146865845, 0.25450000166893005, 0.24549999833106995, 0.4131999909877777, 0.025499999523162842, 0.24819999933242798, 0.21690000593662262, 0.24740000069141388, 0.23659999668598175, 0.18369999527931213, 0.3041999936103821, -0.04879999905824661, 0.30559998750686646, 0.25609999895095825, 2.954699993133545, 2.920799970626831, 2.920599937438965, 2.9147000312805176, 2.9135000705718994, 2.9077999591827393, 2.9072999954223633, 2.9031999111175537, 2.893899917602539, 2.8884999752044678, 2.871999979019165, 2.8638999462127686, 2.8577001094818115, 2.849400043487549, 2.849299907684326, 2.848599910736084, 2.848099946975708, 2.845400094985962, 2.8369998931884766, 2.822700023651123, 2.8055999279022217, 2.8046998977661133, 2.7995998859405518, 2.793600082397461, 2.7894999980926514, 2.786799907684326, 2.7867000102996826, 2.7867000102996826, 2.7867000102996826, 2.774600028991699, 2.7149999141693115, 2.7276999950408936, 2.7358999252319336, 2.628499984741211, 2.5608999729156494, 2.5669000148773193, 2.5364999771118164, 2.556299924850464, 2.3085999488830566, 2.0922999382019043, 2.27839994430542, 1.7805999517440796, 1.7384999990463257, 0.35530000925064087, 0.6342999935150146, 2.19320011138916, 2.195199966430664, 1.5097999572753906, 0.44369998574256897, 0.9735999703407288, 1.1062999963760376, 0.7738999724388123, 1.5509999990463257, 1.288599967956543, 0.2280000001192093, 1.2340999841690063, -0.025200000032782555, 0.2167000025510788, 0.3109000027179718, -0.8230000138282776, 0.1225999966263771, 0.7085999846458435, 0.39430001378059387, 1.073199987411499, 1.2930999994277954, 0.37709999084472656, 0.8300999999046326, -0.01810000091791153, 2.978300094604492, 2.974600076675415, 2.971299886703491, 2.9435999393463135, 2.9233999252319336, 2.860100030899048, 2.8427000045776367, 2.833199977874756, 2.820499897003174, 2.812000036239624, 2.8073999881744385, 2.786400079727173, 2.7723000049591064, 2.7648000717163086, 2.7625999450683594, 2.7614998817443848, 2.7464001178741455, 2.7462000846862793, 2.7369000911712646, 2.734100103378296, 2.71560001373291, 2.7030999660491943, 2.7030999660491943, 2.6972999572753906, 2.6958999633789062, 2.695199966430664, 2.672499895095825, 2.6723999977111816, 2.6712000370025635, 2.658900022506714, 2.6484999656677246, 2.589600086212158, 2.49780011177063, 2.554800033569336, 2.1012001037597656, 1.5922000408172607, 2.1284000873565674, 2.265399932861328, 2.302999973297119, 2.2648000717163086, 2.161400079727173, 2.1709001064300537, 1.7969000339508057, 1.5856000185012817, 1.8114999532699585, 1.8559000492095947, 1.9306000471115112, 0.6238999962806702, 1.559999942779541, -0.28200000524520874, 1.2137000560760498, 0.5128999948501587, 0.6032999753952026, 0.9704999923706055, 0.40630000829696655, 0.8924999833106995, 0.05730000138282776, 0.7382000088691711, 0.8241999745368958, 0.7075999975204468, 0.32499998807907104, -0.35019999742507935, -0.4503999948501587, 0.7688999772071838, -0.03550000116229057, 0.06499999761581421, 2.960599899291992, 2.960099935531616, 2.947999954223633, 2.9244000911712646, 2.9124999046325684, 2.912100076675415, 2.904900074005127, 2.8796000480651855, 2.878999948501587, 2.8719000816345215, 2.8547000885009766, 2.8547000885009766, 2.844899892807007, 2.844399929046631, 2.8280999660491943, 2.8220999240875244, 2.8192999362945557, 2.808199882507324, 2.8017001152038574, 2.800800085067749, 2.799999952316284, 2.7945001125335693, 2.7909998893737793, 2.788599967956543, 2.784600019454956, 2.782399892807007, 2.7815001010894775, 2.7804999351501465, 2.7665998935699463, 2.7553999423980713, 2.7363998889923096, 2.703900098800659, 2.7327001094818115, 2.6833999156951904, 2.4839999675750732, 2.4665000438690186, 2.4642999172210693, 2.430500030517578, 2.158900022506714, 2.072499990463257, 1.5885000228881836, 1.6375000476837158, 1.562399983406067, 1.901900053024292, 1.0335999727249146, 1.7238999605178833, 1.5878000259399414, 1.3473999500274658, -0.4537000060081482, 1.8003000020980835, 1.4249999523162842, 1.6311999559402466, 0.6887999773025513, 0.3725999891757965, 0.2969000041484833, -0.17499999701976776, -0.008999999612569809, 0.800599992275238, 0.9142000079154968, -0.4512999951839447, 0.22759999334812164, 2.988600015640259, 2.9769999980926514, 2.9128000736236572, 2.895699977874756, 2.8921000957489014, 2.88319993019104, 2.8752999305725098, 2.8736000061035156, 2.8575000762939453, 2.8575000762939453, 2.847599983215332, 2.845900058746338, 2.8336000442504883, 2.8287999629974365, 2.8173999786376953, 2.8004000186920166, 2.789099931716919, 2.780600070953369, 2.776599884033203, 2.770699977874756, 2.765700101852417, 2.747499942779541, 2.740799903869629, 2.729300022125244, 2.7107999324798584, 2.7074999809265137, 2.7063000202178955, 2.705399990081787, 2.703200101852417, 2.688800096511841, 2.413599967956543, 2.4546000957489014, 2.381200075149536, 1.8170000314712524, 2.208899974822998, 1.777899980545044, 1.6746000051498413, 1.6694999933242798, 2.4472999572753906, 1.4641000032424927, 1.6295000314712524, 1.8044999837875366, 1.7746000289916992, 1.281999945640564, 1.2081999778747559, 1.919700026512146, 0.16539999842643738, 0.5710999965667725, 0.6288999915122986, 0.609499990940094, 0.7009999752044678, 0.36469998955726624, 1.0782999992370605, 0.7311999797821045, -0.4169999957084656, 0.34869998693466187, -0.7378000020980835, 2.9881999492645264, 2.9586000442504883, 2.9470999240875244, 2.9372000694274902, 2.9296998977661133, 2.921999931335449, 2.9184999465942383, 2.9084999561309814, 2.908400058746338, 2.899399995803833, 2.8970000743865967, 2.8940999507904053, 2.8940999507904053, 2.8903000354766846, 2.8898000717163086, 2.8894999027252197, 2.8893001079559326, 2.8891000747680664, 2.8866000175476074, 2.884500026702881, 2.884200096130371, 2.8814001083374023, 2.8784000873565674, 2.8780999183654785, 2.873300075531006, 2.867000102996826, 2.86680006980896, 2.8659000396728516, 2.8589999675750732, 2.8589999675750732, 2.823699951171875, 2.7827999591827393, 2.391200065612793, 2.524899959564209, 2.8029000759124756, 2.5318000316619873, 1.4864000082015991, 2.2769999504089355, 2.4595000743865967, 2.615299940109253, 1.555899977684021, 0.6581000089645386, 1.8107000589370728, 2.0269999504089355, 1.0204999446868896, 1.7289999723434448, 1.9305000305175781, 1.654099941253662, 2.089099884033203, -0.131400004029274, 1.2309999465942383, 2.11899995803833, 0.42669999599456787, 0.9433000087738037, -0.2973000109195709, 0.21369999647140503, -1.191100001335144, 0.1574999988079071, 2.9354000091552734, 2.9154999256134033, 2.898900032043457, 2.8550000190734863, 2.852299928665161, 2.843600034713745, 2.8326001167297363, 2.824700117111206, 2.810800075531006, 2.8020999431610107, 2.7997000217437744, 2.7939999103546143, 2.7825000286102295, 2.7595999240875244, 2.751300096511841, 2.739000082015991, 2.7219998836517334, 2.7207000255584717, 2.7186999320983887, 2.711400032043457, 2.7077999114990234, 2.688800096511841, 2.687299966812134, 2.685699939727783, 2.684999942779541, 2.683799982070923, 2.6672000885009766, 2.664400100708008, 2.6582000255584717, 2.6522998809814453, 2.643199920654297, 2.649600028991699, 2.6245999336242676, 2.041800022125244, 2.464200019836426, 1.9417999982833862, 1.92739999294281, 2.0415000915527344, 2.315500020980835, 1.978600025177002, 2.0594000816345215, 1.7776999473571777, 1.5901000499725342, 0.9868999719619751, 1.8496999740600586, 1.7066999673843384, 1.8284000158309937, 1.577299952507019, 1.562000036239624, 1.9035999774932861, 0.9483000040054321, 0.8668000102043152, 1.7365000247955322, 1.3732999563217163, 1.4175000190734863, 1.2372000217437744, 1.2309999465942383, 1.2024999856948853, -0.06129999831318855, 0.12540000677108765, 1.2731000185012817, 2.9647998809814453, 2.9609999656677246, 2.9475998878479004, 2.9291000366210938, 2.921600103378296, 2.902899980545044, 2.9001998901367188, 2.8814001083374023, 2.874500036239624, 2.874500036239624, 2.8736000061035156, 2.8668999671936035, 2.8657000064849854, 2.858099937438965, 2.8477001190185547, 2.846100091934204, 2.844899892807007, 2.834199905395508, 2.829900026321411, 2.8220999240875244, 2.8210999965667725, 2.8210999965667725, 2.815999984741211, 2.8046000003814697, 2.804500102996826, 2.80049991607666, 2.797600030899048, 2.7850000858306885, 2.7846999168395996, 2.772900104522705, 2.7560999393463135, 2.719099998474121, 2.6949000358581543, 2.5011000633239746, 2.1998000144958496, 2.285900115966797, 2.2488999366760254, 2.089600086212158, 1.642799973487854, 0.8644999861717224, 1.2899999618530273, 1.4119999408721924, 1.6627999544143677, 0.00570000009611249, 1.8797999620437622, 1.8341000080108643, 1.0954999923706055, 0.8514000177383423, 1.6887999773025513, 1.212499976158142, 0.7049999833106995, 0.4505999982357025, 1.311400055885315, -0.5633000135421753, 0.37450000643730164, 0.531000018119812, -0.1462000012397766, -0.5073999762535095, -0.271699994802475, 0.49410000443458557, 0.09629999846220016, 0.6579999923706055, -0.02810000069439411, 0.3278000056743622, 2.9667000770568848, 2.9607999324798584, 2.960200071334839, 2.95989990234375, 2.939300060272217, 2.914299964904785, 2.9084999561309814, 2.890700101852417, 2.8903000354766846, 2.8850998878479004, 2.8717000484466553, 2.871299982070923, 2.871000051498413, 2.8703999519348145, 2.8635001182556152, 2.8635001182556152, 2.8629000186920166, 2.854099988937378, 2.8436999320983887, 2.8436999320983887, 2.831700086593628, 2.8310999870300293, 2.8178000450134277, 2.817699909210205, 2.8148999214172363, 2.8060998916625977, 2.800299882888794, 2.7994000911712646, 2.7808001041412354, 2.7558000087738037, 2.7360000610351562, 2.502000093460083, 2.2685000896453857, 2.180999994277954, 2.2053000926971436, 2.5401999950408936, 2.270400047302246, 2.193000078201294, 1.5649000406265259, 1.371500015258789, 2.144200086593628, 0.645799994468689, 1.7676000595092773, 0.2736000120639801, 1.6060999631881714, 1.7510000467300415, 1.2157000303268433, 1.9049999713897705, 2.04259991645813, 0.5026999711990356, 1.2386000156402588, 0.18140000104904175, 0.7578999996185303, 1.3753000497817993, 1.4357999563217163, 1.590000033378601, 1.3073999881744385, 1.0687999725341797, 0.04270000010728836, -0.16369999945163727, -0.8910999894142151, 0.035999998450279236, 0.7674999833106995, 2.966900110244751, 2.9296998977661133, 2.9007999897003174, 2.899600028991699, 2.8912999629974365, 2.879699945449829, 2.860100030899048, 2.833199977874756, 2.8308000564575195, 2.809000015258789, 2.8083999156951904, 2.808300018310547, 2.7913999557495117, 2.790600061416626, 2.7444000244140625, 2.7172999382019043, 2.70989990234375, 2.70989990234375, 2.7091000080108643, 2.708199977874756, 2.708199977874756, 2.7067999839782715, 2.7042999267578125, 2.691499948501587, 2.6861000061035156, 2.6703999042510986, 2.6698999404907227, 2.6684000492095947, 2.666599988937378, 2.664400100708008, 2.625200033187866, 2.634700059890747, 2.6131999492645264, 2.632200002670288, 2.5274999141693115, 2.3975000381469727, 2.3076999187469482, 2.414099931716919, 2.6161999702453613, 2.433500051498413, 2.606800079345703, 2.3101999759674072, 2.391400098800659, 2.3533999919891357, 1.3982000350952148, 1.624899983406067, 1.722100019454956, 1.985700011253357, 1.794700026512146, 1.7793999910354614, 1.4313000440597534, 1.357200026512146, 1.3727999925613403, 1.437999963760376, 1.211400032043457, 1.6330000162124634, 0.4244999885559082, 1.493499994277954, 1.159500002861023, -0.6067000031471252, 0.361299991607666, 0.6417999863624573, -0.5004000067710876, -0.19859999418258667, 1.1299999952316284, 0.06430000066757202, 0.2720000147819519, -0.2012999951839447], \"logprob\": [30.0, 29.0, 28.0, 27.0, 26.0, 25.0, 24.0, 23.0, 22.0, 21.0, 20.0, 19.0, 18.0, 17.0, 16.0, 15.0, 14.0, 13.0, 12.0, 11.0, 10.0, 9.0, 8.0, 7.0, 6.0, 5.0, 4.0, 3.0, 2.0, 1.0, -4.5278000831604, -4.80620002746582, -5.225599765777588, -5.456399917602539, -5.69379997253418, -5.830100059509277, -5.89769983291626, -6.139500141143799, -6.194900035858154, -6.244200229644775, -6.248899936676025, -6.291399955749512, -6.403600215911865, -6.406300067901611, -6.414400100708008, -6.4704999923706055, -6.4704999923706055, -6.491300106048584, -6.377900123596191, -6.656700134277344, -6.678299903869629, -6.692500114440918, -6.69290018081665, -5.988699913024902, -6.771100044250488, -6.229599952697754, -5.879199981689453, -6.799300193786621, -6.7677001953125, -5.968200206756592, -5.015999794006348, -6.237800121307373, -6.5, -6.4085001945495605, -5.573200225830078, -5.909800052642822, -5.39769983291626, -5.966599941253662, -4.394400119781494, -5.620999813079834, -4.625, -4.113999843597412, -5.185299873352051, -3.841099977493286, -4.869500160217285, -5.625100135803223, -5.538099765777588, -5.0, -5.190800189971924, -5.723800182342529, -4.692399978637695, -5.306300163269043, -5.273399829864502, -5.396399974822998, -5.469299793243408, -5.494900226593018, -5.639699935913086, -5.29610013961792, -5.696700096130371, -5.66540002822876, -5.287099838256836, -5.9079999923706055, -5.911499977111816, -5.990099906921387, -4.643400192260742, -6.075500011444092, -6.081699848175049, -6.128600120544434, -6.229700088500977, -6.28439998626709, -5.629300117492676, -5.721499919891357, -6.552199840545654, -6.614299774169922, -6.6143999099731445, -6.621200084686279, -6.624800205230713, -6.627399921417236, -6.703199863433838, -6.7967000007629395, -6.899899959564209, -6.904600143432617, -6.934100151062012, -6.967700004577637, -6.420000076293945, -7.00439977645874, -7.00439977645874, -7.00439977645874, -7.00439977645874, -6.933300018310547, -6.133999824523926, -6.321599960327148, -6.6458001136779785, -5.99459981918335, -6.030900001525879, -6.1433000564575195, -6.055799961090088, -6.122200012207031, -5.507699966430664, -5.61359977722168, -5.953999996185303, -5.250100135803223, -5.271200180053711, -3.7660000324249268, -4.083600044250488, -5.921899795532227, -5.961999893188477, -5.406799793243408, -4.759300231933594, -5.17710018157959, -5.307199954986572, -5.147600173950195, -5.607600212097168, -5.497499942779541, -5.326600074768066, -5.656899929046631, -5.272500038146973, -5.42710018157959, -5.492800235748291, -5.286099910736084, -5.556000232696533, -5.6595001220703125, -5.6057000160217285, -5.735000133514404, -5.774799823760986, -5.706399917602539, -5.744200229644775, -5.724100112915039, -4.417699813842773, -3.7720000743865967, -3.8057000637054443, -5.530200004577637, -5.867499828338623, -4.570799827575684, -6.658100128173828, -6.723700046539307, -6.805300235748291, -6.182799816131592, -6.631800174713135, -7.001200199127197, -7.073699951171875, -7.110400199890137, -7.1209001541137695, -7.126200199127197, -6.392300128936768, -7.197400093078613, -7.238999843597412, -7.250999927520752, -7.130099773406982, -7.379700183868408, -7.379700183868408, -7.1234002113342285, -7.2378997802734375, -6.195199966430664, -7.162099838256836, -6.65910005569458, -6.9741997718811035, -7.543499946594238, -6.911399841308594, -6.422900199890137, -6.0903000831604, -6.538899898529053, -4.7368998527526855, -3.1257998943328857, -5.203499794006348, -5.8643999099731445, -5.993899822235107, -5.919899940490723, -6.112400054931641, -6.186200141906738, -5.659999847412109, -5.40910005569458, -5.8942999839782715, -5.954100131988525, -6.084000110626221, -5.019899845123291, -5.786499977111816, -4.403200149536133, -5.540599822998047, -5.041600227355957, -5.200399875640869, -5.4430999755859375, -5.299600124359131, -5.68179988861084, -5.4328999519348145, -5.684000015258789, -5.751299858093262, -5.735899925231934, -5.675000190734863, -5.604599952697754, -5.65339994430542, -5.837699890136719, -5.823699951171875, -5.856500148773193, -4.761499881744385, -5.144100189208984, -5.441999912261963, -5.858399868011475, -6.018400192260742, -6.018799781799316, -6.110099792480469, -6.368599891662598, -6.374000072479248, -6.435699939727783, -6.132400035858154, -6.575200080871582, -6.64769983291626, -6.651199817657471, -6.761600017547607, -5.932300090789795, -6.814799785614014, -6.884099960327148, -6.921599864959717, -6.926300048828125, -6.931000232696533, -6.92579984664917, -6.857699871063232, -6.501299858093262, -6.7382001876831055, -7.025700092315674, -7.030799865722656, -7.036099910736084, -6.4969000816345215, -7.15939998626709, -6.0030999183654785, -5.615200042724609, -6.380000114440918, -5.956399917602539, -4.844399929046631, -5.742000102996826, -5.78380012512207, -5.844200134277344, -5.4868998527526855, -5.412700176239014, -5.197700023651123, -5.3572001457214355, -5.423900127410889, -5.820300102233887, -5.088799953460693, -5.761199951171875, -5.725800037384033, -5.590400218963623, -4.574900150299072, -5.873799800872803, -5.685100078582764, -5.823200225830078, -5.461900234222412, -5.415599822998047, -5.408999919891357, -5.422299861907959, -5.641499996185303, -5.7565999031066895, -5.771100044250488, -5.705699920654297, -5.846700191497803, -3.5327999591827393, -3.671799898147583, -6.020199775695801, -6.216100215911865, -3.587599992752075, -6.340700149536133, -6.412499904632568, -6.223599910736084, -6.559100151062012, -6.559100151062012, -6.633600234985352, -6.645299911499023, -6.730999946594238, -6.342599868774414, -6.834199905395508, -6.933599948883057, -6.8277997970581055, -6.904300212860107, -7.061399936676025, -6.9156999588012695, -6.8541998863220215, -7.201200008392334, -6.139699935913086, -7.0802001953125, -6.815899848937988, -6.993299961090088, -7.182000160217285, -7.379899978637695, -3.7913999557495117, -6.780900001525879, -4.340700149536133, -5.239999771118164, -5.547399997711182, -3.9795000553131104, -5.777100086212158, -4.80049991607666, -4.872600078582764, -5.125500202178955, -6.445400238037109, -5.111400127410889, -5.429299831390381, -5.869500160217285, -5.8520002365112305, -5.40339994430542, -5.629799842834473, -6.118299961090088, -5.270899772644043, -5.5030999183654785, -5.6645002365112305, -5.758600234985352, -5.834499835968018, -5.757599830627441, -5.957300186157227, -5.954500198364258, -5.907299995422363, -5.9903998374938965, -5.940800189971924, -3.5601000785827637, -5.178599834442139, -5.455100059509277, -5.645899772644043, -5.769599914550781, -5.883399963378906, -5.93120002746582, -6.058000087738037, -6.059599876403809, -6.162600040435791, -6.1875, -6.218699932098389, -6.218699932098389, -6.256800174713135, -6.261199951171875, -6.2652997970581055, -6.267399787902832, -6.269499778747559, -6.294600009918213, -6.314300060272217, -6.316500186920166, -6.342800140380859, -6.3703999519348145, -6.372700214385986, -6.41510009765625, -6.469699859619141, -6.469699859619141, -6.47730016708374, -6.532800197601318, -6.532800197601318, -5.77269983291626, -6.135499954223633, -4.596399784088135, -5.453199863433838, -6.283899784088135, -5.658999919891357, -3.7609000205993652, -5.3317999839782715, -5.768799781799316, -5.99560022354126, -4.737500190734863, -3.8050999641418457, -5.15749979019165, -5.581500053405762, -5.101799964904785, -5.58459997177124, -5.702400207519531, -5.61359977722168, -5.8414998054504395, -4.953700065612793, -5.518099784851074, -5.886899948120117, -5.376999855041504, -5.592199802398682, -5.332099914550781, -5.465000152587891, -5.312399864196777, -5.84250020980835, -5.672299861907959, -5.967700004577637, -6.163700103759766, -6.559999942779541, -6.58050012588501, -6.643599987030029, -6.444900035858154, -6.770699977874756, -6.742700099945068, -6.7855000495910645, -6.919899940490723, -6.600299835205078, -6.732600212097168, -4.042399883270264, -7.0569000244140625, -6.192200183868408, -6.956099987030029, -7.297999858856201, -6.875, -5.969299793243408, -7.352099895477295, -7.4257001876831055, -7.431700229644775, -7.273200035095215, -7.274099826812744, -6.780399799346924, -7.2916998863220215, -5.742400169372559, -7.2967000007629395, -4.303599834442139, -6.321700096130371, -6.688199996948242, -7.025000095367432, -4.533599853515625, -6.440499782562256, -4.605299949645996, -4.651000022888184, -5.2870001792907715, -6.179200172424316, -5.368000030517578, -5.573500156402588, -5.008399963378906, -5.158999919891357, -4.449399948120117, -5.628300189971924, -5.458000183105469, -5.641600131988525, -5.399600028991699, -5.4243998527526855, -5.7972002029418945, -4.839799880981445, -4.929599761962891, -5.676799774169922, -5.542500019073486, -5.61329984664917, -5.507599830627441, -5.564000129699707, -5.551799774169922, -5.315700054168701, -5.553199768066406, -5.810200214385986, -5.002200126647949, -5.122099876403809, -5.453499794006348, -5.787499904632568, -5.899400234222412, -6.132800102233887, -6.163400173187256, -6.35290002822876, -6.414299964904785, -6.414299964904785, -6.422999858856201, -6.479700088500977, -6.488999843597412, -6.549600124359131, -6.628399848937988, -6.639200210571289, -6.634500026702881, -6.721700191497803, -6.049900054931641, -6.7993998527526855, -6.807400226593018, -6.807400226593018, -6.355800151824951, -6.905900001525879, -6.905900001525879, -6.51039981842041, -6.944799900054932, -7.010200023651123, -7.015200138092041, -5.627999782562256, -6.549499988555908, -6.521200180053711, -6.366099834442139, -6.097700119018555, -5.3302001953125, -5.77839994430542, -5.815000057220459, -5.752900123596191, -5.152100086212158, -4.170300006866455, -4.8607001304626465, -5.228400230407715, -5.503799915313721, -4.115600109100342, -5.780700206756592, -5.811699867248535, -5.347899913787842, -5.23199987411499, -5.769899845123291, -5.532299995422363, -5.295000076293945, -5.337600231170654, -5.738399982452393, -5.026400089263916, -5.429299831390381, -5.5432000160217285, -5.400700092315674, -5.329699993133545, -5.519000053405762, -5.628300189971924, -5.6097002029418945, -5.710100173950195, -5.706699848175049, -5.736700057983398, -4.938199996948242, -5.124199867248535, -5.142000198364258, -5.145999908447266, -5.616700172424316, -5.995500087738037, -6.066800117492676, -6.261199951171875, -6.26609992980957, -6.315800189971924, -6.4375, -6.440400123596191, -6.443299770355225, -6.448400020599365, -6.505899906158447, -6.50600004196167, -6.503900051116943, -4.746099948883057, -6.655200004577637, -6.655200004577637, -6.737199783325195, -6.737800121307373, -6.826399803161621, -6.826499938964844, -6.843500137329102, -6.896200180053711, -6.929100036621094, -6.933899879455566, -7.033299922943115, -6.855299949645996, -6.56879997253418, -5.532100200653076, -4.648099899291992, -4.806600093841553, -5.137499809265137, -6.234399795532227, -5.859300136566162, -5.888800144195557, -4.970600128173828, -4.711900234222412, -5.841800212860107, -4.0721001625061035, -5.406799793243408, -3.8477001190185547, -5.325200080871582, -5.5416998863220215, -5.152400016784668, -5.718299865722656, -5.855599880218506, -4.987500190734863, -5.541600227355957, -5.065899848937988, -5.3927998542785645, -5.650300025939941, -5.674300193786621, -5.735000133514404, -5.666100025177002, -5.616499900817871, -5.393700122833252, -5.4182000160217285, -5.3541998863220215, -5.518499851226807, -5.605599880218506, -4.929999828338623, -5.775599956512451, -6.15339994430542, -6.165800094604492, -6.253300189971924, -6.3643999099731445, -6.318299770355225, -3.716399908065796, -6.400599956512451, -6.876699924468994, -6.234399795532227, -6.88100004196167, -6.410900115966797, -6.979899883270264, -7.206999778747559, -7.277200222015381, -7.353700160980225, -7.353700160980225, -6.916900157928467, -7.360599994659424, -7.360599994659424, -7.28849983215332, -7.294899940490723, -6.186100006103516, -7.446400165557861, -7.041200160980225, -7.321800231933594, -6.9618000984191895, -7.517499923706055, -7.525599956512451, -5.8231000900268555, -6.640500068664551, -6.195000171661377, -6.850200176239014, -5.894199848175049, -5.60099983215332, -5.1774001121521, -5.793399810791016, -6.877200126647949, -6.051499843597412, -6.878900051116943, -6.2494001388549805, -6.449699878692627, -6.408899784088135, -4.940800189971924, -5.312900066375732, -5.511300086975098, -5.910999774932861, -5.664000034332275, -5.664299964904785, -5.390999794006348, -5.387599945068359, -5.583000183105469, -5.644800186157227, -5.473899841308594, -5.821400165557861, -5.2540998458862305, -5.764100074768066, -5.678599834442139, -5.069799900054932, -5.4268999099731445, -5.597700119018555, -5.322700023651123, -5.453000068664551, -5.786499977111816, -5.579500198364258, -5.671899795532227, -5.6915998458862305]}, \"token.table\": {\"Topic\": [1, 1, 2, 9, 7, 1, 1, 9, 1, 2, 3, 9, 1, 6, 6, 1, 2, 3, 9, 10, 1, 2, 3, 6, 7, 8, 9, 2, 1, 2, 3, 9, 1, 9, 6, 6, 5, 1, 3, 7, 10, 1, 4, 7, 8, 1, 2, 3, 4, 5, 2, 1, 8, 10, 1, 8, 1, 2, 3, 4, 5, 7, 9, 10, 2, 4, 5, 1, 8, 9, 6, 1, 2, 4, 5, 1, 2, 10, 5, 4, 8, 10, 6, 3, 1, 9, 1, 7, 10, 2, 8, 1, 3, 9, 10, 3, 2, 2, 5, 2, 2, 9, 1, 1, 2, 4, 5, 8, 9, 10, 6, 1, 7, 1, 4, 5, 6, 1, 3, 1, 8, 1, 2, 3, 5, 9, 1, 4, 9, 10, 6, 6, 9, 1, 3, 7, 4, 8, 8, 1, 6, 7, 7, 8, 4, 9, 9, 1, 8, 1, 5, 1, 6, 1, 5, 8, 10, 1, 1, 8, 1, 3, 4, 5, 7, 8, 10, 8, 9, 1, 7, 9, 2, 1, 4, 5, 8, 3, 4, 8, 1, 4, 6, 1, 2, 3, 5, 6, 7, 9, 10, 1, 3, 7, 1, 6, 9, 1, 6, 8, 10, 8, 1, 2, 7, 8, 10, 7, 1, 2, 3, 4, 6, 8, 9, 8, 8, 1, 1, 2, 6, 7, 1, 2, 3, 4, 10, 1, 2, 4, 6, 1, 7, 5, 2, 4, 1, 7, 4, 2, 6, 9, 10, 1, 6, 7, 2, 1, 4, 6, 10, 2, 6, 10, 6, 1, 5, 2, 3, 5, 7, 8, 1, 3, 1, 3, 1, 2, 1, 2, 6, 1, 6, 8, 10, 1, 4, 10, 1, 4, 8, 9, 8, 1, 9, 2, 8, 1, 8, 10, 1, 6, 5, 4, 8, 10, 2, 2, 10, 1, 6, 8, 10, 1, 5, 1, 2, 3, 6, 9, 10, 8, 5, 1, 2, 3, 6, 7, 8, 10, 4, 7, 4, 7, 7, 1, 8, 6, 10, 3, 6, 3, 4, 5, 7, 10, 9, 5, 7, 6, 9, 2, 4, 6, 7, 8, 9, 3, 5, 9, 10, 6, 1, 2, 3, 4, 8, 1, 4, 5, 9, 10, 1, 2, 3, 5, 6, 1, 2, 6, 8, 2, 10, 4, 1, 8, 6, 1, 4, 7, 10, 1, 5, 3, 5, 1, 2, 3, 4, 6, 8, 9, 10, 1, 4, 9, 3, 1, 3, 4, 8, 9, 1, 6, 1, 3, 1, 2, 3, 4, 6, 7, 8, 9, 10, 4, 2, 4, 1, 10, 1, 4, 9, 1, 2, 3, 4, 6, 8, 9, 10, 1, 10, 1, 3, 4, 5, 7, 10, 1, 2, 8, 1, 9, 1, 2, 5, 2, 6, 5, 9, 3, 1, 8, 3, 3, 6, 1, 1, 6, 2, 1, 7, 1, 4, 1, 2, 1, 4, 6, 2, 1, 4, 8, 1, 3, 4, 6, 9, 10, 1, 1, 2, 1, 2, 1, 4, 1, 6, 1, 10, 8, 6, 1, 3, 5, 7, 10, 7, 1, 2, 7, 1, 5, 6, 9, 6, 10, 1, 2, 1, 2, 9, 6, 1, 1, 5, 7, 1, 5, 6, 7, 9, 7, 10, 9, 1, 1, 2, 5, 6, 8, 9, 10, 1, 1, 3, 5, 7, 2, 3, 9, 1, 7, 4, 8, 10, 10, 10, 1, 9, 10, 6, 3, 1, 1, 4, 7, 9, 1, 2, 4, 3, 5, 7, 1, 2, 4, 6, 7, 8, 9, 10, 6, 1, 4, 5, 6, 9, 8, 3, 4, 1, 4, 7, 9, 10, 5, 9, 1, 2, 3, 4, 8, 9, 4, 7, 1, 2, 6, 6, 1, 6, 8, 3, 4, 1, 6, 9, 1, 5, 10, 6, 4, 6, 7, 1, 1, 8, 4, 1, 2, 4, 1, 1, 2, 3, 4, 6, 10, 2, 1, 4, 5, 6, 8, 10, 1, 2, 3, 4, 6, 8, 1, 3, 6, 6, 1, 7, 1, 2, 6, 8, 9, 10, 6], \"Freq\": [0.921286940574646, 0.3626801073551178, 0.1813400536775589, 0.1813400536775589, 0.7602760791778564, 1.0177481174468994, 0.4572094678878784, 0.4572094678878784, 0.7314237356185913, 0.10448911041021347, 0.10448911041021347, 1.6087803840637207, 0.9272885322570801, 1.183894395828247, 1.6094154119491577, 0.7196492552757263, 0.04797661677002907, 0.09595323354005814, 0.04797661677002907, 0.04797661677002907, 0.619239330291748, 0.05629448592662811, 0.11258897185325623, 0.05629448592662811, 0.05629448592662811, 0.05629448592662811, 0.05629448592662811, 1.4455479383468628, 0.5702239871025085, 0.09503733366727829, 0.24709706008434296, 0.09503733366727829, 1.083554744720459, 1.682121992111206, 1.5402836799621582, 1.5006204843521118, 1.0384323596954346, 0.7552803754806519, 0.06866185367107391, 0.06866185367107391, 0.06866185367107391, 0.5510709881782532, 0.18369033932685852, 0.18369033932685852, 1.633829116821289, 0.9540254473686218, 0.608827531337738, 0.608827531337738, 1.3584116697311401, 1.7212212085723877, 0.9147583246231079, 0.29021355509757996, 0.29021355509757996, 0.29021355509757996, 0.43993350863456726, 0.21996675431728363, 0.7718335390090942, 0.09262002259492874, 0.030873341485857964, 0.030873341485857964, 0.030873341485857964, 0.030873341485857964, 0.030873341485857964, 0.030873341485857964, 0.365384578704834, 0.365384578704834, 0.365384578704834, 0.5871671438217163, 0.19572238624095917, 0.19572238624095917, 0.9068799018859863, 0.9496099352836609, 0.5923216342926025, 1.284026861190796, 1.2866878509521484, 0.3986016809940338, 0.1993008404970169, 0.1993008404970169, 1.5387630462646484, 0.3024808466434479, 0.3024808466434479, 0.6049616932868958, 1.330561637878418, 1.1162846088409424, 0.5215293169021606, 0.173843115568161, 0.30033010244369507, 0.30033010244369507, 0.4564972519874573, 0.4212372601032257, 0.4212372601032257, 1.0476609468460083, 0.5763244032859802, 0.5763244032859802, 1.4524692296981812, 1.0117179155349731, 0.9151967167854309, 0.37296056747436523, 0.7459211349487305, 1.5569686889648438, 1.183092474937439, 1.257158637046814, 0.9542616009712219, 0.3959461748600006, 0.09898654371500015, 0.09898654371500015, 0.09898654371500015, 0.09898654371500015, 0.1979730874300003, 0.7716801762580872, 1.161270260810852, 0.2814989984035492, 0.2814989984035492, 0.24337206780910492, 0.24337206780910492, 0.24337206780910492, 0.24337206780910492, 0.2940690517425537, 0.2940690517425537, 0.9776228070259094, 1.7391997575759888, 0.5179261565208435, 0.10358522832393646, 0.10358522832393646, 0.10358522832393646, 0.10358522832393646, 0.235161691904068, 0.235161691904068, 0.235161691904068, 0.235161691904068, 0.9190101623535156, 0.5517464280128479, 0.36783096194267273, 0.6282743215560913, 0.12565487623214722, 0.12565487623214722, 0.6661856770515442, 0.6661856770515442, 1.0363444089889526, 0.5091762542724609, 0.5091762542724609, 0.830132782459259, 0.4324122369289398, 0.4324122369289398, 1.7720006704330444, 0.9204335808753967, 1.3423607349395752, 0.31637346744537354, 0.31637346744537354, 0.38590875267982483, 0.19295437633991241, 0.9803755879402161, 1.0186259746551514, 0.5768972039222717, 0.09614952653646469, 0.09614952653646469, 0.19229905307292938, 0.9855075478553772, 1.0647213459014893, 1.099984884262085, 0.5542591214179993, 0.05542591214179993, 0.05542591214179993, 0.05542591214179993, 0.11085182428359985, 0.05542591214179993, 0.05542591214179993, 0.5397616028785706, 1.6017600297927856, 0.2979327440261841, 0.2979327440261841, 0.3473012447357178, 0.6446486711502075, 0.6640400290489197, 0.07378222048282623, 0.07378222048282623, 0.07378222048282623, 1.2330290079116821, 0.3552151620388031, 0.3552151620388031, 0.7668552994728088, 0.3834276497364044, 0.7567964196205139, 0.6994838118553162, 0.04114610701799393, 0.04114610701799393, 0.04114610701799393, 0.04114610701799393, 0.04114610701799393, 0.08229221403598785, 0.04114610701799393, 0.2633192539215088, 0.2633192539215088, 0.2633192539215088, 0.9884242415428162, 0.6125763058662415, 0.6125763058662415, 0.777213990688324, 0.06476783007383347, 0.06476783007383347, 0.06476783007383347, 1.466318964958191, 0.144273042678833, 0.144273042678833, 0.144273042678833, 0.144273042678833, 0.144273042678833, 0.9294262528419495, 0.7326412796974182, 0.07326412945985794, 0.04186521843075752, 0.03139891475439072, 0.01046630460768938, 0.05233152210712433, 0.06279782950878143, 0.921217143535614, 0.7557846903800964, 0.9278739094734192, 0.5135464668273926, 0.17118215560913086, 0.17118215560913086, 0.17118215560913086, 0.18521685898303986, 0.18521685898303986, 0.18521685898303986, 0.18521685898303986, 0.505446195602417, 0.4611554741859436, 0.1537184864282608, 0.1537184864282608, 0.1537184864282608, 0.3753046989440918, 0.3753046989440918, 1.633156180381775, 1.6355419158935547, 0.6235424280166626, 0.263357549905777, 0.263357549905777, 0.6487137675285339, 0.1713039129972458, 0.1713039129972458, 0.5139117240905762, 0.1713039129972458, 0.43466970324516296, 0.14488990604877472, 0.28977981209754944, 0.9438177943229675, 0.9981844425201416, 1.1235556602478027, 0.4722072184085846, 0.4722072184085846, 0.6359769105911255, 0.6359769105911255, 1.6447867155075073, 0.932353675365448, 0.988839328289032, 0.47127994894981384, 0.15168939530849457, 0.15168939530849457, 0.30337879061698914, 0.15168939530849457, 0.30337879061698914, 0.7543137073516846, 0.3771568536758423, 0.5190456509590149, 0.5190456509590149, 0.6546835899353027, 0.21822784841060638, 0.37603357434272766, 0.37603357434272766, 1.67851722240448, 0.4045828580856323, 0.20229142904281616, 0.20229142904281616, 0.20229142904281616, 0.2933230400085449, 0.2933230400085449, 0.2933230400085449, 0.5968523621559143, 0.09947539120912552, 0.09947539120912552, 0.09947539120912552, 0.7559366822242737, 0.5154289603233337, 0.25771448016166687, 0.5679500102996826, 0.5679500102996826, 0.31180113554000854, 0.15590056777000427, 0.15590056777000427, 0.34228289127349854, 0.34228289127349854, 0.9174380302429199, 0.2945960760116577, 0.2945960760116577, 0.2945960760116577, 0.9749611020088196, 0.9976125955581665, 0.8221343159675598, 0.6963643431663513, 0.08704554289579391, 0.08704554289579391, 0.08704554289579391, 0.7899601459503174, 0.19749003648757935, 0.7020404934883118, 0.043877530843019485, 0.08775506168603897, 0.043877530843019485, 0.043877530843019485, 0.043877530843019485, 1.2200605869293213, 1.5163495540618896, 0.6457858681678772, 0.0496758334338665, 0.0496758334338665, 0.0496758334338665, 0.0496758334338665, 0.0496758334338665, 0.099351666867733, 0.15276087820529938, 0.7638044357299805, 0.5172474980354309, 0.25862374901771545, 1.224166989326477, 0.9412558078765869, 0.07843798398971558, 1.2680072784423828, 0.7924637794494629, 0.6811685562133789, 0.6811685562133789, 0.12215223163366318, 0.12215223163366318, 0.24430446326732635, 0.36645668745040894, 0.12215223163366318, 1.1213268041610718, 0.5257678031921387, 0.5257678031921387, 1.463940978050232, 1.0982997417449951, 0.15035602450370789, 0.30071204900741577, 0.15035602450370789, 0.30071204900741577, 0.15035602450370789, 0.15035602450370789, 0.4751034080982208, 0.1583677977323532, 0.1583677977323532, 0.1583677977323532, 1.6491870880126953, 0.36497077345848083, 0.12165692448616028, 0.12165692448616028, 0.12165692448616028, 0.12165692448616028, 0.27187860012054443, 0.13593930006027222, 0.13593930006027222, 0.13593930006027222, 0.13593930006027222, 0.36745086312294006, 0.09186271578073502, 0.09186271578073502, 0.09186271578073502, 0.27558815479278564, 0.8349997401237488, 0.02609374187886715, 0.02609374187886715, 0.1304687112569809, 1.3530604839324951, 1.1358592510223389, 0.7476536631584167, 0.9952070116996765, 1.426024317741394, 1.764526605606079, 0.17499087750911713, 0.17499087750911713, 0.17499087750911713, 0.17499087750911713, 0.8159905076026917, 0.1359984129667282, 0.513605535030365, 0.513605535030365, 0.7807961702346802, 0.014732003211975098, 0.014732003211975098, 0.014732003211975098, 0.10312402248382568, 0.029464006423950195, 0.014732003211975098, 0.029464006423950195, 0.26233306527137756, 0.26233306527137756, 0.5246661305427551, 1.0428965091705322, 0.42693910002708435, 0.10673477500677109, 0.10673477500677109, 0.10673477500677109, 0.10673477500677109, 0.9652026295661926, 1.6123868227005005, 1.0990279912948608, 0.6655765771865845, 0.7150511145591736, 0.032502323389053345, 0.032502323389053345, 0.032502323389053345, 0.032502323389053345, 0.032502323389053345, 0.032502323389053345, 0.032502323389053345, 0.032502323389053345, 1.0603736639022827, 1.1631890535354614, 0.6964495182037354, 0.9910937547683716, 1.2174321413040161, 0.9373739361763, 1.0762242078781128, 1.1253918409347534, 0.5163391828536987, 0.06454239785671234, 0.03227119892835617, 0.03227119892835617, 0.2258983999490738, 0.03227119892835617, 0.06454239785671234, 0.03227119892835617, 0.9540033936500549, 1.02467679977417, 0.11839484423398972, 0.11839484423398972, 0.11839484423398972, 0.23678968846797943, 0.35518452525138855, 0.11839484423398972, 0.37718456983566284, 0.37718456983566284, 0.5395731329917908, 0.9744634628295898, 0.5493453741073608, 0.9992381930351257, 0.3484397530555725, 0.3484397530555725, 0.6385918855667114, 0.6385918855667114, 1.2209539413452148, 1.1021748781204224, 0.9113682508468628, 0.36045509576797485, 0.36045509576797485, 1.1066887378692627, 0.8595262765884399, 1.1326414346694946, 1.00602388381958, 0.8641818761825562, 1.7217411994934082, 1.0298100709915161, 0.4047674834728241, 0.20238374173641205, 0.9910790324211121, 1.1501373052597046, 0.9571070671081543, 0.8355640172958374, 0.2548050582408905, 0.2548050582408905, 0.2548050582408905, 1.3608002662658691, 0.597989559173584, 0.1195979118347168, 0.1195979118347168, 0.2078995704650879, 0.2078995704650879, 0.2078995704650879, 0.2078995704650879, 0.2078995704650879, 0.6229172348976135, 1.010324239730835, 0.9885082840919495, 1.2509710788726807, 1.054746389389038, 1.4204519987106323, 0.605002760887146, 0.302501380443573, 0.3422057032585144, 0.3422057032585144, 0.7228025197982788, 0.24093417823314667, 1.1503766775131226, 1.7681305408477783, 0.12179592996835709, 0.12179592996835709, 0.24359185993671417, 0.36538779735565186, 0.12179592996835709, 1.2844778299331665, 0.38403937220573425, 0.38403937220573425, 0.19201968610286713, 0.5978691577911377, 0.14946728944778442, 0.14946728944778442, 0.14946728944778442, 0.1186816617846489, 0.8307716250419617, 0.9297701716423035, 0.9089391231536865, 0.3820650279521942, 0.1910325139760971, 0.1910325139760971, 0.9483221173286438, 0.937330961227417, 0.11067214608192444, 0.8853771686553955, 1.464799404144287, 0.7017479538917542, 0.07797199487686157, 0.038985997438430786, 0.11695798486471176, 0.038985997438430786, 0.7126641869544983, 0.17816604673862457, 0.523759663105011, 0.9746630191802979, 0.4467885494232178, 0.07446476072072983, 0.07446476072072983, 0.07446476072072983, 0.14892952144145966, 0.2233942747116089, 0.07446476072072983, 1.0687605142593384, 0.4471047520637512, 0.0558880940079689, 0.3353285789489746, 0.1117761880159378, 0.24952173233032227, 0.24952173233032227, 0.24952173233032227, 1.0086455345153809, 1.328568458557129, 1.2840418815612793, 0.97954922914505, 0.9131066203117371, 0.8857991099357605, 1.590002179145813, 0.22170107066631317, 0.22170107066631317, 0.22170107066631317, 1.6003307104110718, 1.3687031269073486, 0.9456771016120911, 0.3639446794986725, 0.18197233974933624, 0.18197233974933624, 0.8826159834861755, 0.8493251800537109, 0.06533270329236984, 0.06533270329236984, 0.1456453651189804, 0.5825814604759216, 0.1456453651189804, 0.3982352316379547, 0.15929409861564636, 0.07964704930782318, 0.07964704930782318, 0.07964704930782318, 0.15929409861564636, 0.07964704930782318, 1.43602454662323, 1.4972922801971436, 0.3510631322860718, 0.11702104657888412, 0.11702104657888412, 0.11702104657888412, 0.23404209315776825, 1.462377905845642, 0.8129109740257263, 1.76346755027771, 0.8539109826087952, 0.04743949696421623, 0.04743949696421623, 0.04743949696421623, 1.4690141677856445, 0.4991416335105896, 0.4991416335105896, 0.7147256135940552, 0.051051829010248184, 0.051051829010248184, 0.051051829010248184, 0.051051829010248184, 0.051051829010248184, 1.3967223167419434, 0.9998733997344971, 0.3607627749443054, 0.1803813874721527, 0.3607627749443054, 1.6064074039459229, 0.6498408317565918, 0.12996816635131836, 0.2599363327026367, 0.7234457731246948, 0.7234457731246948, 0.4952049255371094, 0.4952049255371094, 1.0181204080581665, 0.11233043670654297, 0.7863130569458008, 0.11233043670654297, 1.6817057132720947, 1.1073017120361328, 0.35064998269081116, 0.35064998269081116, 1.0117740631103516, 0.8767692446708679, 0.07306410372257233, 0.9598007798194885, 0.33397117257118225, 0.16698558628559113, 0.16698558628559113, 0.9328147172927856, 0.6966146230697632, 0.12665720283985138, 0.06332860141992569, 0.06332860141992569, 0.06332860141992569, 1.7562767267227173, 1.1594157218933105, 0.46451297402381897, 0.15483765304088593, 0.07741882652044296, 0.15483765304088593, 0.07741882652044296, 0.07741882652044296, 0.6165317296981812, 0.06850352883338928, 0.06850352883338928, 0.06850352883338928, 0.06850352883338928, 0.06850352883338928, 0.8372196555137634, 0.4186098277568817, 1.540125846862793, 1.332679033279419, 0.6586503982543945, 0.21955011785030365, 0.8439537286758423, 0.021098844707012177, 0.04219768941402435, 0.021098844707012177, 0.021098844707012177, 0.021098844707012177, 1.594079613685608], \"Term\": [\"\\\"the\", \"#actonclimate\", \"#actonclimate\", \"#actonclimate\", \"(and\", \"5\", \"add\", \"add\", \"again!\", \"again!\", \"again!\", \"again.\", \"alabama.\", \"all-time\", \"allowed\", \"america\", \"america\", \"america\", \"america\", \"america\", \"american\", \"american\", \"american\", \"american\", \"american\", \"american\", \"american\", \"america\\u2019s\", \"and;\", \"and;\", \"and;\", \"and;\", \"anthem.\", \"ask\", \"asked\", \"asking\", \"attack\", \"back\", \"back\", \"back\", \"back\", \"bad\", \"bad\", \"bad\", \"base\", \"based\", \"beautiful\", \"beautiful\", \"become\", \"before.\", \"behalf\", \"believe\", \"believe\", \"believe\", \"better\", \"better\", \"big\", \"big\", \"big\", \"big\", \"big\", \"big\", \"big\", \"big\", \"bill\", \"bill\", \"bill\", \"billion\", \"billion\", \"billion\", \"bless\", \"bringing\", \"business\", \"called\", \"canada\", \"care\", \"care\", \"care\", \"caught\", \"china\", \"china\", \"china\", \"chuck\", \"class\", \"climate\", \"climate\", \"clinton\", \"clinton\", \"comey\", \"coming\", \"coming\", \"committee\", \"company\", \"company\", \"complete\", \"condolence\", \"confidence\", \"congratulations\", \"congratulations\", \"congratulations!\", \"consumer\", \"cost\", \"could\", \"country\", \"country\", \"country\", \"country\", \"country\", \"country\", \"country,\", \"crime\", \"crooked\", \"crooked\", \"cut\", \"cut\", \"cut\", \"cut\", \"cuts\", \"cuts\", \"d.c.\", \"david\", \"day\", \"day\", \"day\", \"day\", \"day\", \"deal\", \"deal\", \"deal\", \"deal\", \"decision\", \"democrats\", \"democrats\", \"dems\", \"dems\", \"dems\", \"despite\", \"despite\", \"didn\\u2019t\", \"discus\", \"discus\", \"donald\", \"done\", \"done\", \"done.\", \"don\\u2019t\", \"dropped\", \"economic\", \"economic\", \"economy\", \"economy\", \"election\", \"enforcement\", \"even\", \"even\", \"even\", \"even\", \"executive\", \"expected\", \"failing\", \"fake\", \"fake\", \"fake\", \"fake\", \"fake\", \"fake\", \"fake\", \"far\", \"fast\", \"fbi\", \"fbi\", \"fight\", \"finally\", \"first\", \"first\", \"first\", \"first\", \"flag\", \"forward\", \"forward\", \"gave\", \"gave\", \"general\", \"get\", \"get\", \"get\", \"get\", \"get\", \"get\", \"get\", \"get\", \"getting\", \"getting\", \"getting\", \"given\", \"god\", \"god\", \"going\", \"going\", \"going\", \"going\", \"gone\", \"good\", \"good\", \"good\", \"good\", \"good\", \"governor\", \"great\", \"great\", \"great\", \"great\", \"great\", \"great\", \"great\", \"greatest\", \"growth\", \"hand\", \"happy\", \"happy\", \"happy\", \"happy\", \"hard\", \"hard\", \"hard\", \"hard\", \"heading\", \"health\", \"health\", \"health\", \"health\", \"healthcare\", \"healthcare\", \"heard\", \"hero\", \"highest\", \"hillary\", \"hillary\", \"hit\", \"honor\", \"honor\", \"honor\", \"honor\", \"house\", \"house\", \"house\", \"hurricane\", \"hurt\", \"illegal\", \"immigration\", \"immigration\", \"incredible\", \"incredible\", \"information\", \"insurance\", \"internet\", \"james\", \"job\", \"job\", \"job\", \"job\", \"job\", \"jobs!\", \"jobs!\", \"jobs,\", \"jobs,\", \"john\", \"john\", \"join\", \"join\", \"joint\", \"know\", \"know\", \"know\", \"know\", \"korea\", \"korea\", \"korea\", \"last\", \"last\", \"last\", \"last\", \"leaving\", \"let\", \"let\", \"level\", \"level\", \"like\", \"like\", \"like\", \"live:\", \"live:\", \"london.\", \"look\", \"look\", \"look\", \"looking\", \"lower\", \"luther\", \"made\", \"made\", \"made\", \"made\", \"major\", \"major\", \"make\", \"make\", \"make\", \"make\", \"make\", \"make\", \"man\", \"manufacturing\", \"many\", \"many\", \"many\", \"many\", \"many\", \"many\", \"many\", \"may\", \"may\", \"meeting\", \"meeting\", \"member\", \"men\", \"men\", \"message\", \"mexico\", \"middle\", \"middle\", \"minister\", \"minister\", \"minister\", \"minister\", \"minister\", \"money\", \"month\", \"month\", \"morning\", \"move\", \"much\", \"much\", \"much\", \"much\", \"much\", \"much\", \"must\", \"must\", \"must\", \"must\", \"nations\", \"need\", \"need\", \"need\", \"need\", \"need\", \"never\", \"never\", \"never\", \"never\", \"never\", \"new\", \"new\", \"new\", \"new\", \"new\", \"news\", \"news\", \"news\", \"news\", \"news.\", \"news:\", \"nfl\", \"nice\", \"night.\", \"nobody\", \"north\", \"north\", \"north\", \"north\", \"nothing\", \"nothing\", \"number\", \"number\", \"obama\", \"obama\", \"obama\", \"obama\", \"obama\", \"obama\", \"obama\", \"obama\", \"obamacare\", \"obamacare\", \"obamacare\", \"offer\", \"one\", \"one\", \"one\", \"one\", \"one\", \"order\", \"party\", \"passage\", \"pay\", \"people\", \"people\", \"people\", \"people\", \"people\", \"people\", \"people\", \"people\", \"people\", \"people.\", \"perhaps\", \"player\", \"pm\", \"point\", \"police\", \"poll\", \"prayer\", \"president\", \"president\", \"president\", \"president\", \"president\", \"president\", \"president\", \"president\", \"president.\", \"press\", \"prime\", \"prime\", \"prime\", \"prime\", \"prime\", \"prime\", \"protect\", \"protect\", \"proud\", \"puerto\", \"ready\", \"really\", \"record\", \"record\", \"reform\", \"reform\", \"remarks:\", \"repeal\", \"replace\", \"report\", \"report\", \"republican\", \"republicans\", \"respect\", \"rico\", \"right\", \"room\", \"run\", \"russia\", \"russia\", \"sacrifice\", \"said\", \"second\", \"secretary\", \"security\", \"security\", \"security\", \"security.\", \"see\", \"see\", \"see\", \"senate\", \"senate\", \"senate\", \"senate\", \"senate\", \"senator\", \"senators\", \"shutdown\", \"small\", \"solve\", \"source\", \"south\", \"south\", \"speaking\", \"speaking\", \"special\", \"special\", \"speech\", \"spending\", \"spoke\", \"spoke\", \"spoke\", \"spoke\", \"spoke\", \"starting\", \"state\", \"state\", \"state\", \"states\", \"states\", \"states\", \"states\", \"strong\", \"strong\", \"subject\", \"success\", \"take\", \"take\", \"take\", \"tax\", \"term\", \"terrorist\", \"terrorist\", \"texas\", \"thank\", \"thank\", \"thank\", \"thank\", \"thank\", \"theresa\", \"theresa\", \"thought\", \"thrilled\", \"time\", \"time\", \"time\", \"time\", \"time\", \"time\", \"time\", \"time,\", \"today\", \"today\", \"today\", \"today\", \"today,\", \"today,\", \"today,\", \"told\", \"tonight\", \"top\", \"total\", \"totally\", \"tough\", \"tougher\", \"trade\", \"trade\", \"trade\", \"travel\", \"trillion\", \"truly\", \"trump\", \"trump\", \"trump\", \"trying\", \"u\", \"u\", \"u\", \"u.k.\", \"u.k.\", \"u.k.\", \"u.s.\", \"u.s.\", \"u.s.\", \"u.s.\", \"u.s.\", \"u.s.\", \"u.s.\", \"un\", \"unfair\", \"united\", \"united\", \"united\", \"united\", \"united\", \"us.\", \"use\", \"virginia\", \"vote\", \"vote\", \"vote\", \"vote\", \"voted\", \"w/\", \"w/\", \"want\", \"want\", \"want\", \"want\", \"want\", \"want\", \"wanted\", \"washington\", \"watch\", \"watch\", \"watch\", \"watching\", \"way\", \"way\", \"way\", \"week\", \"week\", \"weekly\", \"weekly\", \"welcome\", \"well.\", \"well.\", \"well.\", \"went\", \"west\", \"white\", \"white\", \"winner\", \"woman\", \"woman\", \"word\", \"work\", \"work\", \"work\", \"worked\", \"working\", \"working\", \"working\", \"working\", \"working\", \"world,\", \"worst\", \"would\", \"would\", \"would\", \"would\", \"would\", \"would\", \"year\", \"year\", \"year\", \"year\", \"year\", \"year\", \"yesterday\", \"yesterday\", \"yesterday.\", \"york\", \"you!\", \"you!\", \"\\u2014president\", \"\\u2014president\", \"\\u2014president\", \"\\u2014president\", \"\\u2014president\", \"\\u2014president\", \"\\u201cthe\"]}, \"R\": 30, \"lambda.step\": 0.01, \"plot.opts\": {\"xlab\": \"PC1\", \"ylab\": \"PC2\"}, \"topic.order\": [2, 3, 4, 6, 9, 5, 10, 8, 7, 1]};\n",
              "\n",
              "function LDAvis_load_lib(url, callback){\n",
              "  var s = document.createElement('script');\n",
              "  s.src = url;\n",
              "  s.async = true;\n",
              "  s.onreadystatechange = s.onload = callback;\n",
              "  s.onerror = function(){console.warn(\"failed to load library \" + url);};\n",
              "  document.getElementsByTagName(\"head\")[0].appendChild(s);\n",
              "}\n",
              "\n",
              "if(typeof(LDAvis) !== \"undefined\"){\n",
              "   // already loaded: just create the visualization\n",
              "   !function(LDAvis){\n",
              "       new LDAvis(\"#\" + \"ldavis_el941403635456051282279555880\", ldavis_el941403635456051282279555880_data);\n",
              "   }(LDAvis);\n",
              "}else if(typeof define === \"function\" && define.amd){\n",
              "   // require.js is available: use it to load d3/LDAvis\n",
              "   require.config({paths: {d3: \"https://cdnjs.cloudflare.com/ajax/libs/d3/3.5.5/d3.min\"}});\n",
              "   require([\"d3\"], function(d3){\n",
              "      window.d3 = d3;\n",
              "      LDAvis_load_lib(\"https://cdn.rawgit.com/bmabey/pyLDAvis/files/ldavis.v1.0.0.js\", function(){\n",
              "        new LDAvis(\"#\" + \"ldavis_el941403635456051282279555880\", ldavis_el941403635456051282279555880_data);\n",
              "      });\n",
              "    });\n",
              "}else{\n",
              "    // require.js not available: dynamically load d3 & LDAvis\n",
              "    LDAvis_load_lib(\"https://cdnjs.cloudflare.com/ajax/libs/d3/3.5.5/d3.min.js\", function(){\n",
              "         LDAvis_load_lib(\"https://cdn.rawgit.com/bmabey/pyLDAvis/files/ldavis.v1.0.0.js\", function(){\n",
              "                 new LDAvis(\"#\" + \"ldavis_el941403635456051282279555880\", ldavis_el941403635456051282279555880_data);\n",
              "            })\n",
              "         });\n",
              "}\n",
              "</script>"
            ],
            "text/plain": [
              "PreparedData(topic_coordinates=            Freq  cluster  topics           x           y\n",
              "topic                                                    \n",
              "1      54.999977  1        1      -125.207344  69.131767 \n",
              "2      5.000700   1        2      -162.634674 -311.306549\n",
              "3      5.000117   1        3       140.196472  129.701111\n",
              "5      4.999971   1        4       371.200348  280.631287\n",
              "8      4.999875   1        5       203.893448 -366.335693\n",
              "4      4.999875   1        6       376.001190 -70.674118 \n",
              "9      4.999871   1        7       59.629681  -130.117889\n",
              "7      4.999871   1        8      -372.489532 -66.147423 \n",
              "6      4.999871   1        9      -289.646790  296.067871\n",
              "0      4.999871   1        10      21.828316   396.111755, topic_info=      Category       Freq        Term      Total  loglift  logprob\n",
              "term                                                              \n",
              "181    Default  52.000000  and;        52.000000  30.0000  30.0000\n",
              "282    Default  95.000000  great       95.000000  29.0000  29.0000\n",
              "428    Default  38.000000  news        38.000000  28.0000  28.0000\n",
              "441    Default  67.000000  obama       67.000000  27.0000  27.0000\n",
              "499    Default  30.000000  president   30.000000  26.0000  26.0000\n",
              "543    Default  8.000000   attack      8.000000   25.0000  25.0000\n",
              "10846  Default  9.000000   terrorist   9.000000   24.0000  24.0000\n",
              "3313   Default  8.000000   tax         8.000000   23.0000  23.0000\n",
              "593    Default  17.000000  today       17.000000  22.0000  22.0000\n",
              "469    Default  25.000000  thank       25.000000  21.0000  21.0000\n",
              "759    Default  7.000000   london.     7.000000   20.0000  20.0000\n",
              "7376   Default  8.000000   well.       8.000000   19.0000  19.0000\n",
              "987    Default  8.000000   strong      8.000000   18.0000  18.0000\n",
              "713    Default  6.000000   condolence  6.000000   17.0000  17.0000\n",
              "719    Default  6.000000   offer       6.000000   16.0000  16.0000\n",
              "1402   Default  35.000000  really      35.000000  15.0000  15.0000\n",
              "1141   Default  47.000000  —president  47.000000  14.0000  14.0000\n",
              "353    Default  20.000000  america     20.000000  13.0000  13.0000\n",
              "524    Default  6.000000   may         6.000000   12.0000  12.0000\n",
              "515    Default  26.000000  election    26.000000  11.0000  11.0000\n",
              "286    Default  20.000000  many        20.000000  10.0000  10.0000\n",
              "1382   Default  12.000000  u.s.        12.000000  9.0000   9.0000 \n",
              "6314   Default  18.000000  fake        18.000000  8.0000   8.0000 \n",
              "852    Default  32.000000  big         32.000000  7.0000   7.0000 \n",
              "681    Default  17.000000  american    17.000000  6.0000   6.0000 \n",
              "209    Default  19.000000  want        19.000000  5.0000   5.0000 \n",
              "142    Default  13.000000  time        13.000000  4.0000   4.0000 \n",
              "14     Default  22.000000  make        22.000000  3.0000   3.0000 \n",
              "1842   Default  12.000000  would       12.000000  2.0000   2.0000 \n",
              "2141   Default  5.000000   democrats   5.000000   1.0000   1.0000 \n",
              "...        ...        ...    ...             ...     ...      ... \n",
              "10748  Topic10  0.303601   ed          0.443740   2.6162  -6.8772 \n",
              "8797   Topic10  0.693230   luther      1.216346   2.4335  -6.0515 \n",
              "2532   Topic10  0.303086   someone     0.447197   2.6068  -6.8789 \n",
              "549    Topic10  0.568748   tough       1.128924   2.3102  -6.2494 \n",
              "879    Topic10  0.465526   without     0.851986   2.3914  -6.4497 \n",
              "10982  Topic10  0.484930   strange     0.921857   2.3534  -6.4089 \n",
              "107    Topic10  2.104934   even        10.400467  1.3982  -4.9408 \n",
              "6122   Topic10  1.450896   north       5.714583   1.6249  -5.3129 \n",
              "1123   Topic10  1.189872   deal        4.252393   1.7221  -5.5113 \n",
              "6215   Topic10  0.797828   comey       2.190594   1.9857  -5.9110 \n",
              "136    Topic10  1.021314   look        3.394478   1.7947  -5.6640 \n",
              "1773   Topic10  1.021012   believe     3.445738   1.7794  -5.6643 \n",
              "215    Topic10  1.341906   like        6.414345   1.4313  -5.3910 \n",
              "716    Topic10  1.346526   good        6.931302   1.3572  -5.3876 \n",
              "10265  Topic10  1.107505   theresa     5.612741   1.3728  -5.5830 \n",
              "690    Topic10  1.041159   know        4.943363   1.4380  -5.6448 \n",
              "69     Topic10  1.235155   never       7.356224   1.2114  -5.4739 \n",
              "6120   Topic10  0.872634   korea       3.409210   1.6330  -5.8214 \n",
              "286    Topic10  1.538792   many        20.130512  0.4245  -5.2541 \n",
              "2559   Topic10  0.924041   special     4.150511   1.4935  -5.7641 \n",
              "671    Topic10  1.006555   must        6.314415   1.1595  -5.6786 \n",
              "441    Topic10  1.850208   obama       67.879433 -0.6067  -5.0698 \n",
              "6314   Topic10  1.294645   fake        18.042103  0.3613  -5.4269 \n",
              "171    Topic10  1.091298   made        11.488239  0.6418  -5.5977 \n",
              "1141   Topic10  1.436764   —president  47.395962 -0.5004  -5.3227 \n",
              "138    Topic10  1.261217   people      30.767031 -0.1986  -5.4530 \n",
              "63     Topic10  0.903561   honor       5.837578   1.1300  -5.7865 \n",
              "353    Topic10  1.111398   america     20.843487  0.0643  -5.5795 \n",
              "1681   Topic10  1.013272   going       15.439763  0.2720  -5.6719 \n",
              "358    Topic10  0.993581   get         24.303637 -0.2013  -5.6916 \n",
              "\n",
              "[656 rows x 6 columns], token_table=      Topic      Freq           Term\n",
              "term                                \n",
              "2583  1      0.921287  \"the         \n",
              "951   1      0.362680  #actonclimate\n",
              "951   2      0.181340  #actonclimate\n",
              "951   9      0.181340  #actonclimate\n",
              "2434  7      0.760276  (and         \n",
              "4115  1      1.017748  5            \n",
              "967   1      0.457209  add          \n",
              "967   9      0.457209  add          \n",
              "6210  1      0.731424  again!       \n",
              "6210  2      0.104489  again!       \n",
              "6210  3      0.104489  again!       \n",
              "3350  9      1.608780  again.       \n",
              "4861  1      0.927289  alabama.     \n",
              "1854  6      1.183894  all-time     \n",
              "3895  6      1.609415  allowed      \n",
              "353   1      0.719649  america      \n",
              "353   2      0.047977  america      \n",
              "353   3      0.095953  america      \n",
              "353   9      0.047977  america      \n",
              "353   10     0.047977  america      \n",
              "681   1      0.619239  american     \n",
              "681   2      0.056294  american     \n",
              "681   3      0.112589  american     \n",
              "681   6      0.056294  american     \n",
              "681   7      0.056294  american     \n",
              "681   8      0.056294  american     \n",
              "681   9      0.056294  american     \n",
              "1797  2      1.445548  america’s    \n",
              "181   1      0.570224  and;         \n",
              "181   2      0.095037  and;         \n",
              "...  ..           ...   ...         \n",
              "471   3      0.063329  working      \n",
              "471   4      0.063329  working      \n",
              "471   6      0.063329  working      \n",
              "4602  10     1.756277  world,       \n",
              "3286  2      1.159416  worst        \n",
              "1842  1      0.464513  would        \n",
              "1842  4      0.154838  would        \n",
              "1842  5      0.077419  would        \n",
              "1842  6      0.154838  would        \n",
              "1842  8      0.077419  would        \n",
              "1842  10     0.077419  would        \n",
              "259   1      0.616532  year         \n",
              "259   2      0.068504  year         \n",
              "259   3      0.068504  year         \n",
              "259   4      0.068504  year         \n",
              "259   6      0.068504  year         \n",
              "259   8      0.068504  year         \n",
              "2460  1      0.837220  yesterday    \n",
              "2460  3      0.418610  yesterday    \n",
              "1827  6      1.540126  yesterday.   \n",
              "2362  6      1.332679  york         \n",
              "6167  1      0.658650  you!         \n",
              "6167  7      0.219550  you!         \n",
              "1141  1      0.843954  —president   \n",
              "1141  2      0.021099  —president   \n",
              "1141  6      0.042198  —president   \n",
              "1141  8      0.021099  —president   \n",
              "1141  9      0.021099  —president   \n",
              "1141  10     0.021099  —president   \n",
              "3825  6      1.594080  “the         \n",
              "\n",
              "[656 rows x 3 columns], R=30, lambda_step=0.01, plot_opts={'xlab': 'PC1', 'ylab': 'PC2'}, topic_order=[2, 3, 4, 6, 9, 5, 10, 8, 7, 1])"
            ]
          },
          "metadata": {
            "tags": []
          },
          "execution_count": 321
        }
      ]
    },
    {
      "metadata": {
        "id": "8dwYrrGMoe8d",
        "colab_type": "code",
        "colab": {
          "autoexec": {
            "startup": false,
            "wait_interval": 0
          },
          "base_uri": "https://localhost:8080/",
          "height": 68
        },
        "outputId": "ccc33375-a21a-4d52-fd4e-20705b8bdb99",
        "executionInfo": {
          "status": "ok",
          "timestamp": 1532255099901,
          "user_tz": -120,
          "elapsed": 2922,
          "user": {
            "displayName": "pedro oftalmo",
            "photoUrl": "https://lh3.googleusercontent.com/a/default-user=s128",
            "userId": "103534249081506905925"
          }
        }
      },
      "cell_type": "code",
      "source": [
        "!pip install tqdm"
      ],
      "execution_count": 287,
      "outputs": [
        {
          "output_type": "stream",
          "text": [
            "Requirement already satisfied: tqdm in /usr/local/lib/python3.6/dist-packages (4.23.4)\n",
            "\u001b[33mYou are using pip version 10.0.1, however version 18.0 is available.\n",
            "You should consider upgrading via the 'pip install --upgrade pip' command.\u001b[0m\n"
          ],
          "name": "stdout"
        }
      ]
    },
    {
      "metadata": {
        "id": "3uTiFWLOovGR",
        "colab_type": "code",
        "colab": {
          "autoexec": {
            "startup": false,
            "wait_interval": 0
          }
        }
      },
      "cell_type": "code",
      "source": [
        "from tqdm import tqdm"
      ],
      "execution_count": 0,
      "outputs": []
    },
    {
      "metadata": {
        "id": "x1utlXQnm4nZ",
        "colab_type": "text"
      },
      "cell_type": "markdown",
      "source": [
        "Los CoherenceModel nos va a permitir valorar lo bueno que es el resultado"
      ]
    },
    {
      "metadata": {
        "id": "QyHjdgxUgFSW",
        "colab_type": "code",
        "colab": {
          "autoexec": {
            "startup": false,
            "wait_interval": 0
          }
        }
      },
      "cell_type": "code",
      "source": [
        "from gensim.models import CoherenceModel\n",
        "def compute_coherence_values(dictionary, corpus, texts, limit, start=2, step=3):\n",
        "    \"\"\"\n",
        "    Compute c_v coherence for various number of topics\n",
        "\n",
        "    Parameters:\n",
        "    ----------\n",
        "    dictionary : Gensim dictionary\n",
        "    corpus : Gensim corpus\n",
        "    texts : List of input texts\n",
        "    limit : Max num of topics\n",
        "\n",
        "    Returns:\n",
        "    -------\n",
        "    model_list : List of LDA topic models\n",
        "    coherence_values : Coherence values corresponding to the LDA model with respective number of topics\n",
        "    \"\"\"\n",
        "    coherence_values = []\n",
        "    model_list = []\n",
        "    for num_topics in tqdm(range(start, limit, step)):\n",
        "        model = models.LdaModel(corpus, id2word=dictionary, num_topics=num_topics, iterations=5, passes=20, alpha='auto')\n",
        "        model_list.append(model)\n",
        "        coherencemodel = CoherenceModel(model=model, texts=texts, dictionary=dictionary, coherence='c_v')\n",
        "        coherence_values.append(coherencemodel.get_coherence())\n",
        "\n",
        "    return model_list, coherence_values"
      ],
      "execution_count": 0,
      "outputs": []
    },
    {
      "metadata": {
        "id": "8X_Cyefo--OH",
        "colab_type": "code",
        "colab": {
          "autoexec": {
            "startup": false,
            "wait_interval": 0
          },
          "base_uri": "https://localhost:8080/",
          "height": 296
        },
        "outputId": "948f66ec-04b6-4a7d-83b9-4906ff2e6185",
        "executionInfo": {
          "status": "ok",
          "timestamp": 1532255663588,
          "user_tz": -120,
          "elapsed": 524477,
          "user": {
            "displayName": "pedro oftalmo",
            "photoUrl": "https://lh3.googleusercontent.com/a/default-user=s128",
            "userId": "103534249081506905925"
          }
        }
      },
      "cell_type": "code",
      "source": [
        "limit=40; start=2; step=2;\n",
        "model_list, coherence_values = compute_coherence_values(dictionary=dictionary, corpus=corpus, texts=texts, start=start, limit=limit, step=step)\n",
        "x = range(start, limit, step)\n",
        "plt.plot(x, coherence_values)\n",
        "plt.xlabel(\"Num Topics\")\n",
        "plt.ylabel(\"Coherence score\")\n",
        "plt.legend((\"coherence_values\"), loc='best')\n",
        "plt.show()"
      ],
      "execution_count": 292,
      "outputs": [
        {
          "output_type": "stream",
          "text": [
            "100%|██████████| 19/19 [08:43<00:00, 27.56s/it]\n"
          ],
          "name": "stderr"
        },
        {
          "output_type": "display_data",
          "data": {
            "image/png": "[encoded data removed]",
            "text/plain": [
              "<matplotlib.figure.Figure at 0x7fa8f89a2c50>"
            ]
          },
          "metadata": {
            "tags": []
          }
        }
      ]
    },
    {
      "metadata": {
        "id": "7sqGmxWmpcJR",
        "colab_type": "text"
      },
      "cell_type": "markdown",
      "source": [
        "Después de probar varios números de topics, cono 10 se obtiene una coherencia aceptable y no existe ningún tipo de solapamiento entre los mismo como se puede ver en el el gráfico de bolas mostrado anteriormente."
      ]
    },
    {
      "metadata": {
        "id": "0lL4mvk5TMiD",
        "colab_type": "text"
      },
      "cell_type": "markdown",
      "source": [
        "#3. MODELO GENERATIVO"
      ]
    },
    {
      "metadata": {
        "id": "u7RXJ6N6FVOh",
        "colab_type": "text"
      },
      "cell_type": "markdown",
      "source": [
        "Este problema de Language Modeling se puede solucionar mediante Bayes pero tendríamos el problema de la independencia de features, por lo que se considera que un desarrollo utilizando deep learning y en concreto las RNN es la mejor alternativa."
      ]
    },
    {
      "metadata": {
        "id": "o3IPPK1mL-Uv",
        "colab_type": "text"
      },
      "cell_type": "markdown",
      "source": [
        "De entre todas las arquitecturas utilizadas para NLP, se ha decidido utilizar RNN porque nos permite extraer texto a partir del contexto anterior. Para la implementación se utilizará la librería Keras. Se va a realizar la predicción con caracteres."
      ]
    },
    {
      "metadata": {
        "id": "5pXJHLk9P3al",
        "colab_type": "text"
      },
      "cell_type": "markdown",
      "source": [
        "Cargamos el dataset desde github"
      ]
    },
    {
      "metadata": {
        "id": "-73pniExzbDv",
        "colab_type": "code",
        "colab": {
          "autoexec": {
            "startup": false,
            "wait_interval": 0
          },
          "base_uri": "https://localhost:8080/",
          "height": 204
        },
        "outputId": "40e75798-26e2-4fba-a048-8058121d91d8",
        "executionInfo": {
          "status": "ok",
          "timestamp": 1532193485427,
          "user_tz": -120,
          "elapsed": 1988,
          "user": {
            "displayName": "javi martinez",
            "photoUrl": "https://lh3.googleusercontent.com/a/default-user=s128",
            "userId": "116029268340374623529"
          }
        }
      },
      "cell_type": "code",
      "source": [
        "!wget https://raw.githubusercontent.com/jampol71/NLP/master/dataset2.json"
      ],
      "execution_count": 15,
      "outputs": [
        {
          "output_type": "stream",
          "text": [
            "--2018-07-21 17:18:04--  https://raw.githubusercontent.com/jampol71/NLP/master/dataset2.json\r\n",
            "Resolving raw.githubusercontent.com (raw.githubusercontent.com)... 151.101.0.133, 151.101.64.133, 151.101.128.133, ...\n",
            "Connecting to raw.githubusercontent.com (raw.githubusercontent.com)|151.101.0.133|:443... connected.\n",
            "HTTP request sent, awaiting response... 200 OK\n",
            "Length: 1070528 (1.0M) [text/plain]\n",
            "Saving to: ‘dataset2.json’\n",
            "\n",
            "dataset2.json       100%[===================>]   1.02M  --.-KB/s    in 0.1s    \n",
            "\n",
            "2018-07-21 17:18:04 (8.61 MB/s) - ‘dataset2.json’ saved [1070528/1070528]\n",
            "\n"
          ],
          "name": "stdout"
        }
      ]
    },
    {
      "metadata": {
        "id": "-4jwAZ61P7ew",
        "colab_type": "text"
      },
      "cell_type": "markdown",
      "source": [
        "Pasamos el dataset a DataFrame para poder trabajar con él. En el dataset vemos que se trata de una serie de twits de Obama y Trump. Como sólo necesitaremos generar texto de uno de los dos personajes, se ha escogido Obama, por lo que tendremos que eliminar a Trump y darle la forma adecuada al DF para poder trabajar con él."
      ]
    },
    {
      "metadata": {
        "id": "4U9uDw7Lw1hM",
        "colab_type": "code",
        "colab": {
          "autoexec": {
            "startup": false,
            "wait_interval": 0
          },
          "base_uri": "https://localhost:8080/",
          "height": 636
        },
        "outputId": "a3dc5e9c-6e9d-4943-e1e9-a327d92928a6",
        "executionInfo": {
          "status": "ok",
          "timestamp": 1532257333912,
          "user_tz": -120,
          "elapsed": 2383,
          "user": {
            "displayName": "pedro oftalmo",
            "photoUrl": "https://lh3.googleusercontent.com/a/default-user=s128",
            "userId": "103534249081506905925"
          }
        }
      },
      "cell_type": "code",
      "source": [
        "df_presidents = pd.read_json('dataset2.json')\n",
        "df_presidents.head(5)"
      ],
      "execution_count": 322,
      "outputs": [
        {
          "output_type": "execute_result",
          "data": {
            "text/html": [
              "<div>\n",
              "<style scoped>\n",
              "    .dataframe tbody tr th:only-of-type {\n",
              "        vertical-align: middle;\n",
              "    }\n",
              "\n",
              "    .dataframe tbody tr th {\n",
              "        vertical-align: top;\n",
              "    }\n",
              "\n",
              "    .dataframe thead th {\n",
              "        text-align: right;\n",
              "    }\n",
              "</style>\n",
              "<table border=\"1\" class=\"dataframe\">\n",
              "  <thead>\n",
              "    <tr style=\"text-align: right;\">\n",
              "      <th></th>\n",
              "      <th>0</th>\n",
              "      <th>1</th>\n",
              "      <th>10</th>\n",
              "      <th>100</th>\n",
              "      <th>1000</th>\n",
              "      <th>1001</th>\n",
              "      <th>1002</th>\n",
              "      <th>1003</th>\n",
              "      <th>1004</th>\n",
              "      <th>1005</th>\n",
              "      <th>...</th>\n",
              "      <th>990</th>\n",
              "      <th>991</th>\n",
              "      <th>992</th>\n",
              "      <th>993</th>\n",
              "      <th>994</th>\n",
              "      <th>995</th>\n",
              "      <th>996</th>\n",
              "      <th>997</th>\n",
              "      <th>998</th>\n",
              "      <th>999</th>\n",
              "    </tr>\n",
              "  </thead>\n",
              "  <tbody>\n",
              "    <tr>\n",
              "      <th>label</th>\n",
              "      <td>OBAMA</td>\n",
              "      <td>OBAMA</td>\n",
              "      <td>OBAMA</td>\n",
              "      <td>OBAMA</td>\n",
              "      <td>OBAMA</td>\n",
              "      <td>OBAMA</td>\n",
              "      <td>OBAMA</td>\n",
              "      <td>OBAMA</td>\n",
              "      <td>OBAMA</td>\n",
              "      <td>OBAMA</td>\n",
              "      <td>...</td>\n",
              "      <td>OBAMA</td>\n",
              "      <td>OBAMA</td>\n",
              "      <td>OBAMA</td>\n",
              "      <td>OBAMA</td>\n",
              "      <td>OBAMA</td>\n",
              "      <td>OBAMA</td>\n",
              "      <td>OBAMA</td>\n",
              "      <td>OBAMA</td>\n",
              "      <td>OBAMA</td>\n",
              "      <td>OBAMA</td>\n",
              "    </tr>\n",
              "    <tr>\n",
              "      <th>tweet</th>\n",
              "      <td>“Low plastic stool, cheap but delicious noodles, cold Hanoi beer.” This is how I’ll remember Tony. He taught us about food — but more importantly, about its ability to bring us together. To make us a little less afraid of the unknown. We’ll miss him. https://t.co/orEXIaEMZM</td>\n",
              "      <td>“Low plastic stool, cheap but delicious noodles, cold Hanoi beer.” This is how I’ll remember Tony. He taught us about food — but more importantly, about its ability to bring us together. To make us a little less afraid of the unknown. We’ll miss him. https://t.co/orEXIaEMZM</td>\n",
              "      <td>Michelle and I are so inspired by all the young people who made today’s marches happen. Keep at it. You’re leading us forward. Nothing can stand in the way of millions of voices calling for change.</td>\n",
              "      <td>Senate leaders' obstruction of our Supreme Court nomination process is unacceptable. Say so: https://t.co/t3pYMO8Fp0 #DoYourJob</td>\n",
              "      <td>In 31 states, people can still be fired because of who they love. Help change that in 2016: https://t.co/19OA1ZV27Y https://t.co/FPJE5lqg3R</td>\n",
              "      <td>Seven down, one more to go. Make sure you tune in for President Obama's last #SOTU: https://t.co/HFgZR9WXRC https://t.co/xqSZBhULy2</td>\n",
              "      <td>Have you entered yet? You and a friend could win a trip to Alaska: https://t.co/t6XiS36KEa https://t.co/WOixbqA6Tb</td>\n",
              "      <td>Check out five big victories that made 2015 a great year for progress: https://t.co/QUoecEpNfJ</td>\n",
              "      <td>Suit up—it's President Obama's final State of the Union. Say you'll tune in: https://t.co/AGwK7ExsUV https://t.co/RFwI8GwxIh</td>\n",
              "      <td>You can still join the team fighting for progress. Get your contribution in under the wire: https://t.co/j5kL0bIr35 https://t.co/Mu59GJBSR3</td>\n",
              "      <td>...</td>\n",
              "      <td>You don't want to miss this. Say you'll tune in for President Obama's final #SOTU: https://t.co/0nLa9bR8wb https://t.co/JkidFquqS7</td>\n",
              "      <td>LAST CALL: You could be going on a seven-day cruise to Alaska—but only if you enter today. https://t.co/L1a5XkmNoq https://t.co/OLUPeoJpLH</td>\n",
              "      <td>Thinking of ways you can help out over the next year? Look no further: https://t.co/BhXZzzrqqt https://t.co/dYSv2HwKjW</td>\n",
              "      <td>DEADLINE: Chip in to help fund the fight for more progress in 2016. https://t.co/ezVFTh8LJ2</td>\n",
              "      <td>You and a friend could be heading north. Enter now to win a cruise to Alaska: https://t.co/R3Zhuc2Jt4 https://t.co/P8NjsWwpAg</td>\n",
              "      <td>TONIGHT: Come in with the clutch contribution before the deadline. https://t.co/kmfpf4CbDf https://t.co/fdDYhGu9ng</td>\n",
              "      <td>Global climate action became a reality this year—keep the progress going in 2016: https://t.co/LoFVusJz5p https://t.co/0Xqt4gJM3G</td>\n",
              "      <td>Chip in to help gear up for the big fights in 2016: https://t.co/Xkhkfx6GtO https://t.co/8b4O2wTDyX</td>\n",
              "      <td>Here's your chance to get lost in the beauty of the Last Frontier state: https://t.co/FMSKYxg5T9 https://t.co/luIDL2OmOw</td>\n",
              "      <td>Get ready—the deadline to pitch in before the new year is right around the corner. https://t.co/hbXvpbu6RY https://t.co/c9MakiUyrW</td>\n",
              "    </tr>\n",
              "  </tbody>\n",
              "</table>\n",
              "<p>2 rows × 5889 columns</p>\n",
              "</div>"
            ],
            "text/plain": [
              "                                                                                                                                                                                                                                                                                        0  \\\n",
              "label  OBAMA                                                                                                                                                                                                                                                                                \n",
              "tweet  “Low plastic stool, cheap but delicious noodles, cold Hanoi beer.” This is how I’ll remember Tony. He taught us about food — but more importantly, about its ability to bring us together. To make us a little less afraid of the unknown. We’ll miss him. https://t.co/orEXIaEMZM   \n",
              "\n",
              "                                                                                                                                                                                                                                                                                        1  \\\n",
              "label  OBAMA                                                                                                                                                                                                                                                                                \n",
              "tweet  “Low plastic stool, cheap but delicious noodles, cold Hanoi beer.” This is how I’ll remember Tony. He taught us about food — but more importantly, about its ability to bring us together. To make us a little less afraid of the unknown. We’ll miss him. https://t.co/orEXIaEMZM   \n",
              "\n",
              "                                                                                                                                                                                                          10  \\\n",
              "label  OBAMA                                                                                                                                                                                                   \n",
              "tweet  Michelle and I are so inspired by all the young people who made today’s marches happen. Keep at it. You’re leading us forward. Nothing can stand in the way of millions of voices calling for change.   \n",
              "\n",
              "                                                                                                                                   100  \\\n",
              "label  OBAMA                                                                                                                             \n",
              "tweet  Senate leaders' obstruction of our Supreme Court nomination process is unacceptable. Say so: https://t.co/t3pYMO8Fp0 #DoYourJob   \n",
              "\n",
              "                                                                                                                                              1000  \\\n",
              "label  OBAMA                                                                                                                                         \n",
              "tweet  In 31 states, people can still be fired because of who they love. Help change that in 2016: https://t.co/19OA1ZV27Y https://t.co/FPJE5lqg3R   \n",
              "\n",
              "                                                                                                                                      1001  \\\n",
              "label  OBAMA                                                                                                                                 \n",
              "tweet  Seven down, one more to go. Make sure you tune in for President Obama's last #SOTU: https://t.co/HFgZR9WXRC https://t.co/xqSZBhULy2   \n",
              "\n",
              "                                                                                                                     1002  \\\n",
              "label  OBAMA                                                                                                                \n",
              "tweet  Have you entered yet? You and a friend could win a trip to Alaska: https://t.co/t6XiS36KEa https://t.co/WOixbqA6Tb   \n",
              "\n",
              "                                                                                                 1003  \\\n",
              "label  OBAMA                                                                                            \n",
              "tweet  Check out five big victories that made 2015 a great year for progress: https://t.co/QUoecEpNfJ   \n",
              "\n",
              "                                                                                                                               1004  \\\n",
              "label  OBAMA                                                                                                                          \n",
              "tweet  Suit up—it's President Obama's final State of the Union. Say you'll tune in: https://t.co/AGwK7ExsUV https://t.co/RFwI8GwxIh   \n",
              "\n",
              "                                                                                                                                              1005  \\\n",
              "label  OBAMA                                                                                                                                         \n",
              "tweet  You can still join the team fighting for progress. Get your contribution in under the wire: https://t.co/j5kL0bIr35 https://t.co/Mu59GJBSR3   \n",
              "\n",
              "                                                                      ...                                                                  \\\n",
              "label                                                                 ...                                                                   \n",
              "tweet                                                                 ...                                                                   \n",
              "\n",
              "                                                                                                                                      990  \\\n",
              "label  OBAMA                                                                                                                                \n",
              "tweet  You don't want to miss this. Say you'll tune in for President Obama's final #SOTU: https://t.co/0nLa9bR8wb https://t.co/JkidFquqS7   \n",
              "\n",
              "                                                                                                                                              991  \\\n",
              "label  OBAMA                                                                                                                                        \n",
              "tweet  LAST CALL: You could be going on a seven-day cruise to Alaska—but only if you enter today. https://t.co/L1a5XkmNoq https://t.co/OLUPeoJpLH   \n",
              "\n",
              "                                                                                                                          992  \\\n",
              "label  OBAMA                                                                                                                    \n",
              "tweet  Thinking of ways you can help out over the next year? Look no further: https://t.co/BhXZzzrqqt https://t.co/dYSv2HwKjW   \n",
              "\n",
              "                                                                                               993  \\\n",
              "label  OBAMA                                                                                         \n",
              "tweet  DEADLINE: Chip in to help fund the fight for more progress in 2016. https://t.co/ezVFTh8LJ2   \n",
              "\n",
              "                                                                                                                                 994  \\\n",
              "label  OBAMA                                                                                                                           \n",
              "tweet  You and a friend could be heading north. Enter now to win a cruise to Alaska: https://t.co/R3Zhuc2Jt4 https://t.co/P8NjsWwpAg   \n",
              "\n",
              "                                                                                                                      995  \\\n",
              "label  OBAMA                                                                                                                \n",
              "tweet  TONIGHT: Come in with the clutch contribution before the deadline. https://t.co/kmfpf4CbDf https://t.co/fdDYhGu9ng   \n",
              "\n",
              "                                                                                                                                     996  \\\n",
              "label  OBAMA                                                                                                                               \n",
              "tweet  Global climate action became a reality this year—keep the progress going in 2016: https://t.co/LoFVusJz5p https://t.co/0Xqt4gJM3G   \n",
              "\n",
              "                                                                                                       997  \\\n",
              "label  OBAMA                                                                                                 \n",
              "tweet  Chip in to help gear up for the big fights in 2016: https://t.co/Xkhkfx6GtO https://t.co/8b4O2wTDyX   \n",
              "\n",
              "                                                                                                                            998  \\\n",
              "label  OBAMA                                                                                                                      \n",
              "tweet  Here's your chance to get lost in the beauty of the Last Frontier state: https://t.co/FMSKYxg5T9 https://t.co/luIDL2OmOw   \n",
              "\n",
              "                                                                                                                                      999  \n",
              "label  OBAMA                                                                                                                               \n",
              "tweet  Get ready—the deadline to pitch in before the new year is right around the corner. https://t.co/hbXvpbu6RY https://t.co/c9MakiUyrW  \n",
              "\n",
              "[2 rows x 5889 columns]"
            ]
          },
          "metadata": {
            "tags": []
          },
          "execution_count": 322
        }
      ]
    },
    {
      "metadata": {
        "id": "snHybA-TPjq7",
        "colab_type": "code",
        "colab": {
          "autoexec": {
            "startup": false,
            "wait_interval": 0
          },
          "base_uri": "https://localhost:8080/",
          "height": 34
        },
        "outputId": "ca32f25e-ec3f-4379-ed8d-e2a38bbe3f97",
        "executionInfo": {
          "status": "ok",
          "timestamp": 1532257340997,
          "user_tz": -120,
          "elapsed": 710,
          "user": {
            "displayName": "pedro oftalmo",
            "photoUrl": "https://lh3.googleusercontent.com/a/default-user=s128",
            "userId": "103534249081506905925"
          }
        }
      },
      "cell_type": "code",
      "source": [
        "df_presidents = df_presidents.T\n",
        "df_presidents.shape"
      ],
      "execution_count": 323,
      "outputs": [
        {
          "output_type": "execute_result",
          "data": {
            "text/plain": [
              "(5889, 2)"
            ]
          },
          "metadata": {
            "tags": []
          },
          "execution_count": 323
        }
      ]
    },
    {
      "metadata": {
        "id": "VKO6Gu2JxF_o",
        "colab_type": "code",
        "colab": {
          "autoexec": {
            "startup": false,
            "wait_interval": 0
          }
        }
      },
      "cell_type": "code",
      "source": [
        "df_obama = df_presidents[df_presidents['label'] == 'OBAMA']"
      ],
      "execution_count": 0,
      "outputs": []
    },
    {
      "metadata": {
        "id": "tNgeuBdxwkhs",
        "colab_type": "code",
        "colab": {
          "autoexec": {
            "startup": false,
            "wait_interval": 0
          },
          "base_uri": "https://localhost:8080/",
          "height": 34
        },
        "outputId": "508f6dc4-3705-425c-83ac-9505beb44f04",
        "executionInfo": {
          "status": "ok",
          "timestamp": 1532257347717,
          "user_tz": -120,
          "elapsed": 728,
          "user": {
            "displayName": "pedro oftalmo",
            "photoUrl": "https://lh3.googleusercontent.com/a/default-user=s128",
            "userId": "103534249081506905925"
          }
        }
      },
      "cell_type": "code",
      "source": [
        "df_obama.head(5)\n",
        "df_obama.shape"
      ],
      "execution_count": 325,
      "outputs": [
        {
          "output_type": "execute_result",
          "data": {
            "text/plain": [
              "(2894, 2)"
            ]
          },
          "metadata": {
            "tags": []
          },
          "execution_count": 325
        }
      ]
    },
    {
      "metadata": {
        "id": "UwlL_oxmQrmI",
        "colab_type": "text"
      },
      "cell_type": "markdown",
      "source": [
        "Como se puede observar, nos hemos quedado con 2894 twits de Obama."
      ]
    },
    {
      "metadata": {
        "id": "iPqPIR-diKTh",
        "colab_type": "code",
        "colab": {
          "autoexec": {
            "startup": false,
            "wait_interval": 0
          },
          "base_uri": "https://localhost:8080/",
          "height": 238
        },
        "outputId": "71e68491-2a05-4ad6-ff2c-9f74ba2f6ad0",
        "executionInfo": {
          "status": "ok",
          "timestamp": 1532257359359,
          "user_tz": -120,
          "elapsed": 1071,
          "user": {
            "displayName": "pedro oftalmo",
            "photoUrl": "https://lh3.googleusercontent.com/a/default-user=s128",
            "userId": "103534249081506905925"
          }
        }
      },
      "cell_type": "code",
      "source": [
        "df_obama.head(5)"
      ],
      "execution_count": 326,
      "outputs": [
        {
          "output_type": "execute_result",
          "data": {
            "text/html": [
              "<div>\n",
              "<style scoped>\n",
              "    .dataframe tbody tr th:only-of-type {\n",
              "        vertical-align: middle;\n",
              "    }\n",
              "\n",
              "    .dataframe tbody tr th {\n",
              "        vertical-align: top;\n",
              "    }\n",
              "\n",
              "    .dataframe thead th {\n",
              "        text-align: right;\n",
              "    }\n",
              "</style>\n",
              "<table border=\"1\" class=\"dataframe\">\n",
              "  <thead>\n",
              "    <tr style=\"text-align: right;\">\n",
              "      <th></th>\n",
              "      <th>label</th>\n",
              "      <th>tweet</th>\n",
              "    </tr>\n",
              "  </thead>\n",
              "  <tbody>\n",
              "    <tr>\n",
              "      <th>0</th>\n",
              "      <td>OBAMA</td>\n",
              "      <td>“Low plastic stool, cheap but delicious noodles, cold Hanoi beer.” This is how I’ll remember Tony. He taught us about food — but more importantly, about its ability to bring us together. To make us a little less afraid of the unknown. We’ll miss him. https://t.co/orEXIaEMZM</td>\n",
              "    </tr>\n",
              "    <tr>\n",
              "      <th>1</th>\n",
              "      <td>OBAMA</td>\n",
              "      <td>“Low plastic stool, cheap but delicious noodles, cold Hanoi beer.” This is how I’ll remember Tony. He taught us about food — but more importantly, about its ability to bring us together. To make us a little less afraid of the unknown. We’ll miss him. https://t.co/orEXIaEMZM</td>\n",
              "    </tr>\n",
              "    <tr>\n",
              "      <th>10</th>\n",
              "      <td>OBAMA</td>\n",
              "      <td>Michelle and I are so inspired by all the young people who made today’s marches happen. Keep at it. You’re leading us forward. Nothing can stand in the way of millions of voices calling for change.</td>\n",
              "    </tr>\n",
              "    <tr>\n",
              "      <th>100</th>\n",
              "      <td>OBAMA</td>\n",
              "      <td>Senate leaders' obstruction of our Supreme Court nomination process is unacceptable. Say so: https://t.co/t3pYMO8Fp0 #DoYourJob</td>\n",
              "    </tr>\n",
              "    <tr>\n",
              "      <th>1000</th>\n",
              "      <td>OBAMA</td>\n",
              "      <td>In 31 states, people can still be fired because of who they love. Help change that in 2016: https://t.co/19OA1ZV27Y https://t.co/FPJE5lqg3R</td>\n",
              "    </tr>\n",
              "  </tbody>\n",
              "</table>\n",
              "</div>"
            ],
            "text/plain": [
              "      label  \\\n",
              "0     OBAMA   \n",
              "1     OBAMA   \n",
              "10    OBAMA   \n",
              "100   OBAMA   \n",
              "1000  OBAMA   \n",
              "\n",
              "                                                                                                                                                                                                                                                                                   tweet  \n",
              "0     “Low plastic stool, cheap but delicious noodles, cold Hanoi beer.” This is how I’ll remember Tony. He taught us about food — but more importantly, about its ability to bring us together. To make us a little less afraid of the unknown. We’ll miss him. https://t.co/orEXIaEMZM  \n",
              "1     “Low plastic stool, cheap but delicious noodles, cold Hanoi beer.” This is how I’ll remember Tony. He taught us about food — but more importantly, about its ability to bring us together. To make us a little less afraid of the unknown. We’ll miss him. https://t.co/orEXIaEMZM  \n",
              "10    Michelle and I are so inspired by all the young people who made today’s marches happen. Keep at it. You’re leading us forward. Nothing can stand in the way of millions of voices calling for change.                                                                               \n",
              "100   Senate leaders' obstruction of our Supreme Court nomination process is unacceptable. Say so: https://t.co/t3pYMO8Fp0 #DoYourJob                                                                                                                                                     \n",
              "1000  In 31 states, people can still be fired because of who they love. Help change that in 2016: https://t.co/19OA1ZV27Y https://t.co/FPJE5lqg3R                                                                                                                                         "
            ]
          },
          "metadata": {
            "tags": []
          },
          "execution_count": 326
        }
      ]
    },
    {
      "metadata": {
        "id": "NzFZsE7NjxQ5",
        "colab_type": "code",
        "colab": {
          "autoexec": {
            "startup": false,
            "wait_interval": 0
          }
        }
      },
      "cell_type": "code",
      "source": [
        "tweets = df_obama.tweet"
      ],
      "execution_count": 0,
      "outputs": []
    },
    {
      "metadata": {
        "id": "Z4DhqQTNj0kf",
        "colab_type": "code",
        "colab": {
          "autoexec": {
            "startup": false,
            "wait_interval": 0
          },
          "base_uri": "https://localhost:8080/",
          "height": 207
        },
        "outputId": "c38e53ba-56de-4eee-c08a-f8a0f584ac06",
        "executionInfo": {
          "status": "ok",
          "timestamp": 1532257366976,
          "user_tz": -120,
          "elapsed": 1682,
          "user": {
            "displayName": "pedro oftalmo",
            "photoUrl": "https://lh3.googleusercontent.com/a/default-user=s128",
            "userId": "103534249081506905925"
          }
        }
      },
      "cell_type": "code",
      "source": [
        "x = 0\n",
        "for i in range(x,x+5):\n",
        "    print(tweets[i])\n",
        "    print()"
      ],
      "execution_count": 328,
      "outputs": [
        {
          "output_type": "stream",
          "text": [
            "“Low plastic stool, cheap but delicious noodles, cold Hanoi beer.” This is how I’ll remember Tony. He taught us about food — but more importantly, about its ability to bring us together. To make us a little less afraid of the unknown. We’ll miss him. https://t.co/orEXIaEMZM\n",
            "\n",
            "“Low plastic stool, cheap but delicious noodles, cold Hanoi beer.” This is how I’ll remember Tony. He taught us about food — but more importantly, about its ability to bring us together. To make us a little less afraid of the unknown. We’ll miss him. https://t.co/orEXIaEMZM\n",
            "\n",
            "This National Gun Violence Awareness Day, show your commitment to keeping our kids safe from gun violence. Then, for everyone we’ve lost, take action to change our leadership and our laws until they reflect that commitment - no matter how long it takes. https://t.co/lraIwlQAgl\n",
            "\n",
            "We can never truly repay the debt we owe our fallen heroes. But we can remember them, honor their sacrifice, and affirm in our own lives those enduring ideals of justice, equality, and opportunity for which generations of Americans have given that last full measure of devotion. https://t.co/pRxwmaMClL\n",
            "\n",
            "This Center is for the leaders of tomorrow who are ready to step up and build the world as it should be. Michelle and I are grateful to Chicagoans and the Chicago City Council for making it happen. https://t.co/86uiJ55azV\n",
            "\n"
          ],
          "name": "stdout"
        }
      ]
    },
    {
      "metadata": {
        "id": "sVzGShmV300b",
        "colab_type": "text"
      },
      "cell_type": "markdown",
      "source": [
        "Vamos a procedero a un preprocesado de los tweets antes de trabajar con ellos."
      ]
    },
    {
      "metadata": {
        "id": "-AnsTxbNkMdk",
        "colab_type": "code",
        "colab": {
          "autoexec": {
            "startup": false,
            "wait_interval": 0
          }
        }
      },
      "cell_type": "code",
      "source": [
        "def clean_tweet(tweet):\n",
        "    tweet = tweet.lower()\n",
        "    tweet = re.sub(r'https?:\\/\\/.*[\\r\\n]*', '', tweet, flags=re.MULTILINE)\n",
        "    tweet = re.sub(r'[_\"\\-;%()|.,+&=*%]', '', tweet)\n",
        "    tweet = re.sub(r'\\.', ' . ', tweet)\n",
        "    tweet = re.sub(r'\\!', ' !', tweet)\n",
        "    tweet = re.sub(r'\\?', ' ?', tweet)\n",
        "    tweet = re.sub(r'\\,', ' ,', tweet)\n",
        "    tweet = re.sub(r':', ' : ', tweet)\n",
        "    tweet = re.sub(r'#', ' # ', tweet)\n",
        "    tweet = re.sub(r'@', ' @ ', tweet)\n",
        "    tweet = re.sub(r'd .c .', 'd.c.', tweet)\n",
        "    tweet = re.sub(r'u .s .', 'd.c.', tweet)\n",
        "    tweet = re.sub(r' amp ', ' and ', tweet)\n",
        "    tweet = re.sub(r'pm', ' pm ', tweet)\n",
        "    tweet = re.sub(r'news', ' news ', tweet)\n",
        "    tweet = re.sub(r' . . . ', ' ', tweet)\n",
        "    tweet = re.sub(r' .  .  . ', ' ', tweet)\n",
        "    tweet = re.sub(r' ! ! ', ' ! ', tweet)\n",
        "    tweet = re.sub(r'&amp', 'and', tweet)\n",
        "    return tweet"
      ],
      "execution_count": 0,
      "outputs": []
    },
    {
      "metadata": {
        "id": "ap1Y0eXd4GmW",
        "colab_type": "text"
      },
      "cell_type": "markdown",
      "source": [
        "A continuación crearemos una lista que contenga dichos twits"
      ]
    },
    {
      "metadata": {
        "id": "kutE8U4LkQim",
        "colab_type": "code",
        "colab": {
          "autoexec": {
            "startup": false,
            "wait_interval": 0
          }
        }
      },
      "cell_type": "code",
      "source": [
        "obama_dataset = []\n",
        "for tweet in tweets:\n",
        "    tweet = clean_tweet(tweet)\n",
        "    if len(tweet) > 0:\n",
        "        obama_dataset.append(tweet)"
      ],
      "execution_count": 0,
      "outputs": []
    },
    {
      "metadata": {
        "id": "QM2NZ-cqk37Y",
        "colab_type": "code",
        "colab": {
          "autoexec": {
            "startup": false,
            "wait_interval": 0
          },
          "base_uri": "https://localhost:8080/",
          "height": 34
        },
        "outputId": "011d1239-c813-4137-d68a-19e4883ca619",
        "executionInfo": {
          "status": "ok",
          "timestamp": 1532257381808,
          "user_tz": -120,
          "elapsed": 583,
          "user": {
            "displayName": "pedro oftalmo",
            "photoUrl": "https://lh3.googleusercontent.com/a/default-user=s128",
            "userId": "103534249081506905925"
          }
        }
      },
      "cell_type": "code",
      "source": [
        "len(obama_dataset)"
      ],
      "execution_count": 331,
      "outputs": [
        {
          "output_type": "execute_result",
          "data": {
            "text/plain": [
              "2894"
            ]
          },
          "metadata": {
            "tags": []
          },
          "execution_count": 331
        }
      ]
    },
    {
      "metadata": {
        "id": "zoJZWHvLRC1L",
        "colab_type": "text"
      },
      "cell_type": "markdown",
      "source": [
        "Realizaremos una tokenización por caracteres"
      ]
    },
    {
      "metadata": {
        "id": "K4y_8Ydux_DY",
        "colab_type": "code",
        "colab": {
          "autoexec": {
            "startup": false,
            "wait_interval": 0
          }
        }
      },
      "cell_type": "code",
      "source": [
        "tokenized = [list(x) for x in obama_dataset]\n"
      ],
      "execution_count": 0,
      "outputs": []
    },
    {
      "metadata": {
        "id": "5p-YpN_fRUHd",
        "colab_type": "text"
      },
      "cell_type": "markdown",
      "source": [
        "Nos guardamos los caracteres que sirven para inicializar frase"
      ]
    },
    {
      "metadata": {
        "id": "5yIT94XLyzPw",
        "colab_type": "code",
        "colab": {
          "autoexec": {
            "startup": false,
            "wait_interval": 0
          }
        }
      },
      "cell_type": "code",
      "source": [
        "init_chars = [x[:5] for x in tokenized]\n",
        "for i in range(len(init_chars)):\n",
        "    tmp = init_chars[i]\n",
        "    tmp.insert(0, '<SOS>')\n",
        "    init_chars[i] = tmp[:5]    "
      ],
      "execution_count": 0,
      "outputs": []
    },
    {
      "metadata": {
        "id": "ylYyJJ55t4Xy",
        "colab_type": "code",
        "colab": {
          "autoexec": {
            "startup": false,
            "wait_interval": 0
          },
          "base_uri": "https://localhost:8080/",
          "height": 34
        },
        "outputId": "3fc6f7b0-c44f-402f-80bd-dd706cef5569",
        "executionInfo": {
          "status": "ok",
          "timestamp": 1532257410804,
          "user_tz": -120,
          "elapsed": 685,
          "user": {
            "displayName": "pedro oftalmo",
            "photoUrl": "https://lh3.googleusercontent.com/a/default-user=s128",
            "userId": "103534249081506905925"
          }
        }
      },
      "cell_type": "code",
      "source": [
        "start_token = [s[1] for s in tokenized if len(s) > 1]\n",
        "len(start_token)"
      ],
      "execution_count": 334,
      "outputs": [
        {
          "output_type": "execute_result",
          "data": {
            "text/plain": [
              "2894"
            ]
          },
          "metadata": {
            "tags": []
          },
          "execution_count": 334
        }
      ]
    },
    {
      "metadata": {
        "id": "FOPT7GBgzZeg",
        "colab_type": "code",
        "colab": {
          "autoexec": {
            "startup": false,
            "wait_interval": 0
          },
          "base_uri": "https://localhost:8080/",
          "height": 34
        },
        "outputId": "f14fcf8a-c677-4111-a0f3-007bbf7fd107",
        "executionInfo": {
          "status": "ok",
          "timestamp": 1532257413844,
          "user_tz": -120,
          "elapsed": 1084,
          "user": {
            "displayName": "pedro oftalmo",
            "photoUrl": "https://lh3.googleusercontent.com/a/default-user=s128",
            "userId": "103534249081506905925"
          }
        }
      },
      "cell_type": "code",
      "source": [
        "maxlen = max([len(x) for x in tokenized])\n",
        "avglen = sum([len(x) for x in tokenized])/len(tokenized)\n",
        "print(maxlen, avglen)"
      ],
      "execution_count": 335,
      "outputs": [
        {
          "output_type": "stream",
          "text": [
            "277 91.87007601935038\n"
          ],
          "name": "stdout"
        }
      ]
    },
    {
      "metadata": {
        "id": "ITemoeioRzJ4",
        "colab_type": "text"
      },
      "cell_type": "markdown",
      "source": [
        "Sacamos el vocabulario. Nos sale un número asequible de tokens."
      ]
    },
    {
      "metadata": {
        "id": "vnQO51oOzjuB",
        "colab_type": "code",
        "colab": {
          "autoexec": {
            "startup": false,
            "wait_interval": 0
          },
          "base_uri": "https://localhost:8080/",
          "height": 34
        },
        "outputId": "030bd322-57bc-455c-de17-62ef07460143",
        "executionInfo": {
          "status": "ok",
          "timestamp": 1532257420103,
          "user_tz": -120,
          "elapsed": 2428,
          "user": {
            "displayName": "pedro oftalmo",
            "photoUrl": "https://lh3.googleusercontent.com/a/default-user=s128",
            "userId": "103534249081506905925"
          }
        }
      },
      "cell_type": "code",
      "source": [
        "vocab = [t for s in obama_dataset for t in s]\n",
        "print('num tokens: {}'.format(len(vocab)))"
      ],
      "execution_count": 336,
      "outputs": [
        {
          "output_type": "stream",
          "text": [
            "num tokens: 265872\n"
          ],
          "name": "stdout"
        }
      ]
    },
    {
      "metadata": {
        "id": "Tku4Mm2jSPyI",
        "colab_type": "text"
      },
      "cell_type": "markdown",
      "source": [
        "Añadimos los tokens que necesitamos para generar texto"
      ]
    },
    {
      "metadata": {
        "id": "QYp4VMXaztEd",
        "colab_type": "code",
        "colab": {
          "autoexec": {
            "startup": false,
            "wait_interval": 0
          },
          "base_uri": "https://localhost:8080/",
          "height": 34
        },
        "outputId": "1602469b-b384-443c-dd35-73d290b7aa23",
        "executionInfo": {
          "status": "ok",
          "timestamp": 1532257421959,
          "user_tz": -120,
          "elapsed": 848,
          "user": {
            "displayName": "pedro oftalmo",
            "photoUrl": "https://lh3.googleusercontent.com/a/default-user=s128",
            "userId": "103534249081506905925"
          }
        }
      },
      "cell_type": "code",
      "source": [
        "vocab_counter = Counter(vocab)\n",
        "vocab = [w for w, v in vocab_counter.items() if v>2]\n",
        "vocab = ['<PAD>', '<UNK>', '<SOS>', '<EOS>'] + vocab\n",
        "nb_vocab = len(vocab)\n",
        "\n",
        "'num features a user {}'.format(nb_vocab)"
      ],
      "execution_count": 337,
      "outputs": [
        {
          "output_type": "execute_result",
          "data": {
            "text/plain": [
              "'num features a user 62'"
            ]
          },
          "metadata": {
            "tags": []
          },
          "execution_count": 337
        }
      ]
    },
    {
      "metadata": {
        "id": "JKAig-gRSadH",
        "colab_type": "text"
      },
      "cell_type": "markdown",
      "source": [
        "Mapeamos el vocabulario"
      ]
    },
    {
      "metadata": {
        "id": "2yVDQ-uHzyRi",
        "colab_type": "code",
        "colab": {
          "autoexec": {
            "startup": false,
            "wait_interval": 0
          }
        }
      },
      "cell_type": "code",
      "source": [
        "w2id = {k:i for i, k in enumerate(vocab)}\n",
        "id2w = {i:k for k, i in w2id.items()}"
      ],
      "execution_count": 0,
      "outputs": []
    },
    {
      "metadata": {
        "id": "dD5Pan8NSoLx",
        "colab_type": "text"
      },
      "cell_type": "markdown",
      "source": [
        "Generamos el dataset"
      ]
    },
    {
      "metadata": {
        "id": "prZz0I-vz2F4",
        "colab_type": "code",
        "colab": {
          "autoexec": {
            "startup": false,
            "wait_interval": 0
          },
          "base_uri": "https://localhost:8080/",
          "height": 34
        },
        "outputId": "74729fee-38bf-4cbd-9fe8-73df72242d3f",
        "executionInfo": {
          "status": "ok",
          "timestamp": 1532257428815,
          "user_tz": -120,
          "elapsed": 1740,
          "user": {
            "displayName": "pedro oftalmo",
            "photoUrl": "https://lh3.googleusercontent.com/a/default-user=s128",
            "userId": "103534249081506905925"
          }
        }
      },
      "cell_type": "code",
      "source": [
        "maxlen = min(maxlen, 5)\n",
        "\n",
        "step = 1\n",
        "\n",
        "data_train = []\n",
        "\n",
        "for x in tokenized:\n",
        "    x.insert(0, '<SOS>')\n",
        "    x.append('<EOS>')\n",
        "    for i in range(0, len(x)-maxlen, step):\n",
        "        data_train.append((x[i:i+maxlen], x[i+maxlen]))\n",
        "        \n",
        "print('nb_sequences: {}'.format(len(data_train)))\n"
      ],
      "execution_count": 339,
      "outputs": [
        {
          "output_type": "stream",
          "text": [
            "nb_sequences: 257190\n"
          ],
          "name": "stdout"
        }
      ]
    },
    {
      "metadata": {
        "id": "P1xebHO1TOly",
        "colab_type": "text"
      },
      "cell_type": "markdown",
      "source": [
        "Utilizaremos callbacks en Keras."
      ]
    },
    {
      "metadata": {
        "id": "bCqc6cf8Yzro",
        "colab_type": "text"
      },
      "cell_type": "markdown",
      "source": [
        "Esta función servirá para realizar predicciones más precisas o menos."
      ]
    },
    {
      "metadata": {
        "id": "fwGVspx9z9En",
        "colab_type": "code",
        "colab": {
          "autoexec": {
            "startup": false,
            "wait_interval": 0
          }
        }
      },
      "cell_type": "code",
      "source": [
        "def sample_pred(preds, temperature=1.0):\n",
        "    # helper function to sample an index from a probability array\n",
        "    preds = np.asarray(preds).astype('float64')\n",
        "    preds = np.log(preds) / temperature\n",
        "    exp_preds = np.exp(preds)\n",
        "    preds = exp_preds / np.sum(exp_preds)\n",
        "    probas = np.random.multinomial(1, preds, 1)\n",
        "    return np.argmax(probas)"
      ],
      "execution_count": 0,
      "outputs": []
    },
    {
      "metadata": {
        "id": "x1wrHVC4TaoV",
        "colab_type": "text"
      },
      "cell_type": "markdown",
      "source": [
        "Esta función nos servirá para indicarle cada cuantas épocas queremos que se muestre un ejemplo. Vamos a empezar con 4. Esta función va a predecir el siguiente caracter de la secuencia."
      ]
    },
    {
      "metadata": {
        "id": "IVCs6xPW0DcE",
        "colab_type": "code",
        "colab": {
          "autoexec": {
            "startup": false,
            "wait_interval": 0
          }
        }
      },
      "cell_type": "code",
      "source": [
        "\n",
        "SAMPLE_EVERY = 4\n",
        "class Sampletest(Callback):\n",
        "    def on_epoch_end(self, epoch, logs):\n",
        "        if epoch % SAMPLE_EVERY == 0  and epoch>0:\n",
        "            data_test = []\n",
        "            nb_samples = 1\n",
        "            \n",
        "            params = {\n",
        "                'maxlen': maxlen,\n",
        "                'vocab': nb_vocab,\n",
        "                'use_embeddings': True\n",
        "                }\n",
        "            for _ in range(nb_samples):\n",
        "                data_test = choice(init_chars)\n",
        "                for diversity in [0.2, 0.6, 1.2]:\n",
        "                    print('----- diversity:', diversity)\n",
        "                    sentence = copy(data_test)\n",
        "                    generated = copy(data_test)\n",
        "                    for i in range(len(data_test), 400):\n",
        "                        x_pred = np.zeros((1, params['maxlen']))\n",
        "                        for t, char in enumerate(sentence):\n",
        "                            x_pred[0, t] = w2id[char] if char in w2id else w2id['<UNK>']\n",
        "                        preds = self.model.predict(x_pred, verbose=0)[0]\n",
        "                        next_index = sample_pred(preds, diversity)\n",
        "                        next_char = id2w[next_index]\n",
        "                        if next_char == '<EOS>':\n",
        "                            break\n",
        "                        generated += [next_char]\n",
        "                        sentence = sentence[1:] \n",
        "                        sentence += [next_char]\n",
        "                    print(''.join(generated))"
      ],
      "execution_count": 0,
      "outputs": []
    },
    {
      "metadata": {
        "id": "e1Dqb9gC1Oou",
        "colab_type": "code",
        "colab": {
          "autoexec": {
            "startup": false,
            "wait_interval": 0
          }
        }
      },
      "cell_type": "code",
      "source": [
        "class TimeHistory(Callback):\n",
        "    def on_train_begin(self, logs={}):\n",
        "        self.times = []\n",
        "\n",
        "    def on_epoch_begin(self, batch, logs={}):\n",
        "        self.epoch_time_start = time.time()\n",
        "\n",
        "    def on_epoch_end(self, batch, logs={}):\n",
        "        self.times.append(time.time() - self.epoch_time_start)"
      ],
      "execution_count": 0,
      "outputs": []
    },
    {
      "metadata": {
        "id": "lsdV09vgU3P1",
        "colab_type": "text"
      },
      "cell_type": "markdown",
      "source": [
        "Aquí se está encapsulando el modelo que vamos a ejecutar, lo que hará que el código esté mucho más limpio y organizado. Este modelo tiene una capa bidireccional y 3 LTSM. Según los estudios que existen esto produce resultados adecuados."
      ]
    },
    {
      "metadata": {
        "id": "jh_OevZD1SP6",
        "colab_type": "code",
        "colab": {
          "autoexec": {
            "startup": false,
            "wait_interval": 0
          }
        }
      },
      "cell_type": "code",
      "source": [
        "class LM:\n",
        "    def __init__(self, **kwargs):\n",
        "        self.params = kwargs.pop('params', None)\n",
        "    \n",
        "    def compile_bidirectional(self, params={}):\n",
        "        \n",
        "        lm_inputs = Input(shape=(params['maxlen'], ), name='lm_input')\n",
        "        \n",
        "        embeddings = Embedding(params['vocab'], params['emb_feats'])(lm_inputs)\n",
        "        \n",
        "        lstm =  CuDNNLSTM(params['rnn_hidden'], return_sequences=True, name='rnn1')        \n",
        "        \n",
        "        lmlstm = Bidirectional(lstm)(embeddings)       \n",
        "        \n",
        "        stacklstm =  CuDNNLSTM(params['rnn_hidden'], return_sequences=False, name='stacked')\n",
        "        \n",
        "        stackedlstm = stacklstm(lmlstm)\n",
        "        \n",
        "        lmout = Dense(params['vocab'], activation='softmax')(stackedlstm)\n",
        "        \n",
        "        model = Model(lm_inputs, lmout)\n",
        "        \n",
        "        model.compile(optimizer='rmsprop', loss='categorical_crossentropy', metrics=['accuracy'])\n",
        "        \n",
        "        model.summary()\n",
        "        \n",
        "        return model\n",
        "        \n",
        "    def train(self, model, data, params={}):\n",
        "        \n",
        "        callbacks = self._get_callbacks()\n",
        "        \n",
        "        if 'shuffle' in params and params['shuffle']:\n",
        "            shuffle(data)\n",
        "            \n",
        "        sentences, next_chars = zip(*data)\n",
        "        print(sentences[0])\n",
        "        x = np.zeros((len(data), params['maxlen']))\n",
        "        y = np.zeros((len(data), params['vocab']))\n",
        "        for i, sentence in enumerate(sentences):\n",
        "            for t, char in enumerate(sentence):\n",
        "                x[i, t] = w2id[char] if char in w2id else w2id['<UNK>']\n",
        "            y[i, w2id[next_chars[i]] if next_chars[i] in w2id else w2id['<UNK>']]  = 1\n",
        "        \n",
        "        model.fit(x, y, batch_size=params['batch_size'], epochs=params['epochs'], callbacks=callbacks, verbose=1)\n",
        "\n",
        "    def predict(self, model, data, params={}):        \n",
        "        if 'use_embeddings' in params and params['use_embeddings']:\n",
        "            # variedad en las predicciones\n",
        "            for diversity in [0.2, 0.6, 1.2]:\n",
        "                print('----- diversity:', diversity)\n",
        "                sentence = copy(data)\n",
        "                generated = copy(data)\n",
        "                # cuantas predicciones queremos hacer\n",
        "                for i in range(len(data), 400):\n",
        "                    x_pred = np.zeros((1, params['maxlen']))\n",
        "                    # preparar inpunt\n",
        "                    for t, char in enumerate(sentence):\n",
        "                        x_pred[0, t] = w2id[char] if char in w2id else w2id['<UNK>']\n",
        "                    # predecir\n",
        "                    preds = self.model.predict(x_pred, verbose=0)[0]\n",
        "                    next_index = sample_pred(preds, diversity)\n",
        "                    next_char = id2w[next_index]\n",
        "                    # mirar si hemos terminado\n",
        "                    if next_char == '<EOS>':\n",
        "                        break\n",
        "                                           \n",
        "                    generated += [next_char]\n",
        "                    sentence = sentence[1:] \n",
        "                    sentence += [next_char]\n",
        "                print(''.join(generated))\n",
        "    \n",
        "    \n",
        "    def load(self, model_path='seq2seq_attn.h5'):\n",
        "        return load_model(model_path)\n",
        "    \n",
        "    def _get_callbacks(self, model_path='seq2seq_attn.h5'):\n",
        "        \n",
        "        \n",
        "        es = EarlyStopping(monitor='loss', patience=4, mode='auto', verbose=0)       \n",
        "        \n",
        "        save_best = ModelCheckpoint(model_path, monitor='loss', verbose = 0, save_best_only=True, save_weights_only=False, period=2)\n",
        "        st = Sampletest()\n",
        "        # hd = HistoryDisplay()\n",
        "        rlr = ReduceLROnPlateau(monitor='loss', factor=0.2, patience=3, min_lr=0.0001, verbose=1)\n",
        "        return [st, rlr]"
      ],
      "execution_count": 0,
      "outputs": []
    },
    {
      "metadata": {
        "id": "YBG5BVA91Z28",
        "colab_type": "text"
      },
      "cell_type": "markdown",
      "source": [
        "Definimos los hyperparámetros"
      ]
    },
    {
      "metadata": {
        "id": "6w8e5x4L1e6e",
        "colab_type": "code",
        "colab": {
          "autoexec": {
            "startup": false,
            "wait_interval": 0
          }
        }
      },
      "cell_type": "code",
      "source": [
        "compile_params = {\n",
        "    'maxlen': maxlen, \n",
        "    'vocab': len(vocab),\n",
        "    'emb_feats': 100,\n",
        "    'rnn_hidden': 256,\n",
        "}"
      ],
      "execution_count": 0,
      "outputs": []
    },
    {
      "metadata": {
        "id": "WSN2gx601jBt",
        "colab_type": "code",
        "colab": {
          "autoexec": {
            "startup": false,
            "wait_interval": 0
          }
        }
      },
      "cell_type": "code",
      "source": [
        "LOAD_MODEL = False\n",
        "bTrain = True"
      ],
      "execution_count": 0,
      "outputs": []
    },
    {
      "metadata": {
        "id": "lmRzxUYKWs1x",
        "colab_type": "text"
      },
      "cell_type": "markdown",
      "source": [
        "Procedemos a compilar. Gracias al callback early stopping se parará cuando pare de disminuir la val_loss."
      ]
    },
    {
      "metadata": {
        "id": "v8HIm6VW1mwV",
        "colab_type": "code",
        "colab": {
          "autoexec": {
            "startup": false,
            "wait_interval": 0
          },
          "base_uri": "https://localhost:8080/",
          "height": 306
        },
        "outputId": "146ac83d-2dda-4e65-f340-e7b22c7c82e6",
        "executionInfo": {
          "status": "ok",
          "timestamp": 1532257470673,
          "user_tz": -120,
          "elapsed": 9702,
          "user": {
            "displayName": "pedro oftalmo",
            "photoUrl": "https://lh3.googleusercontent.com/a/default-user=s128",
            "userId": "103534249081506905925"
          }
        }
      },
      "cell_type": "code",
      "source": [
        "lm = LM()\n",
        "if LOAD_MODEL:\n",
        "    path = 'final_{}.h5'.format(dtype)\n",
        "    lm_model = lm.load(model_path=path)\n",
        "    lm_model.summary()\n",
        "else:\n",
        "    lm_model = lm.compile_bidirectional(params=compile_params)   "
      ],
      "execution_count": 346,
      "outputs": [
        {
          "output_type": "stream",
          "text": [
            "_________________________________________________________________\n",
            "Layer (type)                 Output Shape              Param #   \n",
            "=================================================================\n",
            "lm_input (InputLayer)        (None, 5)                 0         \n",
            "_________________________________________________________________\n",
            "embedding_2 (Embedding)      (None, 5, 100)            6200      \n",
            "_________________________________________________________________\n",
            "bidirectional_1 (Bidirection (None, 5, 512)            733184    \n",
            "_________________________________________________________________\n",
            "stacked (CuDNNLSTM)          (None, 256)               788480    \n",
            "_________________________________________________________________\n",
            "dense_2 (Dense)              (None, 62)                15934     \n",
            "=================================================================\n",
            "Total params: 1,543,798\n",
            "Trainable params: 1,543,798\n",
            "Non-trainable params: 0\n",
            "_________________________________________________________________\n"
          ],
          "name": "stdout"
        }
      ]
    },
    {
      "metadata": {
        "id": "kY9fT-Ng1r44",
        "colab_type": "text"
      },
      "cell_type": "markdown",
      "source": [
        "Entrenamos el modelo"
      ]
    },
    {
      "metadata": {
        "id": "3-aYtrt71trc",
        "colab_type": "code",
        "colab": {
          "autoexec": {
            "startup": false,
            "wait_interval": 0
          },
          "base_uri": "https://localhost:8080/",
          "height": 4338
        },
        "outputId": "e6bb24ce-7e02-456f-a1b8-1ff6ddcd7193",
        "executionInfo": {
          "status": "ok",
          "timestamp": 1532264954750,
          "user_tz": -120,
          "elapsed": 3615,
          "user": {
            "displayName": "pedro oftalmo",
            "photoUrl": "https://lh3.googleusercontent.com/a/default-user=s128",
            "userId": "103534249081506905925"
          }
        }
      },
      "cell_type": "code",
      "source": [
        "train_params = {\n",
        "    'epochs': 250,\n",
        "    'batch_size': 256,\n",
        "    'shuffle': True,\n",
        "    'vocab': nb_vocab,\n",
        "    'maxlen': maxlen,\n",
        "    'use_embeddings': True\n",
        "}\n",
        "pp.pprint(train_params)\n",
        "if bTrain:\n",
        "    lm.train(model=lm_model, data=data_train, params=train_params)"
      ],
      "execution_count": 351,
      "outputs": [
        {
          "output_type": "stream",
          "text": [
            "{'batch_size': 256,\n",
            " 'epochs': 250,\n",
            " 'maxlen': 5,\n",
            " 'shuffle': True,\n",
            " 'use_embeddings': True,\n",
            " 'vocab': 62}\n",
            "['l', 'i', 'm', 'a', 't']\n",
            "Epoch 1/250\n",
            "257190/257190 [==============================] - 20s 79us/step - loss: 0.7233 - acc: 0.7506\n",
            "Epoch 2/250\n",
            " 49408/257190 [====>.........................] - ETA: 16s - loss: 0.7088 - acc: 0.7573"
          ],
          "name": "stdout"
        },
        {
          "output_type": "stream",
          "text": [
            "257190/257190 [==============================] - 20s 79us/step - loss: 0.7251 - acc: 0.7515\n",
            "Epoch 3/250\n",
            "257190/257190 [==============================] - 20s 79us/step - loss: 0.7252 - acc: 0.7517\n",
            "Epoch 4/250\n",
            " 33280/257190 [==>...........................] - ETA: 17s - loss: 0.7023 - acc: 0.7581"
          ],
          "name": "stdout"
        },
        {
          "output_type": "stream",
          "text": [
            "257190/257190 [==============================] - 20s 79us/step - loss: 0.7254 - acc: 0.7512\n",
            "\n",
            "Epoch 00004: ReduceLROnPlateau reducing learning rate to 0.00020000000949949026.\n",
            "Epoch 5/250\n",
            "210432/257190 [=======================>......] - ETA: 3s - loss: 0.6788 - acc: 0.7651"
          ],
          "name": "stdout"
        },
        {
          "output_type": "stream",
          "text": [
            "257190/257190 [==============================] - 20s 79us/step - loss: 0.6786 - acc: 0.7651\n",
            "----- diversity: 0.2\n",
            "<SOS>thanks to  # actonclimate change is a good for a fair hearing and a fair hearing about the president obama  # sotu\n",
            "----- diversity: 0.6\n",
            "<SOS>thanks to help more :  \n",
            "----- diversity: 1.2\n",
            "<SOS>thankution syste deal to us grow the  # college shown in here's job gt now for commonsence awa4 \n",
            "Epoch 6/250\n",
            "143104/257190 [===============>..............] - ETA: 9s - loss: 0.6629 - acc: 0.7693"
          ],
          "name": "stdout"
        },
        {
          "output_type": "stream",
          "text": [
            "257190/257190 [==============================] - 20s 79us/step - loss: 0.6691 - acc: 0.7661\n",
            "Epoch 7/250\n",
            "257190/257190 [==============================] - 20s 80us/step - loss: 0.6666 - acc: 0.7662\n",
            "Epoch 8/250\n",
            " 58624/257190 [=====>........................] - ETA: 15s - loss: 0.6519 - acc: 0.7735"
          ],
          "name": "stdout"
        },
        {
          "output_type": "stream",
          "text": [
            "257190/257190 [==============================] - 20s 79us/step - loss: 0.6655 - acc: 0.7663\n",
            "Epoch 9/250\n",
            "257190/257190 [==============================] - 20s 79us/step - loss: 0.6647 - acc: 0.7662\n",
            "----- diversity: 0.2\n",
            "<SOS>shipping the president obama  # sotu\n",
            "----- diversity: 0.6\n",
            "<SOS>shipping the enter now :  \n",
            "----- diversity: 1.2\n",
            "<SOS>ship and better —president obama\n",
            "Epoch 10/250\n",
            " 20224/257190 [=>............................] - ETA: 18s - loss: 0.6478 - acc: 0.7704"
          ],
          "name": "stdout"
        },
        {
          "output_type": "stream",
          "text": [
            "257190/257190 [==============================] - 20s 79us/step - loss: 0.6642 - acc: 0.7662\n",
            "Epoch 11/250\n",
            "257190/257190 [==============================] - 20s 79us/step - loss: 0.6640 - acc: 0.7662\n",
            "Epoch 12/250\n",
            " 24064/257190 [=>............................] - ETA: 18s - loss: 0.6622 - acc: 0.7681"
          ],
          "name": "stdout"
        },
        {
          "output_type": "stream",
          "text": [
            "257190/257190 [==============================] - 20s 79us/step - loss: 0.6635 - acc: 0.7662\n",
            "Epoch 13/250\n",
            "257190/257190 [==============================] - 20s 79us/step - loss: 0.6633 - acc: 0.7659\n",
            "----- diversity: 0.2\n",
            "<SOS>senate leaders shouldn't be a part of the president obama  # sotu\n",
            "----- diversity: 0.6\n",
            "<SOS>senate leaders to the next generation in the president obama is speak about being and if we retready are why president obama  # sotu\n",
            "----- diversity: 1.2\n",
            "<SOS>senate leaders  # iran's pay checks from discussee congress—share people careers are coerty rate \n",
            "Epoch 14/250\n",
            "  9472/257190 [>.............................] - ETA: 19s - loss: 0.6281 - acc: 0.7748"
          ],
          "name": "stdout"
        },
        {
          "output_type": "stream",
          "text": [
            "257190/257190 [==============================] - 20s 79us/step - loss: 0.6630 - acc: 0.7660\n",
            "Epoch 15/250\n",
            "257190/257190 [==============================] - 20s 80us/step - loss: 0.6629 - acc: 0.7661\n",
            "Epoch 16/250\n",
            " 18688/257190 [=>............................] - ETA: 19s - loss: 0.6438 - acc: 0.7759"
          ],
          "name": "stdout"
        },
        {
          "output_type": "stream",
          "text": [
            "257190/257190 [==============================] - 20s 80us/step - loss: 0.6627 - acc: 0.7663\n",
            "Epoch 17/250\n",
            "257190/257190 [==============================] - 20s 79us/step - loss: 0.6624 - acc: 0.7656\n",
            "----- diversity: 0.2\n",
            "<SOS>on the president obama  # actonclimate change :  \n",
            "----- diversity: 0.6\n",
            "<SOS>on the fight to fight take a status quo —president obama  # sotu\n",
            "----- diversity: 1.2\n",
            "<SOS>on the nations for about hardworking works hardworking up forward to our his read more impacting to helps up the fighting over a  # connected more :  the 1jus nomination to hearingorange :  economy—thath moral assault :  \n",
            "Epoch 18/250\n",
            "  7936/257190 [..............................] - ETA: 19s - loss: 0.6531 - acc: 0.7741"
          ],
          "name": "stdout"
        },
        {
          "output_type": "stream",
          "text": [
            "257190/257190 [==============================] - 20s 79us/step - loss: 0.6623 - acc: 0.7662\n",
            "Epoch 19/250\n",
            "257190/257190 [==============================] - 20s 79us/step - loss: 0.6622 - acc: 0.7654\n",
            "Epoch 20/250\n",
            " 19456/257190 [=>............................] - ETA: 18s - loss: 0.6583 - acc: 0.7666"
          ],
          "name": "stdout"
        },
        {
          "output_type": "stream",
          "text": [
            "257190/257190 [==============================] - 20s 79us/step - loss: 0.6622 - acc: 0.7656\n",
            "Epoch 21/250\n",
            "257190/257190 [==============================] - 20s 79us/step - loss: 0.6621 - acc: 0.7657\n",
            "----- diversity: 0.2\n",
            "<SOS>the president obama  # immigration the senate leaders to  # actonclimate change :  \n",
            "----- diversity: 0.6\n",
            "<SOS>the economy and i are make sure you agree :  \n",
            "----- diversity: 1.2\n",
            "<SOS>the excuses for us sexual as helped more :  \n",
            "Epoch 22/250\n",
            " 11008/257190 [>.............................] - ETA: 19s - loss: 0.6361 - acc: 0.7750"
          ],
          "name": "stdout"
        },
        {
          "output_type": "stream",
          "text": [
            "257190/257190 [==============================] - 20s 79us/step - loss: 0.6619 - acc: 0.7657\n",
            "Epoch 23/250\n",
            "257190/257190 [==============================] - 20s 79us/step - loss: 0.6618 - acc: 0.7658\n",
            "Epoch 24/250\n",
            " 19456/257190 [=>............................] - ETA: 18s - loss: 0.6534 - acc: 0.7681"
          ],
          "name": "stdout"
        },
        {
          "output_type": "stream",
          "text": [
            "257190/257190 [==============================] - 20s 79us/step - loss: 0.6618 - acc: 0.7654\n",
            "Epoch 25/250\n",
            "257190/257190 [==============================] - 20s 79us/step - loss: 0.6617 - acc: 0.7657\n",
            "----- diversity: 0.2\n",
            "<SOS>meaningful sign up for the work to do the  # sotu\n",
            "----- diversity: 0.6\n",
            "<SOS>meaningforces\n",
            "----- diversity: 1.2\n",
            "<SOS>meaningforce basic :  \n",
            "Epoch 26/250\n",
            " 14080/257190 [>.............................] - ETA: 19s - loss: 0.6386 - acc: 0.7752"
          ],
          "name": "stdout"
        },
        {
          "output_type": "stream",
          "text": [
            "257190/257190 [==============================] - 20s 79us/step - loss: 0.6616 - acc: 0.7654\n",
            "Epoch 27/250\n",
            "257190/257190 [==============================] - 20s 79us/step - loss: 0.6615 - acc: 0.7657\n",
            "Epoch 28/250\n",
            " 21760/257190 [=>............................] - ETA: 18s - loss: 0.6630 - acc: 0.7675"
          ],
          "name": "stdout"
        },
        {
          "output_type": "stream",
          "text": [
            "257190/257190 [==============================] - 20s 79us/step - loss: 0.6615 - acc: 0.7654\n",
            "Epoch 29/250\n",
            "257190/257190 [==============================] - 20s 79us/step - loss: 0.6615 - acc: 0.7655\n",
            "----- diversity: 0.2\n",
            "<SOS>new reporters :  \n",
            "----- diversity: 0.6\n",
            "<SOS>new reporters :  \n",
            "----- diversity: 1.2\n",
            "<SOS>new jobs \n",
            "Epoch 30/250\n",
            " 15616/257190 [>.............................] - ETA: 19s - loss: 0.6337 - acc: 0.7765"
          ],
          "name": "stdout"
        },
        {
          "output_type": "stream",
          "text": [
            "257190/257190 [==============================] - 20s 79us/step - loss: 0.6614 - acc: 0.7658\n",
            "Epoch 31/250\n",
            "257190/257190 [==============================] - 20s 79us/step - loss: 0.6613 - acc: 0.7656\n",
            "Epoch 32/250\n",
            " 22528/257190 [=>............................] - ETA: 18s - loss: 0.6509 - acc: 0.7715"
          ],
          "name": "stdout"
        },
        {
          "output_type": "stream",
          "text": [
            "257190/257190 [==============================] - 20s 79us/step - loss: 0.6614 - acc: 0.7654\n",
            "Epoch 33/250\n",
            "257190/257190 [==============================] - 20s 79us/step - loss: 0.6611 - acc: 0.7660\n",
            "----- diversity: 0.2\n",
            "<SOS>get the fight for a fair health care is a big deadline :  \n",
            "----- diversity: 0.6\n",
            "<SOS>get a fair hear the troops  # fixoverty rate the president obama  # sotu\n",
            "----- diversity: 1.2\n",
            "<SOS>get your name if you checks for qualificancer supported \n",
            "Epoch 34/250\n",
            " 11008/257190 [>.............................] - ETA: 19s - loss: 0.6441 - acc: 0.7727"
          ],
          "name": "stdout"
        },
        {
          "output_type": "stream",
          "text": [
            "257190/257190 [==============================] - 20s 79us/step - loss: 0.6612 - acc: 0.7656\n",
            "Epoch 35/250\n",
            "257190/257190 [==============================] - 20s 79us/step - loss: 0.6611 - acc: 0.7658\n",
            "Epoch 36/250\n",
            " 20224/257190 [=>............................] - ETA: 18s - loss: 0.6316 - acc: 0.7798"
          ],
          "name": "stdout"
        },
        {
          "output_type": "stream",
          "text": [
            "257190/257190 [==============================] - 20s 79us/step - loss: 0.6612 - acc: 0.7655\n",
            "\n",
            "Epoch 00036: ReduceLROnPlateau reducing learning rate to 0.0001.\n",
            "Epoch 37/250\n",
            "218880/257190 [========================>.....] - ETA: 3s - loss: 0.6515 - acc: 0.7687"
          ],
          "name": "stdout"
        },
        {
          "output_type": "stream",
          "text": [
            "257190/257190 [==============================] - 20s 79us/step - loss: 0.6524 - acc: 0.7680\n",
            "----- diversity: 0.2\n",
            "<SOS>by all of us to get a fair hearing about the president obama  # sotu\n",
            "----- diversity: 0.6\n",
            "<SOS>by all the president obama  # actonclimate \n",
            "----- diversity: 1.2\n",
            "<SOS>by almost betweet to vote is :  presence added to lead all of immigration  # enough lowpaying about this could be eligion —president obama  # nation is speaking we lost on climate\n",
            "Epoch 38/250\n",
            "129280/257190 [==============>...............] - ETA: 10s - loss: 0.6436 - acc: 0.7721"
          ],
          "name": "stdout"
        },
        {
          "output_type": "stream",
          "text": [
            "257190/257190 [==============================] - 20s 79us/step - loss: 0.6518 - acc: 0.7681\n",
            "Epoch 39/250\n",
            "257190/257190 [==============================] - 20s 79us/step - loss: 0.6515 - acc: 0.7683\n",
            "Epoch 40/250\n",
            " 54784/257190 [=====>........................] - ETA: 16s - loss: 0.6429 - acc: 0.7731"
          ],
          "name": "stdout"
        },
        {
          "output_type": "stream",
          "text": [
            "257190/257190 [==============================] - 20s 79us/step - loss: 0.6516 - acc: 0.7678\n",
            "Epoch 41/250\n",
            "257190/257190 [==============================] - 20s 79us/step - loss: 0.6515 - acc: 0.7681\n",
            "----- diversity: 0.2\n",
            "<SOS>there's to  # actonclimate change :  \n",
            "----- diversity: 0.6\n",
            "<SOS>there's to  # actonclimate change :  \n",
            "----- diversity: 1.2\n",
            "<SOS>there's nomination waters in california continue that she best power plan to helps fight year \n",
            "Epoch 42/250\n",
            " 16384/257190 [>.............................] - ETA: 18s - loss: 0.6494 - acc: 0.7719"
          ],
          "name": "stdout"
        },
        {
          "output_type": "stream",
          "text": [
            "257190/257190 [==============================] - 20s 79us/step - loss: 0.6515 - acc: 0.7681\n",
            "Epoch 43/250\n",
            "257190/257190 [==============================] - 20s 79us/step - loss: 0.6515 - acc: 0.7680\n",
            "Epoch 44/250\n",
            " 21760/257190 [=>............................] - ETA: 18s - loss: 0.6503 - acc: 0.7712"
          ],
          "name": "stdout"
        },
        {
          "output_type": "stream",
          "text": [
            "257190/257190 [==============================] - 20s 79us/step - loss: 0.6514 - acc: 0.7680\n",
            "Epoch 45/250\n",
            "257190/257190 [==============================] - 20s 79us/step - loss: 0.6514 - acc: 0.7679\n",
            "----- diversity: 0.2\n",
            "<SOS>it's time to stay in the president obama  # sotu\n",
            "----- diversity: 0.6\n",
            "<SOS>it's late president obama\n",
            "----- diversity: 1.2\n",
            "<SOS>it's nominee paid for movementary men and turn a decades as nothing president obama \n",
            "Epoch 46/250\n",
            " 11776/257190 [>.............................] - ETA: 19s - loss: 0.6358 - acc: 0.7767"
          ],
          "name": "stdout"
        },
        {
          "output_type": "stream",
          "text": [
            "257190/257190 [==============================] - 20s 79us/step - loss: 0.6514 - acc: 0.7676\n",
            "Epoch 47/250\n",
            "257190/257190 [==============================] - 20s 79us/step - loss: 0.6515 - acc: 0.7679\n",
            "Epoch 48/250\n",
            " 20992/257190 [=>............................] - ETA: 18s - loss: 0.6389 - acc: 0.7752"
          ],
          "name": "stdout"
        },
        {
          "output_type": "stream",
          "text": [
            "257190/257190 [==============================] - 20s 79us/step - loss: 0.6514 - acc: 0.7678\n",
            "Epoch 49/250\n",
            "257190/257190 [==============================] - 20s 79us/step - loss: 0.6514 - acc: 0.7681\n",
            "----- diversity: 0.2\n",
            "<SOS>long as longest street read more that make sure you agree :  \n",
            "----- diversity: 0.6\n",
            "<SOS>long at the right to working to do \n",
            "----- diversity: 1.2\n",
            "<SOS>long entire prepared  # doyourjob and technology dropped in —president obama \n",
            "Epoch 50/250\n",
            " 11776/257190 [>.............................] - ETA: 19s - loss: 0.6539 - acc: 0.7685"
          ],
          "name": "stdout"
        },
        {
          "output_type": "stream",
          "text": [
            "257190/257190 [==============================] - 20s 79us/step - loss: 0.6514 - acc: 0.7678\n",
            "Epoch 51/250\n",
            "257190/257190 [==============================] - 20s 79us/step - loss: 0.6513 - acc: 0.7676\n",
            "Epoch 52/250\n",
            " 20992/257190 [=>............................] - ETA: 18s - loss: 0.6445 - acc: 0.7726"
          ],
          "name": "stdout"
        },
        {
          "output_type": "stream",
          "text": [
            "257190/257190 [==============================] - 20s 79us/step - loss: 0.6513 - acc: 0.7679\n",
            "Epoch 53/250\n",
            "257190/257190 [==============================] - 20s 79us/step - loss: 0.6512 - acc: 0.7679\n",
            "----- diversity: 0.2\n",
            "<SOS>fact :  \n",
            "----- diversity: 0.6\n",
            "<SOS>fact :  \n",
            "----- diversity: 1.2\n",
            "<SOS>facts—sign the happy fourth of july every americans aan’s prime rules before takes us that srign on immigration my people what ? \n",
            "Epoch 54/250\n",
            " 12544/257190 [>.............................] - ETA: 19s - loss: 0.6432 - acc: 0.7719"
          ],
          "name": "stdout"
        },
        {
          "output_type": "stream",
          "text": [
            "257190/257190 [==============================] - 20s 79us/step - loss: 0.6513 - acc: 0.7682\n",
            "Epoch 55/250\n",
            "257190/257190 [==============================] - 20s 79us/step - loss: 0.6513 - acc: 0.7679\n",
            "Epoch 56/250\n",
            " 20224/257190 [=>............................] - ETA: 18s - loss: 0.6371 - acc: 0.7768"
          ],
          "name": "stdout"
        },
        {
          "output_type": "stream",
          "text": [
            "257190/257190 [==============================] - 20s 79us/step - loss: 0.6513 - acc: 0.7678\n",
            "Epoch 57/250\n",
            "257190/257190 [==============================] - 20s 79us/step - loss: 0.6513 - acc: 0.7680\n",
            "----- diversity: 0.2\n",
            "<SOS>read more that we can still more the president obama  # sotu\n",
            "----- diversity: 0.6\n",
            "<SOS>read more world cut carbon pollution of health care is a continue the  # sotu \n",
            "----- diversity: 1.2\n",
            "<SOS>read disease america —president obama \n",
            "Epoch 58/250\n",
            " 11776/257190 [>.............................] - ETA: 19s - loss: 0.6426 - acc: 0.7742"
          ],
          "name": "stdout"
        },
        {
          "output_type": "stream",
          "text": [
            "257190/257190 [==============================] - 20s 79us/step - loss: 0.6513 - acc: 0.7679\n",
            "Epoch 59/250\n",
            "257190/257190 [==============================] - 20s 79us/step - loss: 0.6513 - acc: 0.7678\n",
            "Epoch 60/250\n",
            " 20992/257190 [=>............................] - ETA: 18s - loss: 0.6406 - acc: 0.7778"
          ],
          "name": "stdout"
        },
        {
          "output_type": "stream",
          "text": [
            "257190/257190 [==============================] - 20s 80us/step - loss: 0.6513 - acc: 0.7677\n",
            "Epoch 61/250\n",
            "257190/257190 [==============================] - 20s 79us/step - loss: 0.6513 - acc: 0.7678\n",
            "----- diversity: 0.2\n",
            "<SOS>read more than reporters are working about the supreme court nominee to stay in the weekly address to  # actonclimate change :  \n",
            "----- diversity: 0.6\n",
            "<SOS>read how technology is going the way that start 2015 :  \n",
            "----- diversity: 1.2\n",
            "<SOS>ready to your succeed\n",
            "Epoch 62/250\n",
            " 11008/257190 [>.............................] - ETA: 19s - loss: 0.6300 - acc: 0.7737"
          ],
          "name": "stdout"
        },
        {
          "output_type": "stream",
          "text": [
            "257190/257190 [==============================] - 20s 79us/step - loss: 0.6512 - acc: 0.7675\n",
            "Epoch 63/250\n",
            "257190/257190 [==============================] - 20s 79us/step - loss: 0.6512 - acc: 0.7678\n",
            "Epoch 64/250\n",
            " 20992/257190 [=>............................] - ETA: 18s - loss: 0.6366 - acc: 0.7766"
          ],
          "name": "stdout"
        },
        {
          "output_type": "stream",
          "text": [
            "257190/257190 [==============================] - 20s 79us/step - loss: 0.6513 - acc: 0.7676\n",
            "Epoch 65/250\n",
            "257190/257190 [==============================] - 20s 79us/step - loss: 0.6513 - acc: 0.7675\n",
            "----- diversity: 0.2\n",
            "<SOS>it's time to stay in the weekly address to  # actonclimate change is a big deal \n",
            "----- diversity: 0.6\n",
            "<SOS>it's time to give americans are making economy will help protect it —president obama  # sotu\n",
            "----- diversity: 1.2\n",
            "<SOS>it's businesses efforts 's no better for america's critical for us to keep their job and madeleinable can ma—'ere walking travel what work toigh among level america\n",
            "Epoch 66/250\n",
            "  8704/257190 [>.............................] - ETA: 19s - loss: 0.6399 - acc: 0.7727"
          ],
          "name": "stdout"
        },
        {
          "output_type": "stream",
          "text": [
            "257190/257190 [==============================] - 20s 79us/step - loss: 0.6512 - acc: 0.7676\n",
            "Epoch 67/250\n",
            "257190/257190 [==============================] - 20s 79us/step - loss: 0.6513 - acc: 0.7677\n",
            "Epoch 68/250\n",
            " 20224/257190 [=>............................] - ETA: 18s - loss: 0.6593 - acc: 0.7683"
          ],
          "name": "stdout"
        },
        {
          "output_type": "stream",
          "text": [
            "257190/257190 [==============================] - 20s 79us/step - loss: 0.6512 - acc: 0.7678\n",
            "Epoch 69/250\n",
            "257190/257190 [==============================] - 20s 79us/step - loss: 0.6512 - acc: 0.7676\n",
            "----- diversity: 0.2\n",
            "<SOS>carry what it your name if you agree :  \n",
            "----- diversity: 0.6\n",
            "<SOS>carry hit the next generation issues your name to get the most of the world \n",
            "----- diversity: 1.2\n",
            "<SOS>carry about —president obama\n",
            "Epoch 70/250\n",
            " 12544/257190 [>.............................] - ETA: 19s - loss: 0.6513 - acc: 0.7702"
          ],
          "name": "stdout"
        },
        {
          "output_type": "stream",
          "text": [
            "116224/257190 [============>.................] - ETA: 11s - loss: 0.6483 - acc: 0.7705Buffered data was truncated after reaching the output size limit."
          ],
          "name": "stdout"
        }
      ]
    },
    {
      "metadata": {
        "id": "9MzVyqagHQFp",
        "colab_type": "text"
      },
      "cell_type": "markdown",
      "source": [
        "Tras realizar una evaluación se observa que la generación de twits es adecuada, pero mejorable con un mayor número de épocas o twits de entrada. Pero debido a los problemas de conexión con Google Collab, a pesar de que se ve que se están generando twits muchas veces se corta antes de llegar al final del entrenamiento. Lo único que faltaría sería calcular la perplexity que es el número de opciones que tiene el modelo, pero por las cuestiones técnicas comentadas no se ha podido realizar (aunque sólo es aplicar una fórmula e intentar que el valor sea lo más bajo posible ya que eso indicará que el algoritmo predice con mayor exactitud)."
      ]
    },
    {
      "metadata": {
        "id": "RbPaxKkKTTV_",
        "colab_type": "text"
      },
      "cell_type": "markdown",
      "source": [
        "#GENERAL"
      ]
    },
    {
      "metadata": {
        "id": "7tGQYy86wjbe",
        "colab_type": "code",
        "colab": {
          "autoexec": {
            "startup": false,
            "wait_interval": 0
          }
        }
      },
      "cell_type": "code",
      "source": [
        ""
      ],
      "execution_count": 0,
      "outputs": []
    },
    {
      "metadata": {
        "id": "6YbqmYDSTWBp",
        "colab_type": "code",
        "colab": {
          "autoexec": {
            "startup": false,
            "wait_interval": 0
          }
        }
      },
      "cell_type": "code",
      "source": [
        "!cat /proc/meminfo"
      ],
      "execution_count": 0,
      "outputs": []
    },
    {
      "metadata": {
        "id": "-tOG1I1hTcWj",
        "colab_type": "code",
        "colab": {
          "autoexec": {
            "startup": false,
            "wait_interval": 0
          },
          "base_uri": "https://localhost:8080/",
          "height": 85
        },
        "outputId": "d2304f73-3b0c-4eb3-f197-79bd28f56492",
        "executionInfo": {
          "status": "ok",
          "timestamp": 1532094296022,
          "user_tz": -120,
          "elapsed": 1742,
          "user": {
            "displayName": "pedro oftalmo",
            "photoUrl": "https://lh3.googleusercontent.com/a/default-user=s128",
            "userId": "103534249081506905925"
          }
        }
      },
      "cell_type": "code",
      "source": [
        "!ls"
      ],
      "execution_count": 143,
      "outputs": [
        {
          "output_type": "stream",
          "text": [
            "datalab\t\t\t   train_sentiment_utf8 (1).csv\r\n",
            "glove.twitter.27B.25d.txt  train_sentiment_utf8.csv\r\n",
            "modelv3c.h5\t\t   train_sentiment_utf8.csv.1\r\n",
            "nltk_data\t\t   train_sentiment_utf8.csv.zip\r\n"
          ],
          "name": "stdout"
        }
      ]
    },
    {
      "metadata": {
        "id": "fLGlMjpAwx_N",
        "colab_type": "text"
      },
      "cell_type": "markdown",
      "source": [
        "#Download Drive"
      ]
    },
    {
      "metadata": {
        "id": "8r1XM_yrw3wq",
        "colab_type": "code",
        "colab": {
          "autoexec": {
            "startup": false,
            "wait_interval": 0
          },
          "base_uri": "https://localhost:8080/",
          "height": 51
        },
        "outputId": "6a503e2a-a8b1-48ad-d3cd-34a2fc87a0be",
        "executionInfo": {
          "status": "ok",
          "timestamp": 1532252886498,
          "user_tz": -120,
          "elapsed": 4430,
          "user": {
            "displayName": "pedro oftalmo",
            "photoUrl": "https://lh3.googleusercontent.com/a/default-user=s128",
            "userId": "103534249081506905925"
          }
        }
      },
      "cell_type": "code",
      "source": [
        "!pip install -U -q PyDrive\n",
        " \n",
        "from pydrive.auth import GoogleAuth\n",
        "from pydrive.drive import GoogleDrive\n",
        "from google.colab import auth\n",
        "from oauth2client.client import GoogleCredentials"
      ],
      "execution_count": 182,
      "outputs": [
        {
          "output_type": "stream",
          "text": [
            "\u001b[33mYou are using pip version 10.0.1, however version 18.0 is available.\r\n",
            "You should consider upgrading via the 'pip install --upgrade pip' command.\u001b[0m\r\n"
          ],
          "name": "stdout"
        }
      ]
    },
    {
      "metadata": {
        "id": "AAwTswTexZd6",
        "colab_type": "code",
        "colab": {
          "autoexec": {
            "startup": false,
            "wait_interval": 0
          }
        }
      },
      "cell_type": "code",
      "source": [
        "auth.authenticate_user()\n",
        "gauth = GoogleAuth()\n",
        "gauth.credentials = GoogleCredentials.get_application_default()\n",
        "drive = GoogleDrive(gauth)"
      ],
      "execution_count": 0,
      "outputs": []
    },
    {
      "metadata": {
        "id": "cinB3PTRxcng",
        "colab_type": "code",
        "colab": {
          "autoexec": {
            "startup": false,
            "wait_interval": 0
          },
          "base_uri": "https://localhost:8080/",
          "height": 374
        },
        "outputId": "e2554d16-0a2c-4413-81ef-8189b990ee3f",
        "executionInfo": {
          "status": "ok",
          "timestamp": 1532252922473,
          "user_tz": -120,
          "elapsed": 2192,
          "user": {
            "displayName": "pedro oftalmo",
            "photoUrl": "https://lh3.googleusercontent.com/a/default-user=s128",
            "userId": "103534249081506905925"
          }
        }
      },
      "cell_type": "code",
      "source": [
        "file_list = drive.ListFile({'q': \"'root' in parents and trashed=false\"}).GetList()\n",
        "for file1 in file_list:\n",
        "  print('title: %s, id: %s' % (file1['title'], file1['id']))"
      ],
      "execution_count": 184,
      "outputs": [
        {
          "output_type": "stream",
          "text": [
            "title: PracticaTemplate_RL_v7.ipynb, id: 10_0froV2P0lEpe02smxuti7XeHCfs4oJ\n",
            "title: glove.twitter.27B.25d.txt, id: 1ALzVXpBXyFayEAw7H3XqSK-2S87Mviky\n",
            "title: NLP, id: 10FEV3gmXKlR79OrxjV9PE3JE3nIvKoON\n",
            "title: modelv3e.h5, id: 1anzEUt-vHzxzhyRYJJOyLs2tI_ASDKOK\n",
            "title: modelv3d.h5, id: 1CvsqKt9SmiFmXA63O7DnohFX6J-aXjFy\n",
            "title: modelv3c.h5, id: 1QWw2GXH0EbvttF9aPkV3qVhS5_13RA3o\n",
            "title: modelv3b2.h5, id: 1PWMMtZEu44JnUApsdB3489JEdL-GwDO7\n",
            "title: modelv3b.h5, id: 1pf-KLdz943TC6EpYWJ8nSeKLnkrT6_PT\n",
            "title: modelv3a.h5, id: 1aeBQbouNZHqDlmbnY2lIpbF7c7aUeAHN\n",
            "title: model1.h5, id: 1rvuBgAZLTgEO1sZWI4KgYlHyJESDz0i-\n",
            "title: features2.pkl, id: 1SluXk3vsDHziRQFwiUfBaZ4mMItn_jCs\n",
            "title: features.pkl, id: 1_-ynzR6pNKiQQG_3RZdOwolVrZ3lNNXp\n",
            "title: modelv3e.h5, id: 1p6ugPAvubUIsOUNtvfEk9Oe9smEiGLJX\n",
            "title: modelv3d.h5, id: 1NtdRsw4u7kaVr8xztiBTRCrqY90TehyF\n",
            "title: modelv3c.h5, id: 1OHFM2H3EmGByyvB7SP89_ibA-9zEA4Lw\n",
            "title: modelv3b.h5, id: 19KOxfKQemOcYhimyEXcC4N_J_bXQYwwr\n",
            "title: modelv3.h5, id: 1vLKGAOvRgDoyHkM4aawrLzGYSnr59Ipx\n",
            "title: folder_id, id: 1-jWp70cvfrS9o40zOoYE5PCVz0R5bCkG\n",
            "title: colab, id: 1hMtJsn3gcTZQ4zshq_fG8e7ejNOybENL\n",
            "title: Colab Notebooks, id: 1Q6ui_8vea83CgCvIiXz54rF6cZSNM15d\n",
            "title: PracticaFinal.zip, id: 1A-nczWv-4X2sJaCYmk02BF5Mp7nhKqvI\n"
          ],
          "name": "stdout"
        }
      ]
    },
    {
      "metadata": {
        "id": "hGK01ql5xoNq",
        "colab_type": "code",
        "colab": {
          "autoexec": {
            "startup": false,
            "wait_interval": 0
          }
        }
      },
      "cell_type": "code",
      "source": [
        "train_downloaded = drive.CreateFile({'id': '1ALzVXpBXyFayEAw7H3XqSK-2S87Mviky'})\n",
        "train_downloaded.GetContentFile('glove.twitter.27B.25d.txt')"
      ],
      "execution_count": 0,
      "outputs": []
    },
    {
      "metadata": {
        "id": "F1ST6CSLwiEc",
        "colab_type": "code",
        "colab": {
          "autoexec": {
            "startup": false,
            "wait_interval": 0
          },
          "base_uri": "https://localhost:8080/",
          "height": 459
        },
        "outputId": "bd260760-957d-4ec7-e98b-90042da21c65",
        "executionInfo": {
          "status": "ok",
          "timestamp": 1532248703706,
          "user_tz": -120,
          "elapsed": 9983,
          "user": {
            "displayName": "pedro oftalmo",
            "photoUrl": "https://lh3.googleusercontent.com/a/default-user=s128",
            "userId": "103534249081506905925"
          }
        }
      },
      "cell_type": "code",
      "source": [
        "# memory footprint support libraries/code\n",
        "!ln -sf /opt/bin/nvidia-smi /usr/bin/nvidia-smi\n",
        "!pip install gputil\n",
        "!pip install psutil\n",
        "!pip install humanize\n",
        "import psutil\n",
        "import humanize\n",
        "import os\n",
        "import GPUtil as GPU\n",
        "GPUs = GPU.getGPUs()\n",
        "# XXX: only one GPU on Colab and isn’t guaranteed\n",
        "gpu = GPUs[0]\n",
        "def printm():\n",
        " process = psutil.Process(os.getpid())\n",
        " print(\"Gen RAM Free: \" + humanize.naturalsize( psutil.virtual_memory().available ), \" | Proc size: \" + humanize.naturalsize( process.memory_info().rss))\n",
        " print(\"GPU RAM Free: {0:.0f}MB | Used: {1:.0f}MB | Util {2:3.0f}% | Total {3:.0f}MB\".format(gpu.memoryFree, gpu.memoryUsed, gpu.memoryUtil*100, gpu.memoryTotal))\n",
        "printm()"
      ],
      "execution_count": 2,
      "outputs": [
        {
          "output_type": "stream",
          "text": [
            "Collecting gputil\n",
            "  Downloading https://files.pythonhosted.org/packages/45/99/837428d26b47ebd6b66d6e1b180e98ec4a557767a93a81a02ea9d6242611/GPUtil-1.3.0.tar.gz\n",
            "Requirement already satisfied: numpy in /usr/local/lib/python3.6/dist-packages (from gputil) (1.14.5)\n",
            "Building wheels for collected packages: gputil\n",
            "  Running setup.py bdist_wheel for gputil ... \u001b[?25l-\b \bdone\n",
            "\u001b[?25h  Stored in directory: /content/.cache/pip/wheels/17/0f/04/b79c006972335e35472c0b835ed52bfc0815258d409f560108\n",
            "Successfully built gputil\n",
            "Installing collected packages: gputil\n",
            "Successfully installed gputil-1.3.0\n",
            "\u001b[33mYou are using pip version 10.0.1, however version 18.0 is available.\n",
            "You should consider upgrading via the 'pip install --upgrade pip' command.\u001b[0m\n",
            "Requirement already satisfied: psutil in /usr/local/lib/python3.6/dist-packages (5.4.6)\n",
            "\u001b[33mYou are using pip version 10.0.1, however version 18.0 is available.\n",
            "You should consider upgrading via the 'pip install --upgrade pip' command.\u001b[0m\n",
            "Collecting humanize\n",
            "  Downloading https://files.pythonhosted.org/packages/8c/e0/e512e4ac6d091fc990bbe13f9e0378f34cf6eecd1c6c268c9e598dcf5bb9/humanize-0.5.1.tar.gz\n",
            "Building wheels for collected packages: humanize\n",
            "  Running setup.py bdist_wheel for humanize ... \u001b[?25l-\b \b\\\b \bdone\n",
            "\u001b[?25h  Stored in directory: /content/.cache/pip/wheels/69/86/6c/f8b8593bc273ec4b0c653d3827f7482bb2001a2781a73b7f44\n",
            "Successfully built humanize\n",
            "Installing collected packages: humanize\n",
            "Successfully installed humanize-0.5.1\n",
            "\u001b[33mYou are using pip version 10.0.1, however version 18.0 is available.\n",
            "You should consider upgrading via the 'pip install --upgrade pip' command.\u001b[0m\n",
            "Gen RAM Free: 11.9 GB  | Proc size: 1.0 GB\n",
            "GPU RAM Free: 564MB | Used: 10875MB | Util  95% | Total 11439MB\n"
          ],
          "name": "stdout"
        }
      ]
    },
    {
      "metadata": {
        "id": "ygEHc0NqxVyi",
        "colab_type": "code",
        "colab": {
          "autoexec": {
            "startup": false,
            "wait_interval": 0
          },
          "base_uri": "https://localhost:8080/",
          "height": 34
        },
        "outputId": "9d765138-02ea-499a-ad1c-84464f8e4984",
        "executionInfo": {
          "status": "ok",
          "timestamp": 1532248684622,
          "user_tz": -120,
          "elapsed": 8906,
          "user": {
            "displayName": "pedro oftalmo",
            "photoUrl": "https://lh3.googleusercontent.com/a/default-user=s128",
            "userId": "103534249081506905925"
          }
        }
      },
      "cell_type": "code",
      "source": [
        "import tensorflow as tf\n",
        "tf.test.gpu_device_name()"
      ],
      "execution_count": 1,
      "outputs": [
        {
          "output_type": "execute_result",
          "data": {
            "text/plain": [
              "'/device:GPU:0'"
            ]
          },
          "metadata": {
            "tags": []
          },
          "execution_count": 1
        }
      ]
    }
  ]
}